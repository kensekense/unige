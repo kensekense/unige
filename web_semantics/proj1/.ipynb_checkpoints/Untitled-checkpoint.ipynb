{
 "cells": [
  {
   "cell_type": "code",
   "execution_count": 2,
   "metadata": {},
   "outputs": [
    {
     "name": "stderr",
     "output_type": "stream",
     "text": [
      "/usr/lib/python3/dist-packages/bs4/__init__.py:219: UserWarning: \"b'./GPX_Tracks/GPX_Tracks/4sDDFdd4cjA.gpx'\" looks like a filename, not markup. You should probably open this file and pass the filehandle into Beautiful Soup.\n",
      "  ' Beautiful Soup.' % markup)\n"
     ]
    }
   ],
   "source": [
    "#Ning and Zhang\n",
    "#01 November 2019\n",
    "#The Korea-China Special\n",
    "\n",
    "from bs4 import BeautifulSoup\n",
    "filepath = \"./GPX_Tracks/GPX_Tracks/4sDDFdd4cjA.gpx\"\n",
    "fp = open(filepath, \"r\")\n",
    "#need to update the filepath\n",
    "soup = BeautifulSoup(filepath, 'xml') #soupify the XML data"
   ]
  },
  {
   "cell_type": "code",
   "execution_count": null,
   "metadata": {},
   "outputs": [],
   "source": []
  }
 ],
 "metadata": {
  "kernelspec": {
   "display_name": "Python 3",
   "language": "python",
   "name": "python3"
  },
  "language_info": {
   "codemirror_mode": {
    "name": "ipython",
    "version": 3
   },
   "file_extension": ".py",
   "mimetype": "text/x-python",
   "name": "python",
   "nbconvert_exporter": "python",
   "pygments_lexer": "ipython3",
   "version": "3.6.6"
  }
 },
 "nbformat": 4,
 "nbformat_minor": 2
}
