{
 "cells": [
  {
   "cell_type": "code",
   "execution_count": 14,
   "metadata": {},
   "outputs": [],
   "source": [
    "from SPARQLWrapper import SPARQLWrapper, XML\n",
    "import pandas as pd\n",
    "import json"
   ]
  },
  {
   "cell_type": "code",
   "execution_count": 15,
   "metadata": {},
   "outputs": [],
   "source": [
    "def get_sparql_dataframe(service, query):\n",
    "    '''\n",
    "    convert SPARQL results into a Pandas data frame.\n",
    "    '''\n",
    "    sparql = SPARQLWrapper(service)\n",
    "    sparql.setQuery(query)\n",
    "    sparql.setReturnFormat('json')\n",
    "    result = sparql.query()\n",
    "\n",
    "    processed_results = json.load(result.response)\n",
    "    cols = processed_results['head']['vars']\n",
    "\n",
    "    out = []\n",
    "    for row in processed_results['results']['bindings']:\n",
    "        item = []\n",
    "        for c in cols:\n",
    "            item.append(row.get(c, {}).get('value'))\n",
    "        out.append(item)\n",
    "\n",
    "    return pd.DataFrame(out, columns=cols)"
   ]
  },
  {
   "cell_type": "code",
   "execution_count": 17,
   "metadata": {},
   "outputs": [
    {
     "data": {
      "text/html": [
       "<div>\n",
       "<style scoped>\n",
       "    .dataframe tbody tr th:only-of-type {\n",
       "        vertical-align: middle;\n",
       "    }\n",
       "\n",
       "    .dataframe tbody tr th {\n",
       "        vertical-align: top;\n",
       "    }\n",
       "\n",
       "    .dataframe thead th {\n",
       "        text-align: right;\n",
       "    }\n",
       "</style>\n",
       "<table border=\"1\" class=\"dataframe\">\n",
       "  <thead>\n",
       "    <tr style=\"text-align: right;\">\n",
       "      <th></th>\n",
       "      <th>trkname</th>\n",
       "      <th>nd</th>\n",
       "      <th>lat</th>\n",
       "      <th>lon</th>\n",
       "      <th>name</th>\n",
       "      <th>place</th>\n",
       "    </tr>\n",
       "  </thead>\n",
       "  <tbody>\n",
       "  </tbody>\n",
       "</table>\n",
       "</div>"
      ],
      "text/plain": [
       "Empty DataFrame\n",
       "Columns: [trkname, nd, lat, lon, name, place]\n",
       "Index: []"
      ]
     },
     "execution_count": 17,
     "metadata": {},
     "output_type": "execute_result"
    }
   ],
   "source": [
    "service = 'http://10.20.241.27:7200/repositories/WEB2019'\n",
    "# find all the restaurants surrounding the track (just show 20 of them)\n",
    "query = '''\n",
    "prefix xsd: <http://www.w3.org/2001/XMLSchema#>\n",
    "prefix rdf: <http://www.w3.org/1999/02/22-rdf-syntax-ns#> \n",
    "prefix rdfs: <http://www.w3.org/2000/01/rdf-schema#> \n",
    "\n",
    "prefix : <http://www.topografix.com/GPX/1/1/> \n",
    "prefix osm: <https://www.openstreetmap.org/export/> \n",
    "prefix dbpedia: <http://dbpedia.org/ontology/> \n",
    "prefix wikidata: <https://www.wikidata.org/wiki/> \n",
    "prefix wikipedia: <https://en.wikipedia.org/wiki/> \n",
    "\n",
    "select ?trkname ?nd ?lat ?lon ?name ?place\n",
    "\n",
    "where {?trk a :GPXtrack; :hasname ?trkname; :haswpt ?wpt; :hassurroundingnds ?nd. ?nd osm:amenity ?place; osm:hasname ?name; osm:haslat ?lat; osm:haslon ?lon. filter(?place = dbpedia:restaurant)} limit20\n",
    "    \n",
    "'''\n",
    "get_sparql_dataframe(service, query)"
   ]
  },
  {
   "cell_type": "code",
   "execution_count": 18,
   "metadata": {},
   "outputs": [
    {
     "data": {
      "text/html": [
       "<div>\n",
       "<style scoped>\n",
       "    .dataframe tbody tr th:only-of-type {\n",
       "        vertical-align: middle;\n",
       "    }\n",
       "\n",
       "    .dataframe tbody tr th {\n",
       "        vertical-align: top;\n",
       "    }\n",
       "\n",
       "    .dataframe thead th {\n",
       "        text-align: right;\n",
       "    }\n",
       "</style>\n",
       "<table border=\"1\" class=\"dataframe\">\n",
       "  <thead>\n",
       "    <tr style=\"text-align: right;\">\n",
       "      <th></th>\n",
       "      <th>n</th>\n",
       "      <th>nd</th>\n",
       "      <th>lat</th>\n",
       "      <th>lon</th>\n",
       "      <th>place</th>\n",
       "      <th>wiki</th>\n",
       "    </tr>\n",
       "  </thead>\n",
       "  <tbody>\n",
       "  </tbody>\n",
       "</table>\n",
       "</div>"
      ],
      "text/plain": [
       "Empty DataFrame\n",
       "Columns: [n, nd, lat, lon, place, wiki]\n",
       "Index: []"
      ]
     },
     "execution_count": 18,
     "metadata": {},
     "output_type": "execute_result"
    }
   ],
   "source": [
    "# find all the amendities surrounding the track\n",
    "query = '''\n",
    "prefix xsd: <http://www.w3.org/2001/XMLSchema#>\n",
    "prefix rdf: <http://www.w3.org/1999/02/22-rdf-syntax-ns#> \n",
    "prefix rdfs: <http://www.w3.org/2000/01/rdf-schema#> \n",
    "\n",
    "prefix : <http://www.topografix.com/GPX/1/1/> \n",
    "prefix osm: <https://www.openstreetmap.org/export/> \n",
    "prefix dbpedia: <http://dbpedia.org/ontology/> \n",
    "prefix wikidata: <https://www.wikidata.org/wiki/> \n",
    "prefix wikipedia: <https://en.wikipedia.org/wiki/> \n",
    "\n",
    "select ?n ?nd ?lat ?lon ?place ?wiki\n",
    "\n",
    "where {?trk a :GPXtrack; :hasname ?n; :haswpt ?wpt; :hassurroundingnds ?nd. ?nd osm:amenity ?place; osm:haslat ?lat; osm:haslon ?lon; osm:wikidata ?wiki. filter(?place != dbpedia:none)}\n",
    "\n",
    "'''\n",
    "get_sparql_dataframe(service, query)"
   ]
  },
  {
   "cell_type": "code",
   "execution_count": 19,
   "metadata": {},
   "outputs": [
    {
     "data": {
      "text/html": [
       "<div>\n",
       "<style scoped>\n",
       "    .dataframe tbody tr th:only-of-type {\n",
       "        vertical-align: middle;\n",
       "    }\n",
       "\n",
       "    .dataframe tbody tr th {\n",
       "        vertical-align: top;\n",
       "    }\n",
       "\n",
       "    .dataframe thead th {\n",
       "        text-align: right;\n",
       "    }\n",
       "</style>\n",
       "<table border=\"1\" class=\"dataframe\">\n",
       "  <thead>\n",
       "    <tr style=\"text-align: right;\">\n",
       "      <th></th>\n",
       "      <th>trkname</th>\n",
       "      <th>nd</th>\n",
       "      <th>lat</th>\n",
       "      <th>lon</th>\n",
       "      <th>place</th>\n",
       "    </tr>\n",
       "  </thead>\n",
       "  <tbody>\n",
       "  </tbody>\n",
       "</table>\n",
       "</div>"
      ],
      "text/plain": [
       "Empty DataFrame\n",
       "Columns: [trkname, nd, lat, lon, place]\n",
       "Index: []"
      ]
     },
     "execution_count": 19,
     "metadata": {},
     "output_type": "execute_result"
    }
   ],
   "source": [
    "# find the tourisms surrounding the track\n",
    "query = '''\n",
    "prefix xsd: <http://www.w3.org/2001/XMLSchema#>\n",
    "prefix rdf: <http://www.w3.org/1999/02/22-rdf-syntax-ns#> \n",
    "prefix rdfs: <http://www.w3.org/2000/01/rdf-schema#> \n",
    "\n",
    "prefix : <http://www.topografix.com/GPX/1/1/> \n",
    "prefix osm: <https://www.openstreetmap.org/export/> \n",
    "prefix dbpedia: <http://dbpedia.org/ontology/> \n",
    "prefix wikidata: <https://www.wikidata.org/wiki/> \n",
    "prefix wikipedia: <https://en.wikipedia.org/wiki/> \n",
    "\n",
    "select ?trkname ?nd ?lat ?lon ?place\n",
    "\n",
    "where {?trk a :GPXtrack; :hasname ?trakname; :haswpt ?wpt; :hassurroundingnds ?nd. ?nd osm:tourism ?place; osm:haslat ?lat; osm:haslon ?lon. filter(?place != dbpedia:none)} limit20\n",
    "'''\n",
    "get_sparql_dataframe(service, query)"
   ]
  },
  {
   "cell_type": "code",
   "execution_count": null,
   "metadata": {},
   "outputs": [],
   "source": []
  },
  {
   "cell_type": "code",
   "execution_count": null,
   "metadata": {},
   "outputs": [],
   "source": []
  }
 ],
 "metadata": {
  "kernelspec": {
   "display_name": "Python 3",
   "language": "python",
   "name": "python3"
  },
  "language_info": {
   "codemirror_mode": {
    "name": "ipython",
    "version": 3
   },
   "file_extension": ".py",
   "mimetype": "text/x-python",
   "name": "python",
   "nbconvert_exporter": "python",
   "pygments_lexer": "ipython3",
   "version": "3.6.6"
  }
 },
 "nbformat": 4,
 "nbformat_minor": 2
}
