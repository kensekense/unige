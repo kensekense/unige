{
 "cells": [
  {
   "cell_type": "code",
   "execution_count": 194,
   "metadata": {},
   "outputs": [],
   "source": [
    "#imports\n",
    "from SPARQLWrapper import SPARQLWrapper\n",
    "from bs4 import BeautifulSoup\n",
    "import requests\n",
    "\n",
    "def query_DBpedia (query):\n",
    "    '''\n",
    "    obtain the JSON of the query to the DBpedia database.\n",
    "    '''\n",
    "\n",
    "    db = SPARQLWrapper(\"http://dbpedia.org/sparql/\") #query DBpedia via SPARQL\n",
    "    db.setQuery(query)\n",
    "    db.method = \"POST\"\n",
    "    db.setReturnFormat('json')\n",
    "    db.queryType = \"SELECT\"\n",
    "    result = db.query().convert()\n",
    "\n",
    "    return result\n",
    "\n",
    "def inquire_place (name):\n",
    "    \n",
    "    #query DBpedia based on name\n",
    "    query = \"PREFIX dbo: <http://dbpedia.org/ontology/> \\\n",
    "    PREFIX geo:  <http://www.w3.org/2003/01/geo/wgs84_pos#> \\\n",
    "    SELECT DISTINCT ?place ?label ?lat ?lng \\\n",
    "    WHERE { ?place a dbo:Place . \\\n",
    "    ?place rdfs:label ?label  \\\n",
    "    FILTER (?label IN ( '%s'@en )) . \\\n",
    "    ?place geo:lat ?lat . \\\n",
    "    ?place geo:long ?lng .}\" % name\n",
    "\n",
    "    inquiry = query_DBpedia(query)\n",
    "    \n",
    "    #no results\n",
    "    if len(inquiry['results']['bindings']) == 0:\n",
    "        return (None, None, None, None)\n",
    "    \n",
    "    else:\n",
    "        #query results\n",
    "        dbpedia_url = inquiry['results']['bindings'][0]['place']['value']\n",
    "        lat = inquiry['results']['bindings'][0]['lat']['value']\n",
    "        lng = inquiry['results']['bindings'][0]['lng']['value']\n",
    "        name = inquiry['results']['bindings'][0]['label']['value']\n",
    "        comment = 'none' #defaults none \n",
    "        country = 'none'\n",
    "        postalCode = 'none'\n",
    "        max_ele, min_ele, ele = 'none', 'none', 'none'\n",
    "        \n",
    "        #download XML file\n",
    "        xml_file = requests.get(dbpedia_url)\n",
    "        open('./%s.xml'%name, 'wb').write(xml_file.content)\n",
    "        \n",
    "        #get comment, and some relevant info\n",
    "        fp = open(\"./%s.xml\"%name, \"r\")\n",
    "        soup = BeautifulSoup(fp, 'xml')\n",
    "        \n",
    "        #check spans\n",
    "        for item in soup.find_all(\"span\"):\n",
    "            if item.get('property') == 'dbo:abstract': #get comment\n",
    "                if item.get('xml:lang') == \"en\":\n",
    "                    comment = item.get_text()\n",
    "            if item.get('property') == 'dbo:postalCode': #get postalCode\n",
    "                postalCode = item.get_text()\n",
    "            if item.get('property') == \"dbo:maximumElevation\": #max elevation\n",
    "                max_ele = item.get_text()\n",
    "            if item.get('property') == \"dbo:minimumElevation\": #min elevation\n",
    "                min_ele = item.get_text()\n",
    "            if not max_ele == 'none' and not min_ele == 'none': #elevation calc\n",
    "                ele = str((float(max_ele)+float(min_ele))/2)\n",
    "        \n",
    "        #check a's\n",
    "        for item in soup.find_all(\"a\"):\n",
    "            if item.get('rel') == \"dbo:country\": #get country\n",
    "                country = item.get_text()\n",
    "        \n",
    "        #output\n",
    "        print('DBpedia entry found!')\n",
    "        print('Downloaded XML file...')\n",
    "        return (name, lat, lng, dbpedia_url, ele, country, postalCode, comment)"
   ]
  },
  {
   "cell_type": "code",
   "execution_count": 195,
   "metadata": {},
   "outputs": [
    {
     "name": "stdout",
     "output_type": "stream",
     "text": [
      "DBpedia entry found!\n",
      "Downloaded XML file...\n"
     ]
    },
    {
     "data": {
      "text/plain": [
       "('Courmayeur',\n",
       " '45.7833',\n",
       " '6.96667',\n",
       " 'http://dbpedia.org/resource/Courmayeur',\n",
       " '3017.0',\n",
       " 'dbr:Italy',\n",
       " '11013',\n",
       " 'Courmayeur is a town and comune in northern Italy, in the autonomous region of Aosta Valley. At an elevation of 1,224 m (4,016 ft) above sea level, it is located at the foot of the southern side of Mont Blanc, at 4,810 m (15,781 ft) the highest point in the Alps and western Europe (see Seven Summits), and is crossed by the Dora Baltea. Courmayeur shares administration of Mont Blanc with its neighboring commune of Saint-Gervais-les-Bains in France, and is consequently able to claim the title of highest commune in Italy. Courmayeur also shares access to the famous glacial ski run of the Vallée Blanche with another French town, Chamonix, which sits at the opposite, northern, side of the Mont Blanc massif.')"
      ]
     },
     "execution_count": 195,
     "metadata": {},
     "output_type": "execute_result"
    }
   ],
   "source": [
    "inquire_place(\"Courmayeur\") #seems like this is the core 'populated place', everything else is around this landmark"
   ]
  },
  {
   "cell_type": "code",
   "execution_count": null,
   "metadata": {},
   "outputs": [],
   "source": []
  },
  {
   "cell_type": "code",
   "execution_count": null,
   "metadata": {},
   "outputs": [],
   "source": []
  }
 ],
 "metadata": {
  "kernelspec": {
   "display_name": "Python 3",
   "language": "python",
   "name": "python3"
  },
  "language_info": {
   "codemirror_mode": {
    "name": "ipython",
    "version": 3
   },
   "file_extension": ".py",
   "mimetype": "text/x-python",
   "name": "python",
   "nbconvert_exporter": "python",
   "pygments_lexer": "ipython3",
   "version": "3.6.6"
  }
 },
 "nbformat": 4,
 "nbformat_minor": 2
}
