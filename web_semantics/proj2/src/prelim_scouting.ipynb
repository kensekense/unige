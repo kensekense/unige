{
 "cells": [
  {
   "cell_type": "markdown",
   "metadata": {},
   "source": [
    "# Project 2 Preliminary Scouting\n",
    "29 November 2019"
   ]
  },
  {
   "cell_type": "code",
   "execution_count": 1,
   "metadata": {},
   "outputs": [],
   "source": [
    "import numpy as np\n",
    "from bs4 import BeautifulSoup\n",
    "import matplotlib.pyplot as plt\n",
    "import seaborn as sb"
   ]
  },
  {
   "cell_type": "markdown",
   "metadata": {},
   "source": [
    "## Tasks\n",
    "1. Use Protege to create an OWL ontology (no coding required)\n",
    "2. Test Protege ontology via provided triples (no coding required)\n",
    "3. Transfer ontology to GraphDB (coding required to alter files to comply)\n",
    "4. Search function to query the data above (coding required, but save for last)\n",
    "\n",
    "~~# TODO: explore the provided data to see just what we already have in order to determine what we actually need to create~~\n",
    "\n",
    "\n",
    "~~# TODO: Protege OWL ontology, load TTL files from provided\n",
    "\n",
    "# (Monday) Figured out some Protege, created sample protege class and object properties according to CSO file provided\n",
    "\n",
    "# Next step is to ask in class if we are on the right track and move from there\n",
    "\n",
    "\n",
    "# TODO LATER: \"upload the data files\" from subpoint 3 on the assignment outline we can do first here (below) making sure we can alter the files and get them working (i.e: can upload to GraphDB without it yelling at us with errors). Can use BeautifulSoup\n"
   ]
  },
  {
   "cell_type": "code",
   "execution_count": null,
   "metadata": {},
   "outputs": [],
   "source": []
  },
  {
   "cell_type": "code",
   "execution_count": null,
   "metadata": {},
   "outputs": [],
   "source": []
  }
 ],
 "metadata": {
  "kernelspec": {
   "display_name": "Python 3",
   "language": "python",
   "name": "python3"
  },
  "language_info": {
   "codemirror_mode": {
    "name": "ipython",
    "version": 3
   },
   "file_extension": ".py",
   "mimetype": "text/x-python",
   "name": "python",
   "nbconvert_exporter": "python",
   "pygments_lexer": "ipython3",
   "version": "3.6.8"
  }
 },
 "nbformat": 4,
 "nbformat_minor": 2
}
