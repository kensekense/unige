{
 "cells": [
  {
   "cell_type": "code",
   "execution_count": 4,
   "metadata": {},
   "outputs": [
    {
     "name": "stdout",
     "output_type": "stream",
     "text": [
      "[1, 2, 3, 1, 2, 3, 4, 2, 3, 4, 5, 1, 2, 2, 1, 2, 3, 3, 2, 3, 4, 1, 3, 2, 1, 2, 4, 3, 2, 3, 4, 3, 2, 1, 5, 4, 3, 2, 1, 2, 3, 1, 2, 3, 4, 1, 2, 2, 1, 2, 3, 1, 3, 2, 1, 2, 4, 3, 2, 1, 1, 2, 3, 1, 2, 1] \n",
      " 66\n"
     ]
    }
   ],
   "source": [
    "#Ning\n",
    "#30 September 2019\n",
    "#metaheuristics TP2\n",
    "\n",
    "import random\n",
    "import numpy as np\n",
    "import math\n",
    "\n",
    "class QuadraticAssignment:\n",
    "\n",
    "    def __init__ (self, data):\n",
    "        '''\n",
    "        Initial assignment randomly generates a solution matrix D and W, where D is the distance matrix\n",
    "        and W is the weight matrix, and N is the number of locations (and facilities).\n",
    "        '''\n",
    "        self.document = []\n",
    "        with open(data) as pfile: #open file, read lines, store\n",
    "            for line in pfile:\n",
    "                if(len(line.split())>0): #if it's not an empty line\n",
    "                    self.document.append(line.split()) #store the values\n",
    "\n",
    "        for i in range(0,len(self.document)): #integer the strings\n",
    "            self.document[i] = [int(x) for x in self.document[i]]\n",
    "\n",
    "        self.N = self.document[0][0] #the first line should be the size N\n",
    "        self.D = np.array(self.document[1:self.N+1]) #the first N lines after 'N' should be D\n",
    "        self.W = np.array(self.document[self.N+1:]) #the rest should be W\n",
    "\n",
    "        #generate initial solution\n",
    "        #TODO: scrambling the array brings up the issue with the connections, since every point is connected to every other point\n",
    "        #how can we know the distances without drawing the entire graph?\n",
    "        #because swapping two placements affects some connections, and not others\n",
    "        #maybe we can think about it as \"placing\" the distances between points\n",
    "        #if we're \"placing\" distances, then how do we get a preliminary distance chart? (this is the triangle)\n",
    "        #so we can store all the values in the triangle\n",
    "        #triangle is 2x for loop i,j with j = i+1\n",
    "        self.triangle = [] #for reference there should be (n+1)*n/2 values in triangle\n",
    "        for i in range(0, self.N):\n",
    "            for j in range(i+1, self.N):\n",
    "                self.triangle.append(self.D[i][j])\n",
    "\n",
    "\n",
    "\n",
    "        #create empty tabu list (tabu list should be a matrix of NxN, initialized with 0s)\n",
    "        #note that tabu list has a short and long term memory mechanism that we should separate\n",
    "\n",
    "    def generate_neighbor(self):\n",
    "        '''\n",
    "        defining neighborhood placeholder.\n",
    "        '''\n",
    "        #neighborhood is given by the classical 2-exchange which amounts to swapping two locations\n",
    "        #the formula given is better understood as, partial = 2*np.sum((w[i][j] - w[p][q])*(d1[i][j]-d2[i][j]))\n",
    "        pass\n",
    "\n",
    "    def tabu_search(self):\n",
    "        '''\n",
    "        tabu search algorithm placeholder.\n",
    "        '''\n",
    "        #choose the best non-tabu neighbor\n",
    "        #update the best solution seen so far\n",
    "        #check whether end condition is met\n",
    "        #update tabu list with movement x0 -> x1 or generate_neighbor\n",
    "        pass\n",
    "\n",
    "\n",
    "if __name__ == \"__main__\":\n",
    "\n",
    "    #read the .dat file here and fill the arrays\n",
    "\n",
    "    a = QuadraticAssignment(\"1.dat\")\n",
    "    #print(\"{0} \\n {1} \\n {2}\".format(a.N,a.D,a.W))\n",
    "    print(\"{0} \\n {1}\".format(a.triangle,len(a.triangle)))\n"
   ]
  },
  {
   "cell_type": "code",
   "execution_count": null,
   "metadata": {},
   "outputs": [],
   "source": []
  }
 ],
 "metadata": {
  "kernelspec": {
   "display_name": "Python 3",
   "language": "python",
   "name": "python3"
  },
  "language_info": {
   "codemirror_mode": {
    "name": "ipython",
    "version": 3
   },
   "file_extension": ".py",
   "mimetype": "text/x-python",
   "name": "python",
   "nbconvert_exporter": "python",
   "pygments_lexer": "ipython3",
   "version": "3.6.6"
  }
 },
 "nbformat": 4,
 "nbformat_minor": 2
}
