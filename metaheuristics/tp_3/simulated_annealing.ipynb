{
 "cells": [
  {
   "cell_type": "code",
   "execution_count": 2,
   "metadata": {},
   "outputs": [],
   "source": [
    "import numpy as np\n",
    "import math\n",
    "import random"
   ]
  },
  {
   "cell_type": "code",
   "execution_count": 3,
   "metadata": {},
   "outputs": [],
   "source": [
    "def create_city (cityfile):\n",
    "    cityscape = {}\n",
    "    with open(cityfile, \"r\") as city_file:\n",
    "        for line in city_file:\n",
    "            line = line.split()\n",
    "            cityscape[line[0]] = (float(line[1]), float(line[2]))\n",
    "    return cityscape"
   ]
  },
  {
   "cell_type": "code",
   "execution_count": 4,
   "metadata": {},
   "outputs": [],
   "source": [
    "cities = create_city(\"cities.dat\")"
   ]
  },
  {
   "cell_type": "code",
   "execution_count": 5,
   "metadata": {},
   "outputs": [],
   "source": [
    "def find_distance (a, b):\n",
    "    '''\n",
    "    a,b are tuples (x-loc,y-loc)\n",
    "    '''\n",
    "    distance = math.sqrt((a[0] - b[0])**2 + (a[1] - b[1])**2)\n",
    "    return distance"
   ]
  },
  {
   "cell_type": "code",
   "execution_count": 6,
   "metadata": {},
   "outputs": [
    {
     "data": {
      "text/plain": [
       "1.0"
      ]
     },
     "execution_count": 6,
     "metadata": {},
     "output_type": "execute_result"
    }
   ],
   "source": [
    "find_distance(cities[\"a\"],cities[\"c\"])"
   ]
  },
  {
   "cell_type": "code",
   "execution_count": 7,
   "metadata": {},
   "outputs": [],
   "source": [
    "def calc_fitness (path, cityscape):\n",
    "    '''\n",
    "    path is a list of cities\n",
    "    cityscape is the city dictionary\n",
    "    '''\n",
    "    fitness = 0.0\n",
    "    for i in range(0, len(path)-1):\n",
    "        fitness += find_distance(cityscape[path[i]], cityscape[path[i+1]])                      \n",
    "    fitness += find_distance(cityscape[path[len(path)-1]], cityscape[path[0]])\n",
    "                \n",
    "    return fitness"
   ]
  },
  {
   "cell_type": "code",
   "execution_count": 8,
   "metadata": {},
   "outputs": [],
   "source": [
    "path = []\n",
    "for i in range(97,115):\n",
    "    path.append(str(chr(i)))\n",
    "fit_ = calc_fitness(path, cities)"
   ]
  },
  {
   "cell_type": "code",
   "execution_count": 9,
   "metadata": {},
   "outputs": [],
   "source": [
    "def roll_two (l):\n",
    "    i = 0\n",
    "    j = 0\n",
    "    while(i==j):\n",
    "        i = random.randint(0,l-1)\n",
    "        j = random.randint(0,l-1)\n",
    "    return i,j"
   ]
  },
  {
   "cell_type": "code",
   "execution_count": 10,
   "metadata": {},
   "outputs": [],
   "source": [
    "def random_config (city):\n",
    "    '''\n",
    "    takes the city dictionary to create initial configuration\n",
    "    '''\n",
    "    rand_config = list(city.keys())\n",
    "    \n",
    "    x = random.randint(10,30)\n",
    "    \n",
    "    for k in range(0, x):\n",
    "        \n",
    "        i,j = roll_two(len(rand_config))\n",
    "            \n",
    "        temp = rand_config[i]\n",
    "        rand_config[i] = rand_config[j]\n",
    "        rand_config[j] = temp\n",
    "    \n",
    "    return rand_config"
   ]
  },
  {
   "cell_type": "code",
   "execution_count": 11,
   "metadata": {},
   "outputs": [],
   "source": [
    "def movement(config, i, j):\n",
    "    \n",
    "    temp = config[i]\n",
    "    config[i] = config[j]\n",
    "    config[j] = temp\n",
    "\n",
    "    return config"
   ]
  },
  {
   "cell_type": "code",
   "execution_count": 12,
   "metadata": {},
   "outputs": [],
   "source": [
    "def accept_reject(current_config, update_config, temperature, city):\n",
    "    e1 = float(calc_fitness(current_config, city))\n",
    "    e2 = float(calc_fitness(update_config, city))\n",
    "    delta_e = e2-e1\n",
    "    \n",
    "    if delta_e < 0:\n",
    "        return True\n",
    "    elif random.random() < math.exp((-1*delta_e)/temperature):\n",
    "        return True\n",
    "    else:\n",
    "        return False"
   ]
  },
  {
   "cell_type": "code",
   "execution_count": 13,
   "metadata": {},
   "outputs": [],
   "source": [
    "def find_initial_temperature(city):\n",
    "    \n",
    "    init_config = random_config(city)\n",
    "    config = init_config[:]\n",
    "    \n",
    "    delta_energies = []\n",
    "    \n",
    "    e1 = calc_fitness(config, city)\n",
    "    \n",
    "    for i in range(0,100):\n",
    "        \n",
    "        s1, s2 = roll_two(len(config))\n",
    "        move_config = random_config(city)[:]\n",
    "        e2 = calc_fitness(move_config, city)\n",
    "        delta_energies.append(e2-e1)\n",
    "    \n",
    "    avg = sum(delta_energies)/float(100)\n",
    "    return (-1*avg)/math.log(0.5)"
   ]
  },
  {
   "cell_type": "code",
   "execution_count": 14,
   "metadata": {},
   "outputs": [
    {
     "name": "stdout",
     "output_type": "stream",
     "text": [
      "-0.8479612855843591\n"
     ]
    }
   ],
   "source": [
    "print(find_initial_temperature(cities))"
   ]
  },
  {
   "cell_type": "code",
   "execution_count": 15,
   "metadata": {},
   "outputs": [
    {
     "name": "stdout",
     "output_type": "stream",
     "text": [
      "['l', 'p', 'k', 'n', 'm', 'o', 'c', 'h', 'g', 'b', 'q', 'j', 'e', 'r', 'f', 'a', 'd', 'i']\n",
      "71.61536370646758\n",
      "71.723333219696\n",
      "0.10796951322842574\n",
      "True\n",
      "0.00015294132125255415\n",
      "0.333850748094344\n"
     ]
    }
   ],
   "source": [
    "QQQ = random_config(cities)\n",
    "a = QQQ[:]\n",
    "print(a)\n",
    "a1 = calc_fitness(a, cities)\n",
    "print(a1)\n",
    "\n",
    "QQQ2 = movement(a, 4, 7)\n",
    "b = QQQ2[:]\n",
    "b2 = calc_fitness(b, cities)\n",
    "print(b2)\n",
    "\n",
    "print(b2-a1)\n",
    "print(accept_reject(a, b, find_initial_temperature(cities), cities))\n",
    "print(math.exp((-1*b2-a1)/float(16.31545285201128)))\n",
    "print(random.random())"
   ]
  },
  {
   "cell_type": "code",
   "execution_count": 16,
   "metadata": {},
   "outputs": [],
   "source": [
    "def simulated_annealing (data):\n",
    "    \n",
    "    #define the cityscape\n",
    "    cities = create_city(data)\n",
    "    \n",
    "    #Initial Configuration\n",
    "    config = random_config(cities)[:]\n",
    "    #print(config, calc_fitness(config, cities))\n",
    "    N = len(config)\n",
    "    \n",
    "    #Initial Temperature\n",
    "    temp = find_initial_temperature(cities)\n",
    "    #temp = 0.1\n",
    "    \n",
    "    #!!!\n",
    "    accepted = 0\n",
    "    tries = 0\n",
    "    iteration = 0\n",
    "    fitnesses = []\n",
    "    freeze_condition = False\n",
    "    \n",
    "    while(not freeze_condition):\n",
    "\n",
    "        #Elementary Configuration\n",
    "        #i, j = roll_two(N)\n",
    "        #transform = movement(config, i, j)[:]\n",
    "        transform = random_config(cities)[:]\n",
    "\n",
    "        #Accept/Reject\n",
    "        if accept_reject(config, transform, temp, cities):\n",
    "            config = transform[:]\n",
    "            accepted += 1\n",
    "            tries += 1\n",
    "        else:\n",
    "            #reject\n",
    "            tries += 1\n",
    "            \n",
    "        if(accepted == 12*N or tries == 100*N):\n",
    "            #equilibrium reached, track fitness and reduce temperature\n",
    "            fitnesses.append(calc_fitness(config, cities))\n",
    "            temp = temp*0.9\n",
    "            iteration += 1\n",
    "            accepted = 0\n",
    "            tries = 0\n",
    "            \n",
    "            if iteration > 3: \n",
    "                if fitnesses[iteration-4] == fitnesses[iteration-1]: #no improvement\n",
    "                    if fitnesses[iteration-3] == fitnesses[iteration-1]: #within the last\n",
    "                        if fitnesses[iteration-2] == fitnesses[iteration-1]: #three temperature steps\n",
    "                            freeze_condition = True\n",
    "    \n",
    "    return config, calc_fitness(config, cities)"
   ]
  },
  {
   "cell_type": "code",
   "execution_count": 22,
   "metadata": {},
   "outputs": [
    {
     "name": "stdout",
     "output_type": "stream",
     "text": [
      "(['b', 'e', 'n', 'r', 'k', 'l', 'q', 'i', 'd', 'j', 'g', 'o', 'm', 'p', 'h', 'f', 'a', 'c'], 42.56655070020258)\n"
     ]
    }
   ],
   "source": [
    "solution = simulated_annealing(\"cities.dat\")\n",
    "print(solution)"
   ]
  },
  {
   "cell_type": "code",
   "execution_count": 18,
   "metadata": {},
   "outputs": [],
   "source": [
    "import matplotlib.pyplot as plt\n",
    "import seaborn as sb"
   ]
  },
  {
   "cell_type": "code",
   "execution_count": 19,
   "metadata": {},
   "outputs": [
    {
     "data": {
      "image/png": "[encoded data removed]",
      "text/plain": [
       "<Figure size 432x288 with 1 Axes>"
      ]
     },
     "metadata": {},
     "output_type": "display_data"
    }
   ],
   "source": [
    "show_locations = solution[0]\n",
    "show_locations.append(show_locations[0])\n",
    "cities = create_city(\"cities.dat\")\n",
    "xes = []\n",
    "yes = []\n",
    "for locations in show_locations:\n",
    "    xes.append(cities[locations][0]) #x loc\n",
    "    yes.append(cities[locations][1]) #y loc\n",
    "\n",
    "with sb.axes_style(\"darkgrid\"):\n",
    "    \n",
    "    ax = sb.scatterplot(xes[:],yes[:])\n",
    "    plt.plot(xes[:],yes[:])\n",
    "    ax.title.set_text(\"SA-Optimized TSP Path on cities.dat: \"+str(solution[1]))\n",
    "    ax.set(xlabel = \"x-coordinate\", ylabel= \"y-coordinate\")"
   ]
  },
  {
   "cell_type": "code",
   "execution_count": null,
   "metadata": {},
   "outputs": [],
   "source": [
    "solution = simulated_annealing(\"cities2.dat\")\n",
    "cities = create_city(\"cities2.dat\")\n",
    "print(solution)\n",
    "show_locations = solution[0]\n",
    "show_locations.append(show_locations[0])\n",
    "xes = []\n",
    "yes = []\n",
    "for locations in show_locations:\n",
    "    xes.append(cities[locations][0]) #x loc\n",
    "    yes.append(cities[locations][1]) #y loc\n",
    "\n",
    "with sb.axes_style(\"darkgrid\"):\n",
    "    \n",
    "    ax = sb.scatterplot(xes[:],yes[:])\n",
    "    plt.plot(xes[:],yes[:])\n",
    "    ax.title.set_text(\"SA-Optimized TSP Path on cities2.dat: \"+ str(solution[1]))\n",
    "    ax.set(xlabel = \"x-coordinate\", ylabel= \"y-coordinate\")"
   ]
  },
  {
   "cell_type": "code",
   "execution_count": null,
   "metadata": {},
   "outputs": [],
   "source": [
    "cities = create_city(\"cities2.dat\")\n",
    "show_locations = list(cities.keys())\n",
    "show_locations.append(show_locations[0])\n",
    "xes = []\n",
    "yes = []\n",
    "for locations in show_locations:\n",
    "    xes.append(cities[locations][0]) #x loc\n",
    "    yes.append(cities[locations][1]) #y loc\n",
    "\n",
    "with sb.axes_style(\"darkgrid\"):\n",
    "    \n",
    "    ax = sb.scatterplot(xes[:],yes[:])\n",
    "    plt.plot(xes[:],yes[:])\n",
    "    ax.title.set_text(\"Original TSP Path on cities2.dat\")\n",
    "    ax.set(xlabel = \"x-coordinate\", ylabel= \"y-coordinate\")"
   ]
  },
  {
   "cell_type": "code",
   "execution_count": null,
   "metadata": {},
   "outputs": [],
   "source": [
    "def greedy_algorithm (data):\n",
    "    \n",
    "    #define the cityscape\n",
    "    cities = create_city(data)\n",
    "    \n",
    "    #Initial Configuration\n",
    "    config = random_config(cities)[:]\n",
    "    #print(config, calc_fitness(config, cities))\n",
    "    N = len(config)\n",
    "    \n",
    "    visited = []\n",
    "    current = config[0]\n",
    "    path = []\n",
    "    best = 100\n",
    "    now = 100\n",
    "    \n",
    "    path.append(current)\n",
    "    for i in range(0, N):\n",
    "        for j in range(0, N):\n",
    "            if i!=j and not(config[j] in visited):\n",
    "                now = find_distance(cities[config[i]],cities[config[j]])\n",
    "                if now <= best:\n",
    "                    best_index = j\n",
    "        visited.append(config[best_index])\n",
    "        current = config[best_index]\n",
    "        path.append(config[best_index])\n",
    "\n",
    "    return path, calc_fitness(path, cities)"
   ]
  },
  {
   "cell_type": "code",
   "execution_count": null,
   "metadata": {},
   "outputs": [],
   "source": [
    "greed = greedy_algorithm(\"cities.dat\")\n",
    "print(greed)"
   ]
  },
  {
   "cell_type": "code",
   "execution_count": 24,
   "metadata": {},
   "outputs": [
    {
     "ename": "NameError",
     "evalue": "name 'greedy_algorithm' is not defined",
     "output_type": "error",
     "traceback": [
      "\u001b[0;31m---------------------------------------------------------------------------\u001b[0m",
      "\u001b[0;31mNameError\u001b[0m                                 Traceback (most recent call last)",
      "\u001b[0;32m<ipython-input-24-80ef01128efa>\u001b[0m in \u001b[0;36m<module>\u001b[0;34m\u001b[0m\n\u001b[0;32m----> 1\u001b[0;31m \u001b[0mgreed\u001b[0m \u001b[0;34m=\u001b[0m \u001b[0mgreedy_algorithm\u001b[0m\u001b[0;34m(\u001b[0m\u001b[0;34m\"cities.dat\"\u001b[0m\u001b[0;34m)\u001b[0m\u001b[0;34m\u001b[0m\u001b[0m\n\u001b[0m\u001b[1;32m      2\u001b[0m \u001b[0mshow_locations\u001b[0m \u001b[0;34m=\u001b[0m \u001b[0mgreed\u001b[0m\u001b[0;34m[\u001b[0m\u001b[0;36m0\u001b[0m\u001b[0;34m]\u001b[0m\u001b[0;34m\u001b[0m\u001b[0m\n\u001b[1;32m      3\u001b[0m \u001b[0mshow_locations\u001b[0m\u001b[0;34m.\u001b[0m\u001b[0mappend\u001b[0m\u001b[0;34m(\u001b[0m\u001b[0mshow_locations\u001b[0m\u001b[0;34m[\u001b[0m\u001b[0;36m0\u001b[0m\u001b[0;34m]\u001b[0m\u001b[0;34m)\u001b[0m\u001b[0;34m\u001b[0m\u001b[0m\n\u001b[1;32m      4\u001b[0m \u001b[0mcities\u001b[0m \u001b[0;34m=\u001b[0m \u001b[0mcreate_city\u001b[0m\u001b[0;34m(\u001b[0m\u001b[0;34m\"cities.dat\"\u001b[0m\u001b[0;34m)\u001b[0m\u001b[0;34m\u001b[0m\u001b[0m\n\u001b[1;32m      5\u001b[0m \u001b[0mxes\u001b[0m \u001b[0;34m=\u001b[0m \u001b[0;34m[\u001b[0m\u001b[0;34m]\u001b[0m\u001b[0;34m\u001b[0m\u001b[0m\n",
      "\u001b[0;31mNameError\u001b[0m: name 'greedy_algorithm' is not defined"
     ]
    }
   ],
   "source": [
    "greed = greedy_algorithm(\"cities.dat\")\n",
    "show_locations = greed[0]\n",
    "show_locations.append(show_locations[0])\n",
    "cities = create_city(\"cities.dat\")\n",
    "xes = []\n",
    "yes = []\n",
    "for locations in show_locations:\n",
    "    xes.append(cities[locations][0]) #x loc\n",
    "    yes.append(cities[locations][1]) #y loc\n",
    "\n",
    "with sb.axes_style(\"darkgrid\"):\n",
    "    \n",
    "    ax = sb.scatterplot(xes[:],yes[:])\n",
    "    plt.plot(xes[:],yes[:])\n",
    "    ax.title.set_text(\"Greedy TSP Path on cities.dat: \"+ str(greed[1]))\n",
    "    ax.set(xlabel = \"x-coordinate\", ylabel= \"y-coordinate\")"
   ]
  },
  {
   "cell_type": "code",
   "execution_count": null,
   "metadata": {},
   "outputs": [],
   "source": [
    "solution = greedy_algorithm(\"cities2.dat\")\n",
    "cities = create_city(\"cities2.dat\")\n",
    "print(solution)\n",
    "show_locations = solution[0]\n",
    "show_locations.append(show_locations[0])\n",
    "xes = []\n",
    "yes = []\n",
    "for locations in show_locations:\n",
    "    xes.append(cities[locations][0]) #x loc\n",
    "    yes.append(cities[locations][1]) #y loc\n",
    "\n",
    "with sb.axes_style(\"darkgrid\"):\n",
    "    \n",
    "    ax = sb.scatterplot(xes[:],yes[:])\n",
    "    plt.plot(xes[:],yes[:])\n",
    "    ax.title.set_text(\"Greedy TSP Path on cities2.dat: \"+ str(solution[1]))\n",
    "    ax.set(xlabel = \"x-coordinate\", ylabel= \"y-coordinate\")"
   ]
  },
  {
   "cell_type": "code",
   "execution_count": null,
   "metadata": {},
   "outputs": [],
   "source": []
  },
  {
   "cell_type": "code",
   "execution_count": null,
   "metadata": {},
   "outputs": [],
   "source": []
  }
 ],
 "metadata": {
  "kernelspec": {
   "display_name": "Python 3",
   "language": "python",
   "name": "python3"
  },
  "language_info": {
   "codemirror_mode": {
    "name": "ipython",
    "version": 3
   },
   "file_extension": ".py",
   "mimetype": "text/x-python",
   "name": "python",
   "nbconvert_exporter": "python",
   "pygments_lexer": "ipython3",
   "version": "3.6.6"
  }
 },
 "nbformat": 4,
 "nbformat_minor": 2
}
