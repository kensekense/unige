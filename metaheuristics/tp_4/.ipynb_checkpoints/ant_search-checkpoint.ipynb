{
 "cells": [
  {
   "cell_type": "code",
   "execution_count": 2,
   "metadata": {},
   "outputs": [],
   "source": [
    "import numpy as np\n",
    "import math\n",
    "import random\n",
    "import time"
   ]
  },
  {
   "cell_type": "code",
   "execution_count": 3,
   "metadata": {},
   "outputs": [],
   "source": [
    "def create_city (cityfile):\n",
    "    cityscape = {}\n",
    "    with open(cityfile, \"r\") as city_file:\n",
    "        for line in city_file:\n",
    "            line = line.split()\n",
    "            cityscape[line[0]] = (float(line[1]), float(line[2]))\n",
    "    return cityscape"
   ]
  },
  {
   "cell_type": "code",
   "execution_count": 27,
   "metadata": {},
   "outputs": [],
   "source": [
    "def distance (i, j):\n",
    "    x = i[0] - j[0]\n",
    "    y = i[1] - j[1]\n",
    "    distance = math.sqrt(x**2 + y**2) #euclidean distance\n",
    "    return distance"
   ]
  },
  {
   "cell_type": "code",
   "execution_count": 30,
   "metadata": {},
   "outputs": [],
   "source": [
    "def length_of_tour (path, city):\n",
    "    length = 0.0\n",
    "    for i in range(0, len(path)-1):\n",
    "        length += distance(city[path[i]], city[path[i+1]])\n",
    "    length += distance(city[path[len(path)-1]], city[path[0]])\n",
    "    \n",
    "    return length"
   ]
  },
  {
   "cell_type": "code",
   "execution_count": 4,
   "metadata": {},
   "outputs": [],
   "source": [
    "def inverse_distance (i, j):\n",
    "    x = i[0] - j[0]\n",
    "    y = i[1] - j[1]\n",
    "    distance = math.sqrt(x**2 + y**2) #euclidean distance\n",
    "    return 1.0/distance #inverse distance"
   ]
  },
  {
   "cell_type": "code",
   "execution_count": 21,
   "metadata": {},
   "outputs": [],
   "source": [
    "def init_ph_graph (city):\n",
    "    \n",
    "    #obtain a list of nodes\n",
    "    all_nodes = list(city.keys())\n",
    "    \n",
    "    #establish a dictionary of the graph\n",
    "    ph_graph = {}\n",
    "    \n",
    "    for i in range(0, len(all_nodes)):\n",
    "        for j in range(i, len(all_nodes)): #only do one side, save space\n",
    "            if i != j: #no self edges\n",
    "                ph_graph[\"{0} {1}\".format(all_nodes[i], all_nodes[j])] = 0.01 #a small amount > 0\n",
    "    \n",
    "    return ph_graph\n",
    "    "
   ]
  },
  {
   "cell_type": "code",
   "execution_count": 39,
   "metadata": {},
   "outputs": [],
   "source": [
    "def update_graph (path, ph_graph, city):\n",
    "    \n",
    "    #define a list of edges travelled\n",
    "    all_edges = []\n",
    "    \n",
    "    #search all the ant's path\n",
    "    for i in range(0, len(path)-1):\n",
    "        all_edges.append((path[i], path[i+1])) #as a tuple\n",
    "        \n",
    "    #define ant-k's ph levels\n",
    "    Lk = length_of_tour(path, city)\n",
    "    Q = 1.0 #length of NN algorithm\n",
    "    delt_ph = Q/Lk #equation 3\n",
    "    p = 0.1 #defined by our problem\n",
    "    \n",
    "    #check all edges against ph_graph and set ph, accounting for alphabetical order\n",
    "    for edge in all_edges:\n",
    "        \n",
    "        try:\n",
    "            ph = (1-p)*ph_graph[\"{0} {1}\".format(edge[0], edge[1])] + delt_ph\n",
    "            ph_graph[\"{0} {1}\".format(edge[0], edge[1])] = ph #normal order\n",
    "        except:\n",
    "            ph = (1-p)*ph_graph[\"{0} {1}\".format(edge[1], edge[0])] + delt_ph\n",
    "            ph_graph[\"{0} {1}\".format(edge[1], edge[0])] = ph #otherwise try switched\n",
    "            \n",
    "    #return updated graph post ant-k's tour\n",
    "    return ph_graph"
   ]
  },
  {
   "cell_type": "code",
   "execution_count": 40,
   "metadata": {},
   "outputs": [
    {
     "name": "stdout",
     "output_type": "stream",
     "text": [
      "66.0180207091077\n",
      "{'a b': 0.024147379295211775, 'a c': 0.01, 'a d': 0.01, 'a e': 0.01, 'a f': 0.01, 'a g': 0.01, 'a h': 0.01, 'a i': 0.01, 'a j': 0.01, 'a k': 0.01, 'a l': 0.01, 'a m': 0.01, 'a n': 0.01, 'a o': 0.01, 'a p': 0.01, 'a q': 0.01, 'a r': 0.01, 'b c': 0.024147379295211775, 'b d': 0.01, 'b e': 0.01, 'b f': 0.01, 'b g': 0.01, 'b h': 0.01, 'b i': 0.01, 'b j': 0.01, 'b k': 0.01, 'b l': 0.01, 'b m': 0.01, 'b n': 0.01, 'b o': 0.01, 'b p': 0.01, 'b q': 0.01, 'b r': 0.01, 'c d': 0.024147379295211775, 'c e': 0.01, 'c f': 0.01, 'c g': 0.01, 'c h': 0.01, 'c i': 0.01, 'c j': 0.01, 'c k': 0.01, 'c l': 0.01, 'c m': 0.01, 'c n': 0.01, 'c o': 0.01, 'c p': 0.01, 'c q': 0.01, 'c r': 0.01, 'd e': 0.024147379295211775, 'd f': 0.01, 'd g': 0.01, 'd h': 0.01, 'd i': 0.01, 'd j': 0.01, 'd k': 0.01, 'd l': 0.01, 'd m': 0.01, 'd n': 0.01, 'd o': 0.01, 'd p': 0.01, 'd q': 0.01, 'd r': 0.01, 'e f': 0.024147379295211775, 'e g': 0.01, 'e h': 0.01, 'e i': 0.01, 'e j': 0.01, 'e k': 0.01, 'e l': 0.01, 'e m': 0.01, 'e n': 0.01, 'e o': 0.01, 'e p': 0.01, 'e q': 0.01, 'e r': 0.01, 'f g': 0.024147379295211775, 'f h': 0.01, 'f i': 0.01, 'f j': 0.01, 'f k': 0.01, 'f l': 0.01, 'f m': 0.01, 'f n': 0.01, 'f o': 0.01, 'f p': 0.01, 'f q': 0.01, 'f r': 0.01, 'g h': 0.024147379295211775, 'g i': 0.01, 'g j': 0.01, 'g k': 0.01, 'g l': 0.01, 'g m': 0.01, 'g n': 0.01, 'g o': 0.01, 'g p': 0.01, 'g q': 0.01, 'g r': 0.01, 'h i': 0.024147379295211775, 'h j': 0.01, 'h k': 0.01, 'h l': 0.01, 'h m': 0.01, 'h n': 0.01, 'h o': 0.01, 'h p': 0.01, 'h q': 0.01, 'h r': 0.01, 'i j': 0.024147379295211775, 'i k': 0.01, 'i l': 0.01, 'i m': 0.01, 'i n': 0.01, 'i o': 0.01, 'i p': 0.01, 'i q': 0.01, 'i r': 0.01, 'j k': 0.024147379295211775, 'j l': 0.01, 'j m': 0.01, 'j n': 0.01, 'j o': 0.01, 'j p': 0.01, 'j q': 0.01, 'j r': 0.01, 'k l': 0.024147379295211775, 'k m': 0.01, 'k n': 0.01, 'k o': 0.01, 'k p': 0.01, 'k q': 0.01, 'k r': 0.01, 'l m': 0.024147379295211775, 'l n': 0.01, 'l o': 0.01, 'l p': 0.01, 'l q': 0.01, 'l r': 0.01, 'm n': 0.024147379295211775, 'm o': 0.01, 'm p': 0.01, 'm q': 0.01, 'm r': 0.01, 'n o': 0.024147379295211775, 'n p': 0.01, 'n q': 0.01, 'n r': 0.01, 'o p': 0.024147379295211775, 'o q': 0.01, 'o r': 0.01, 'p q': 0.024147379295211775, 'p r': 0.01, 'q r': 0.024147379295211775}\n"
     ]
    }
   ],
   "source": [
    "a = \"a b c d e f g h i j k l m n o p q r\".split(\" \")\n",
    "b = \"r q p o n m l k j i h g f e d c b a\".split(\" \")\n",
    "city = create_city(\"cities.dat\")\n",
    "ph_g = init_ph_graph(city)\n",
    "print(length_of_tour(b, city))\n",
    "print(update_graph(b, ph_g, city))"
   ]
  },
  {
   "cell_type": "code",
   "execution_count": 52,
   "metadata": {},
   "outputs": [],
   "source": [
    "def do_tour (path, ph_graph, city):\n",
    "    \n",
    "    #path is originally just a starting node\n",
    "    #return should be the input path + one more node travelled (accepted node)\n",
    "    \n",
    "    #establish constants\n",
    "    A = 1\n",
    "    B = 5\n",
    "    \n",
    "    while(True):\n",
    "        \n",
    "        #generate all cities not in current path\n",
    "        rest = []\n",
    "        for node in city:\n",
    "            if not node in path:\n",
    "                rest.append(node)\n",
    "        \n",
    "        #exit condition\n",
    "        if len(rest) == 0:\n",
    "            return path\n",
    "                \n",
    "        current = path[-1] #the last node in the path is the current node i\n",
    "        potential = rest[random.randint(0,len(rest)-1)] #a random node in the unvisited list is node j\n",
    "        \n",
    "        #establish Tij\n",
    "        try:\n",
    "            Tij = ph_graph[\"{0} {1}\".format(current, potential)]\n",
    "        except:\n",
    "            Tij = ph_graph[\"{0} {1}\".format(potential, current)]\n",
    "        \n",
    "        denom = 0.0\n",
    "        for j in range(0, len(rest)):\n",
    "            il = rest[j]\n",
    "            try:\n",
    "                Til = ph_graph[\"{0} {1}\".format(current, il)]\n",
    "            except:\n",
    "                Til = ph_graph[\"{0} {1}\".format(il, current)]\n",
    "            denom += (Til**A)*(inverse_distance(city[current], city[il])**B)\n",
    "            \n",
    "        probability = (Tij**A)*(inverse_distance(city[current], city[potential])**B)/denom\n",
    "        \n",
    "        #accept-reject\n",
    "        if random.random() < probability: #accepted\n",
    "            path.append(potential) #add to path\n",
    "    "
   ]
  },
  {
   "cell_type": "code",
   "execution_count": 67,
   "metadata": {},
   "outputs": [
    {
     "name": "stdout",
     "output_type": "stream",
     "text": [
      "dict_keys(['a', 'b', 'c', 'd', 'e', 'f', 'g', 'h', 'i', 'j', 'k', 'l', 'm', 'n', 'o', 'p', 'q', 'r'])\n"
     ]
    }
   ],
   "source": [
    "city = create_city(\"cities.dat\")\n",
    "print(city.keys())"
   ]
  },
  {
   "cell_type": "code",
   "execution_count": 73,
   "metadata": {},
   "outputs": [
    {
     "name": "stdout",
     "output_type": "stream",
     "text": [
      "{'a b': 0.01, 'a c': 0.03861593800305002, 'a d': 0.01, 'a e': 0.01, 'a f': 0.01, 'a g': 0.01, 'a h': 0.01, 'a i': 0.01, 'a j': 0.01, 'a k': 0.01, 'a l': 0.01, 'a m': 0.01, 'a n': 0.01, 'a o': 0.01, 'a p': 0.01, 'a q': 0.01, 'a r': 0.01, 'b c': 0.01, 'b d': 0.01, 'b e': 0.01, 'b f': 0.01, 'b g': 0.01, 'b h': 0.01, 'b i': 0.01, 'b j': 0.03861593800305002, 'b k': 0.01, 'b l': 0.01, 'b m': 0.01, 'b n': 0.03861593800305002, 'b o': 0.01, 'b p': 0.01, 'b q': 0.01, 'b r': 0.01, 'c d': 0.01, 'c e': 0.01, 'c f': 0.01, 'c g': 0.01, 'c h': 0.01, 'c i': 0.01, 'c j': 0.01, 'c k': 0.01, 'c l': 0.01, 'c m': 0.01, 'c n': 0.03861593800305002, 'c o': 0.01, 'c p': 0.01, 'c q': 0.01, 'c r': 0.01, 'd e': 0.01, 'd f': 0.01, 'd g': 0.01, 'd h': 0.01, 'd i': 0.01, 'd j': 0.01, 'd k': 0.01, 'd l': 0.03861593800305002, 'd m': 0.01, 'd n': 0.01, 'd o': 0.01, 'd p': 0.01, 'd q': 0.03861593800305002, 'd r': 0.01, 'e f': 0.01, 'e g': 0.01, 'e h': 0.01, 'e i': 0.01, 'e j': 0.01, 'e k': 0.03861593800305002, 'e l': 0.01, 'e m': 0.01, 'e n': 0.01, 'e o': 0.01, 'e p': 0.01, 'e q': 0.03861593800305002, 'e r': 0.01, 'f g': 0.01, 'f h': 0.03861593800305002, 'f i': 0.01, 'f j': 0.01, 'f k': 0.01, 'f l': 0.01, 'f m': 0.01, 'f n': 0.01, 'f o': 0.01, 'f p': 0.01, 'f q': 0.01, 'f r': 0.01, 'g h': 0.01, 'g i': 0.01, 'g j': 0.01, 'g k': 0.01, 'g l': 0.01, 'g m': 0.01, 'g n': 0.01, 'g o': 0.01, 'g p': 0.03861593800305002, 'g q': 0.01, 'g r': 0.03861593800305002, 'h i': 0.03861593800305002, 'h j': 0.01, 'h k': 0.01, 'h l': 0.01, 'h m': 0.01, 'h n': 0.01, 'h o': 0.01, 'h p': 0.01, 'h q': 0.01, 'h r': 0.01, 'i j': 0.01, 'i k': 0.01, 'i l': 0.01, 'i m': 0.03861593800305002, 'i n': 0.01, 'i o': 0.01, 'i p': 0.01, 'i q': 0.01, 'i r': 0.01, 'j k': 0.01, 'j l': 0.03861593800305002, 'j m': 0.01, 'j n': 0.01, 'j o': 0.01, 'j p': 0.01, 'j q': 0.01, 'j r': 0.01, 'k l': 0.01, 'k m': 0.01, 'k n': 0.01, 'k o': 0.03861593800305002, 'k p': 0.01, 'k q': 0.01, 'k r': 0.01, 'l m': 0.01, 'l n': 0.01, 'l o': 0.01, 'l p': 0.01, 'l q': 0.01, 'l r': 0.01, 'm n': 0.01, 'm o': 0.01, 'm p': 0.03861593800305002, 'm q': 0.01, 'm r': 0.01, 'n o': 0.01, 'n p': 0.01, 'n q': 0.01, 'n r': 0.01, 'o p': 0.01, 'o q': 0.01, 'o r': 0.03861593800305002, 'p q': 0.01, 'p r': 0.01, 'q r': 0.01}\n",
      "{'a b': 0.01, 'a c': 0.06302842203618997, 'a d': 0.01, 'a e': 0.01, 'a f': 0.01, 'a g': 0.03727407783344494, 'a h': 0.01, 'a i': 0.01, 'a j': 0.01, 'a k': 0.01, 'a l': 0.01, 'a m': 0.01, 'a n': 0.01, 'a o': 0.01, 'a p': 0.01, 'a q': 0.01, 'a r': 0.01, 'b c': 0.01, 'b d': 0.01, 'b e': 0.01, 'b f': 0.01, 'b g': 0.01, 'b h': 0.01, 'b i': 0.01, 'b j': 0.03861593800305002, 'b k': 0.01, 'b l': 0.01, 'b m': 0.01, 'b n': 0.06302842203618997, 'b o': 0.01, 'b p': 0.01, 'b q': 0.01, 'b r': 0.01, 'c d': 0.01, 'c e': 0.01, 'c f': 0.01, 'c g': 0.01, 'c h': 0.03727407783344494, 'c i': 0.01, 'c j': 0.01, 'c k': 0.01, 'c l': 0.01, 'c m': 0.01, 'c n': 0.03861593800305002, 'c o': 0.01, 'c p': 0.01, 'c q': 0.01, 'c r': 0.01, 'd e': 0.01, 'd f': 0.01, 'd g': 0.01, 'd h': 0.01, 'd i': 0.01, 'd j': 0.03727407783344494, 'd k': 0.01, 'd l': 0.06302842203618997, 'd m': 0.01, 'd n': 0.01, 'd o': 0.01, 'd p': 0.01, 'd q': 0.03861593800305002, 'd r': 0.01, 'e f': 0.01, 'e g': 0.01, 'e h': 0.01, 'e i': 0.01, 'e j': 0.03727407783344494, 'e k': 0.03861593800305002, 'e l': 0.01, 'e m': 0.01, 'e n': 0.03727407783344494, 'e o': 0.01, 'e p': 0.01, 'e q': 0.03861593800305002, 'e r': 0.01, 'f g': 0.01, 'f h': 0.06302842203618997, 'f i': 0.03727407783344494, 'f j': 0.01, 'f k': 0.01, 'f l': 0.01, 'f m': 0.01, 'f n': 0.01, 'f o': 0.01, 'f p': 0.01, 'f q': 0.01, 'f r': 0.01, 'g h': 0.01, 'g i': 0.01, 'g j': 0.01, 'g k': 0.01, 'g l': 0.01, 'g m': 0.01, 'g n': 0.01, 'g o': 0.01, 'g p': 0.06302842203618997, 'g q': 0.01, 'g r': 0.03861593800305002, 'h i': 0.03861593800305002, 'h j': 0.01, 'h k': 0.01, 'h l': 0.01, 'h m': 0.01, 'h n': 0.01, 'h o': 0.01, 'h p': 0.01, 'h q': 0.01, 'h r': 0.01, 'i j': 0.01, 'i k': 0.01, 'i l': 0.01, 'i m': 0.03861593800305002, 'i n': 0.01, 'i o': 0.01, 'i p': 0.01, 'i q': 0.03727407783344494, 'i r': 0.01, 'j k': 0.01, 'j l': 0.03861593800305002, 'j m': 0.01, 'j n': 0.01, 'j o': 0.01, 'j p': 0.01, 'j q': 0.01, 'j r': 0.01, 'k l': 0.01, 'k m': 0.01, 'k n': 0.01, 'k o': 0.06302842203618997, 'k p': 0.01, 'k q': 0.01, 'k r': 0.03727407783344494, 'l m': 0.01, 'l n': 0.01, 'l o': 0.01, 'l p': 0.01, 'l q': 0.03727407783344494, 'l r': 0.01, 'm n': 0.01, 'm o': 0.03727407783344494, 'm p': 0.06302842203618997, 'm q': 0.01, 'm r': 0.01, 'n o': 0.01, 'n p': 0.01, 'n q': 0.01, 'n r': 0.01, 'o p': 0.01, 'o q': 0.01, 'o r': 0.03861593800305002, 'p q': 0.01, 'p r': 0.01, 'q r': 0.01}\n",
      "['a', 'c', 'n', 'b', 'j', 'l', 'd', 'q', 'e', 'k', 'o', 'r', 'g', 'p', 'm', 'i', 'h', 'f'] ['b', 'n', 'e', 'j', 'd', 'l', 'q', 'i', 'f', 'h', 'c', 'a', 'g', 'p', 'm', 'o', 'k', 'r']\n"
     ]
    }
   ],
   "source": [
    "graph = init_ph_graph(city)\n",
    "ant1 = do_tour([\"a\"], graph, city)\n",
    "#print(ant1)\n",
    "#print(graph)\n",
    "graph = update_graph(ant1, graph, city)\n",
    "print(graph)\n",
    "ant2 = do_tour([\"b\"], graph, city)\n",
    "#print(ant2)\n",
    "#print(graph)\n",
    "graph = update_graph(ant2, graph, city)\n",
    "print(graph)\n",
    "print(ant1, ant2)"
   ]
  },
  {
   "cell_type": "code",
   "execution_count": null,
   "metadata": {},
   "outputs": [],
   "source": []
  }
 ],
 "metadata": {
  "kernelspec": {
   "display_name": "Python 3",
   "language": "python",
   "name": "python3"
  },
  "language_info": {
   "codemirror_mode": {
    "name": "ipython",
    "version": 3
   },
   "file_extension": ".py",
   "mimetype": "text/x-python",
   "name": "python",
   "nbconvert_exporter": "python",
   "pygments_lexer": "ipython3",
   "version": "3.6.6"
  }
 },
 "nbformat": 4,
 "nbformat_minor": 2
}
