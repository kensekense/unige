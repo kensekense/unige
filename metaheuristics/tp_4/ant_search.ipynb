{
 "cells": [
  {
   "cell_type": "code",
   "execution_count": 3,
   "metadata": {},
   "outputs": [],
   "source": [
    "import numpy as np\n",
    "import math\n",
    "import random\n",
    "import time"
   ]
  },
  {
   "cell_type": "code",
   "execution_count": 4,
   "metadata": {},
   "outputs": [],
   "source": [
    "def create_city (cityfile):\n",
    "    cityscape = {}\n",
    "    with open(cityfile, \"r\") as city_file:\n",
    "        for line in city_file:\n",
    "            line = line.split()\n",
    "            cityscape[line[0]] = (float(line[1]), float(line[2]))\n",
    "    return cityscape"
   ]
  },
  {
   "cell_type": "code",
   "execution_count": 5,
   "metadata": {},
   "outputs": [],
   "source": [
    "def distance (i, j):\n",
    "    x = i[0] - j[0]\n",
    "    y = i[1] - j[1]\n",
    "    distance = math.sqrt(x**2 + y**2) #euclidean distance\n",
    "    return distance"
   ]
  },
  {
   "cell_type": "code",
   "execution_count": 6,
   "metadata": {},
   "outputs": [],
   "source": [
    "def length_of_tour (path, city):\n",
    "    length = 0.0\n",
    "    for i in range(0, len(path)-1):\n",
    "        length += distance(city[path[i]], city[path[i+1]])\n",
    "    length += distance(city[path[len(path)-1]], city[path[0]])\n",
    "    \n",
    "    return length"
   ]
  },
  {
   "cell_type": "code",
   "execution_count": 7,
   "metadata": {},
   "outputs": [],
   "source": [
    "def inverse_distance (i, j):\n",
    "    x = i[0] - j[0]\n",
    "    y = i[1] - j[1]\n",
    "    distance = math.sqrt(x**2 + y**2) #euclidean distance\n",
    "    return 1.0/distance #inverse distance"
   ]
  },
  {
   "cell_type": "code",
   "execution_count": 59,
   "metadata": {},
   "outputs": [],
   "source": [
    "def init_ph_graph (city, T_0):\n",
    "    \n",
    "    #obtain a list of nodes\n",
    "    all_nodes = list(city.keys())\n",
    "    \n",
    "    #establish a dictionary of the graph\n",
    "    ph_graph = {}\n",
    "    \n",
    "    for i in range(0, len(all_nodes)):\n",
    "        for j in range(i, len(all_nodes)): #only do one side, save space\n",
    "            if i != j: #no self edges\n",
    "                ph_graph[\"{0} {1}\".format(all_nodes[i], all_nodes[j])] = 1.0/T_0 #a small amount > 0\n",
    "    \n",
    "    return ph_graph\n",
    "    "
   ]
  },
  {
   "cell_type": "code",
   "execution_count": 48,
   "metadata": {},
   "outputs": [],
   "source": [
    "def update_graph (path, ph_graph, city):\n",
    "    \n",
    "    #define a list of edges travelled\n",
    "    all_edges = []\n",
    "    \n",
    "    #search all the ant's path\n",
    "    for i in range(0, len(path)-1):\n",
    "        all_edges.append((path[i], path[i+1])) #as a tuple\n",
    "        \n",
    "    #define ant-k's ph levels\n",
    "    Lk = length_of_tour(path, city)\n",
    "    Q = 66.0323178894233 #length of NN algorithm\n",
    "    delt_ph = Q/Lk #equation 3\n",
    "    p = 0.1 #defined by our problem\n",
    "    \n",
    "    #check all edges against ph_graph and set ph, accounting for alphabetical order\n",
    "    for edge in all_edges:\n",
    "        \n",
    "        try:\n",
    "            ph = (1-p)*ph_graph[\"{0} {1}\".format(edge[0], edge[1])] + delt_ph\n",
    "            ph_graph[\"{0} {1}\".format(edge[0], edge[1])] = ph #normal order\n",
    "        except:\n",
    "            ph = (1-p)*ph_graph[\"{0} {1}\".format(edge[1], edge[0])] + delt_ph\n",
    "            ph_graph[\"{0} {1}\".format(edge[1], edge[0])] = ph #otherwise try switched\n",
    "            \n",
    "    #return updated graph post ant-k's tour\n",
    "    return ph_graph"
   ]
  },
  {
   "cell_type": "code",
   "execution_count": 49,
   "metadata": {},
   "outputs": [
    {
     "name": "stdout",
     "output_type": "stream",
     "text": [
      "66.0180207091077\n",
      "{'a b': 1.0092165648130922, 'a c': 0.01, 'a d': 0.01, 'a e': 0.01, 'a f': 0.01, 'a g': 0.01, 'a h': 0.01, 'a i': 0.01, 'a j': 0.01, 'a k': 0.01, 'a l': 0.01, 'a m': 0.01, 'a n': 0.01, 'a o': 0.01, 'a p': 0.01, 'a q': 0.01, 'a r': 0.01, 'b c': 1.0092165648130922, 'b d': 0.01, 'b e': 0.01, 'b f': 0.01, 'b g': 0.01, 'b h': 0.01, 'b i': 0.01, 'b j': 0.01, 'b k': 0.01, 'b l': 0.01, 'b m': 0.01, 'b n': 0.01, 'b o': 0.01, 'b p': 0.01, 'b q': 0.01, 'b r': 0.01, 'c d': 1.0092165648130922, 'c e': 0.01, 'c f': 0.01, 'c g': 0.01, 'c h': 0.01, 'c i': 0.01, 'c j': 0.01, 'c k': 0.01, 'c l': 0.01, 'c m': 0.01, 'c n': 0.01, 'c o': 0.01, 'c p': 0.01, 'c q': 0.01, 'c r': 0.01, 'd e': 1.0092165648130922, 'd f': 0.01, 'd g': 0.01, 'd h': 0.01, 'd i': 0.01, 'd j': 0.01, 'd k': 0.01, 'd l': 0.01, 'd m': 0.01, 'd n': 0.01, 'd o': 0.01, 'd p': 0.01, 'd q': 0.01, 'd r': 0.01, 'e f': 1.0092165648130922, 'e g': 0.01, 'e h': 0.01, 'e i': 0.01, 'e j': 0.01, 'e k': 0.01, 'e l': 0.01, 'e m': 0.01, 'e n': 0.01, 'e o': 0.01, 'e p': 0.01, 'e q': 0.01, 'e r': 0.01, 'f g': 1.0092165648130922, 'f h': 0.01, 'f i': 0.01, 'f j': 0.01, 'f k': 0.01, 'f l': 0.01, 'f m': 0.01, 'f n': 0.01, 'f o': 0.01, 'f p': 0.01, 'f q': 0.01, 'f r': 0.01, 'g h': 1.0092165648130922, 'g i': 0.01, 'g j': 0.01, 'g k': 0.01, 'g l': 0.01, 'g m': 0.01, 'g n': 0.01, 'g o': 0.01, 'g p': 0.01, 'g q': 0.01, 'g r': 0.01, 'h i': 1.0092165648130922, 'h j': 0.01, 'h k': 0.01, 'h l': 0.01, 'h m': 0.01, 'h n': 0.01, 'h o': 0.01, 'h p': 0.01, 'h q': 0.01, 'h r': 0.01, 'i j': 1.0092165648130922, 'i k': 0.01, 'i l': 0.01, 'i m': 0.01, 'i n': 0.01, 'i o': 0.01, 'i p': 0.01, 'i q': 0.01, 'i r': 0.01, 'j k': 1.0092165648130922, 'j l': 0.01, 'j m': 0.01, 'j n': 0.01, 'j o': 0.01, 'j p': 0.01, 'j q': 0.01, 'j r': 0.01, 'k l': 1.0092165648130922, 'k m': 0.01, 'k n': 0.01, 'k o': 0.01, 'k p': 0.01, 'k q': 0.01, 'k r': 0.01, 'l m': 1.0092165648130922, 'l n': 0.01, 'l o': 0.01, 'l p': 0.01, 'l q': 0.01, 'l r': 0.01, 'm n': 1.0092165648130922, 'm o': 0.01, 'm p': 0.01, 'm q': 0.01, 'm r': 0.01, 'n o': 1.0092165648130922, 'n p': 0.01, 'n q': 0.01, 'n r': 0.01, 'o p': 1.0092165648130922, 'o q': 0.01, 'o r': 0.01, 'p q': 1.0092165648130922, 'p r': 0.01, 'q r': 1.0092165648130922}\n"
     ]
    }
   ],
   "source": [
    "a = \"a b c d e f g h i j k l m n o p q r\".split(\" \")\n",
    "b = \"r q p o n m l k j i h g f e d c b a\".split(\" \")\n",
    "city = create_city(\"cities.dat\")\n",
    "ph_g = init_ph_graph(city)\n",
    "print(length_of_tour(b, city))\n",
    "print(update_graph(b, ph_g, city))"
   ]
  },
  {
   "cell_type": "code",
   "execution_count": 50,
   "metadata": {},
   "outputs": [],
   "source": [
    "def do_tour (path, ph_graph, city):\n",
    "    \n",
    "    #path is originally just a starting node\n",
    "    #return should be the input path + one more node travelled (accepted node)\n",
    "    \n",
    "    #establish constants\n",
    "    A = 1\n",
    "    B = 5\n",
    "    \n",
    "    while(True):\n",
    "        \n",
    "        #generate all cities not in current path\n",
    "        rest = []\n",
    "        for node in city:\n",
    "            if not node in path:\n",
    "                rest.append(node)\n",
    "        \n",
    "        #exit condition\n",
    "        if len(rest) == 0:\n",
    "            return path\n",
    "                \n",
    "        current = path[-1] #the last node in the path is the current node i\n",
    "        potential = rest[random.randint(0,len(rest)-1)] #a random node in the unvisited list is node j\n",
    "        \n",
    "        #establish Tij\n",
    "        try:\n",
    "            Tij = ph_graph[\"{0} {1}\".format(current, potential)]\n",
    "        except:\n",
    "            Tij = ph_graph[\"{0} {1}\".format(potential, current)]\n",
    "        \n",
    "        denom = 0.0\n",
    "        for j in range(0, len(rest)):\n",
    "            il = rest[j]\n",
    "            try:\n",
    "                Til = ph_graph[\"{0} {1}\".format(current, il)]\n",
    "            except:\n",
    "                Til = ph_graph[\"{0} {1}\".format(il, current)]\n",
    "            denom += (Til**A)*(inverse_distance(city[current], city[il])**B)\n",
    "            \n",
    "        probability = (Tij**A)*(inverse_distance(city[current], city[potential])**B)/denom\n",
    "        \n",
    "        #accept-reject\n",
    "        if random.random() < probability: #accepted\n",
    "            path.append(potential) #add to path\n",
    "    "
   ]
  },
  {
   "cell_type": "code",
   "execution_count": 51,
   "metadata": {},
   "outputs": [
    {
     "name": "stdout",
     "output_type": "stream",
     "text": [
      "dict_keys(['a', 'b', 'c', 'd', 'e', 'f', 'g', 'h', 'i', 'j', 'k', 'l', 'm', 'n', 'o', 'p', 'q', 'r'])\n"
     ]
    }
   ],
   "source": [
    "city = create_city(\"cities.dat\")\n",
    "print(city.keys())"
   ]
  },
  {
   "cell_type": "code",
   "execution_count": 52,
   "metadata": {},
   "outputs": [
    {
     "name": "stdout",
     "output_type": "stream",
     "text": [
      "{'a b': 2.408834555594641, 'a c': 0.01, 'a d': 0.01, 'a e': 0.01, 'a f': 0.01, 'a g': 0.01, 'a h': 0.01, 'a i': 0.01, 'a j': 0.01, 'a k': 0.01, 'a l': 0.01, 'a m': 0.01, 'a n': 0.01, 'a o': 0.01, 'a p': 0.01, 'a q': 0.01, 'a r': 0.01, 'b c': 0.01, 'b d': 0.01, 'b e': 0.01, 'b f': 0.01, 'b g': 0.01, 'b h': 0.01, 'b i': 0.01, 'b j': 0.01, 'b k': 0.01, 'b l': 0.01, 'b m': 0.01, 'b n': 2.408834555594641, 'b o': 0.01, 'b p': 0.01, 'b q': 0.01, 'b r': 0.01, 'c d': 0.01, 'c e': 0.01, 'c f': 0.01, 'c g': 0.01, 'c h': 2.408834555594641, 'c i': 0.01, 'c j': 0.01, 'c k': 0.01, 'c l': 0.01, 'c m': 0.01, 'c n': 0.01, 'c o': 0.01, 'c p': 0.01, 'c q': 0.01, 'c r': 0.01, 'd e': 0.01, 'd f': 0.01, 'd g': 0.01, 'd h': 0.01, 'd i': 0.01, 'd j': 2.408834555594641, 'd k': 0.01, 'd l': 0.01, 'd m': 0.01, 'd n': 0.01, 'd o': 0.01, 'd p': 0.01, 'd q': 2.408834555594641, 'd r': 0.01, 'e f': 0.01, 'e g': 0.01, 'e h': 0.01, 'e i': 0.01, 'e j': 0.01, 'e k': 0.01, 'e l': 2.408834555594641, 'e m': 0.01, 'e n': 0.01, 'e o': 0.01, 'e p': 0.01, 'e q': 0.01, 'e r': 2.408834555594641, 'f g': 0.01, 'f h': 2.408834555594641, 'f i': 2.408834555594641, 'f j': 0.01, 'f k': 0.01, 'f l': 0.01, 'f m': 0.01, 'f n': 0.01, 'f o': 0.01, 'f p': 0.01, 'f q': 0.01, 'f r': 0.01, 'g h': 0.01, 'g i': 0.01, 'g j': 0.01, 'g k': 0.01, 'g l': 0.01, 'g m': 0.01, 'g n': 0.01, 'g o': 2.408834555594641, 'g p': 2.408834555594641, 'g q': 0.01, 'g r': 0.01, 'h i': 0.01, 'h j': 0.01, 'h k': 0.01, 'h l': 0.01, 'h m': 0.01, 'h n': 0.01, 'h o': 0.01, 'h p': 0.01, 'h q': 0.01, 'h r': 0.01, 'i j': 0.01, 'i k': 0.01, 'i l': 0.01, 'i m': 2.408834555594641, 'i n': 0.01, 'i o': 0.01, 'i p': 0.01, 'i q': 0.01, 'i r': 0.01, 'j k': 0.01, 'j l': 0.01, 'j m': 0.01, 'j n': 2.408834555594641, 'j o': 0.01, 'j p': 0.01, 'j q': 0.01, 'j r': 0.01, 'k l': 0.01, 'k m': 0.01, 'k n': 0.01, 'k o': 2.408834555594641, 'k p': 0.01, 'k q': 0.01, 'k r': 2.408834555594641, 'l m': 0.01, 'l n': 0.01, 'l o': 0.01, 'l p': 0.01, 'l q': 2.408834555594641, 'l r': 0.01, 'm n': 0.01, 'm o': 0.01, 'm p': 2.408834555594641, 'm q': 0.01, 'm r': 0.01, 'n o': 0.01, 'n p': 0.01, 'n q': 0.01, 'n r': 0.01, 'o p': 0.01, 'o q': 0.01, 'o r': 0.01, 'p q': 0.01, 'p r': 0.01, 'q r': 0.01}\n",
      "{'a b': 2.408834555594641, 'a c': 2.408834555594641, 'a d': 0.01, 'a e': 0.01, 'a f': 0.01, 'a g': 0.01, 'a h': 0.01, 'a i': 0.01, 'a j': 0.01, 'a k': 0.01, 'a l': 0.01, 'a m': 0.01, 'a n': 0.01, 'a o': 0.01, 'a p': 0.01, 'a q': 0.01, 'a r': 0.01, 'b c': 0.01, 'b d': 0.01, 'b e': 0.01, 'b f': 0.01, 'b g': 0.01, 'b h': 0.01, 'b i': 0.01, 'b j': 0.01, 'b k': 0.01, 'b l': 0.01, 'b m': 0.01, 'b n': 4.567785655629818, 'b o': 0.01, 'b p': 0.01, 'b q': 0.01, 'b r': 0.01, 'c d': 0.01, 'c e': 0.01, 'c f': 0.01, 'c g': 0.01, 'c h': 4.567785655629818, 'c i': 0.01, 'c j': 0.01, 'c k': 0.01, 'c l': 0.01, 'c m': 0.01, 'c n': 0.01, 'c o': 0.01, 'c p': 0.01, 'c q': 0.01, 'c r': 0.01, 'd e': 0.01, 'd f': 0.01, 'd g': 0.01, 'd h': 0.01, 'd i': 0.01, 'd j': 4.567785655629818, 'd k': 0.01, 'd l': 0.01, 'd m': 0.01, 'd n': 0.01, 'd o': 0.01, 'd p': 0.01, 'd q': 4.567785655629818, 'd r': 0.01, 'e f': 0.01, 'e g': 0.01, 'e h': 0.01, 'e i': 0.01, 'e j': 0.01, 'e k': 0.01, 'e l': 4.567785655629818, 'e m': 0.01, 'e n': 0.01, 'e o': 0.01, 'e p': 0.01, 'e q': 0.01, 'e r': 4.567785655629818, 'f g': 0.01, 'f h': 4.567785655629818, 'f i': 4.567785655629818, 'f j': 0.01, 'f k': 0.01, 'f l': 0.01, 'f m': 0.01, 'f n': 0.01, 'f o': 0.01, 'f p': 0.01, 'f q': 0.01, 'f r': 0.01, 'g h': 0.01, 'g i': 0.01, 'g j': 0.01, 'g k': 0.01, 'g l': 0.01, 'g m': 0.01, 'g n': 0.01, 'g o': 4.567785655629818, 'g p': 4.567785655629818, 'g q': 0.01, 'g r': 0.01, 'h i': 0.01, 'h j': 0.01, 'h k': 0.01, 'h l': 0.01, 'h m': 0.01, 'h n': 0.01, 'h o': 0.01, 'h p': 0.01, 'h q': 0.01, 'h r': 0.01, 'i j': 0.01, 'i k': 0.01, 'i l': 0.01, 'i m': 4.567785655629818, 'i n': 0.01, 'i o': 0.01, 'i p': 0.01, 'i q': 0.01, 'i r': 0.01, 'j k': 0.01, 'j l': 0.01, 'j m': 0.01, 'j n': 4.567785655629818, 'j o': 0.01, 'j p': 0.01, 'j q': 0.01, 'j r': 0.01, 'k l': 0.01, 'k m': 0.01, 'k n': 0.01, 'k o': 4.567785655629818, 'k p': 0.01, 'k q': 0.01, 'k r': 4.567785655629818, 'l m': 0.01, 'l n': 0.01, 'l o': 0.01, 'l p': 0.01, 'l q': 4.567785655629818, 'l r': 0.01, 'm n': 0.01, 'm o': 0.01, 'm p': 4.567785655629818, 'm q': 0.01, 'm r': 0.01, 'n o': 0.01, 'n p': 0.01, 'n q': 0.01, 'n r': 0.01, 'o p': 0.01, 'o q': 0.01, 'o r': 0.01, 'p q': 0.01, 'p r': 0.01, 'q r': 0.01}\n",
      "['a', 'b', 'n', 'j', 'd', 'q', 'l', 'e', 'r', 'k', 'o', 'g', 'p', 'm', 'i', 'f', 'h', 'c'] ['b', 'n', 'j', 'd', 'q', 'l', 'e', 'r', 'k', 'o', 'g', 'p', 'm', 'i', 'f', 'h', 'c', 'a']\n"
     ]
    }
   ],
   "source": [
    "graph = init_ph_graph(city)\n",
    "ant1 = do_tour([\"a\"], graph, city)\n",
    "#print(ant1)\n",
    "#print(graph)\n",
    "graph = update_graph(ant1, graph, city)\n",
    "print(graph)\n",
    "ant2 = do_tour([\"b\"], graph, city)\n",
    "#print(ant2)\n",
    "#print(graph)\n",
    "graph = update_graph(ant2, graph, city)\n",
    "print(graph)\n",
    "print(ant1, ant2)"
   ]
  },
  {
   "cell_type": "code",
   "execution_count": 61,
   "metadata": {},
   "outputs": [],
   "source": [
    "def ant_search (cityfile, rank, timesteps):\n",
    "    \n",
    "    #create the city\n",
    "    city = create_city(cityfile)\n",
    "    \n",
    "    #find T_0\n",
    "    sum = 0.0\n",
    "    for trial in range (0, 10):\n",
    "        sum+= nearest_neighbor(cityfile)[1]\n",
    "    T_0 = 1/(sum/10.0)\n",
    "    \n",
    "    #initialize the graph\n",
    "    ph_graph = init_ph_graph(city, T_0)\n",
    "    \n",
    "    for t in range (0, timesteps):\n",
    "        for k in range (0, rank):\n",
    "            \n",
    "            #random city start and clear this timestep's paths\n",
    "            nodes = list(city.keys())\n",
    "            ant_paths = []            \n",
    "            \n",
    "            ant_k_path = [nodes[random.randint(0, len(nodes)-1)]]\n",
    "            #ant-k makes a move\n",
    "            ant_paths.append(do_tour(ant_k_path, ph_graph, city)) #determine ant-k's move\n",
    "        \n",
    "        #update the graph after all ants have moved\n",
    "        for paths in ant_paths:\n",
    "            ph_graph = update_graph(paths, ph_graph, city) #update the graph\n",
    "    \n",
    "        #keep the best solution at the end of the timesteps\n",
    "        length_best = float('inf')\n",
    "        best = []\n",
    "        for i in range(0, len(ant_paths)):\n",
    "            k_path = length_of_tour(ant_paths[i], city)\n",
    "            if k_path < length_best:\n",
    "                best = ant_paths[i][:]\n",
    "    \n",
    "    return best, length_of_tour(best, city)"
   ]
  },
  {
   "cell_type": "code",
   "execution_count": 65,
   "metadata": {},
   "outputs": [
    {
     "name": "stdout",
     "output_type": "stream",
     "text": [
      "(['c48', 'c46', 'c49', 'c41', 'c44', 'c39', 'c37', 'c29', 'c16', 'c20', 'c09', 'c13', 'c04', 'c05', 'c21', 'c17', 'c15', 'c12', 'c10', 'c19', 'c24', 'c26', 'c33', 'c31', 'c28', 'c23', 'c25', 'c32', 'c30', 'c27', 'c18', 'c14', 'c11', 'c08', 'c38', 'c42', 'c40', 'c36', 'c34', 'c45', 'c47', 'c43', 'c35', 'c22', 'c01', 'c03', 'c07', 'c02', 'c06'], 3.405440250422679)\n",
      "(['c48', 'c49', 'c46', 'c13', 'c09', 'c20', 'c16', 'c29', 'c39', 'c37', 'c26', 'c24', 'c33', 'c31', 'c28', 'c21', 'c25', 'c23', 'c18', 'c27', 'c30', 'c32', 'c34', 'c36', 'c40', 'c42', 'c38', 'c14', 'c11', 'c08', 'c07', 'c10', 'c12', 'c15', 'c17', 'c19', 'c43', 'c47', 'c45', 'c44', 'c41', 'c06', 'c02', 'c01', 'c03', 'c04', 'c05', 'c35', 'c22'], 3.9453147332574137)\n",
      "(['c39', 'c37', 'c33', 'c31', 'c28', 'c21', 'c25', 'c23', 'c18', 'c27', 'c30', 'c32', 'c34', 'c36', 'c40', 'c42', 'c45', 'c38', 'c14', 'c08', 'c11', 'c35', 'c43', 'c47', 'c20', 'c16', 'c29', 'c26', 'c24', 'c19', 'c17', 'c15', 'c12', 'c10', 'c07', 'c06', 'c09', 'c13', 'c04', 'c05', 'c48', 'c46', 'c49', 'c41', 'c44', 'c02', 'c01', 'c03', 'c22'], 3.418805173241129)\n",
      "(['c38', 'c45', 'c40', 'c36', 'c34', 'c32', 'c30', 'c27', 'c18', 'c23', 'c25', 'c21', 'c17', 'c19', 'c28', 'c31', 'c33', 'c26', 'c24', 'c37', 'c39', 'c29', 'c16', 'c20', 'c09', 'c13', 'c46', 'c49', 'c48', 'c05', 'c04', 'c02', 'c06', 'c41', 'c44', 'c47', 'c43', 'c35', 'c11', 'c08', 'c14', 'c07', 'c10', 'c12', 'c15', 'c03', 'c01', 'c22', 'c42'], 3.2975273644585443)\n"
     ]
    }
   ],
   "source": [
    "sol = ant_search(\"cities2.dat\", 10, 10)\n",
    "print(sol)\n",
    "sol2 = ant_search(\"cities2.dat\", 20, 20)\n",
    "print(sol2)\n",
    "sol3 = ant_search(\"cities2.dat\", 10, 20)\n",
    "print(sol3)\n",
    "sol4 = ant_search(\"cities2.dat\", 20, 10)\n",
    "print(sol4)"
   ]
  },
  {
   "cell_type": "code",
   "execution_count": 67,
   "metadata": {},
   "outputs": [
    {
     "name": "stdout",
     "output_type": "stream",
     "text": [
      "(['c25', 'c23', 'c32', 'c30', 'c27', 'c18', 'c14', 'c11', 'c08', 'c17', 'c19', 'c24', 'c26', 'c37', 'c39', 'c29', 'c20', 'c16', 'c36', 'c34', 'c40', 'c42', 'c38', 'c45', 'c47', 'c43', 'c35', 'c22', 'c06', 'c09', 'c13', 'c04', 'c05', 'c48', 'c49', 'c46', 'c41', 'c44', 'c31', 'c33', 'c28', 'c21', 'c15', 'c12', 'c10', 'c07', 'c03', 'c01', 'c02'], 3.247319775363781)\n"
     ]
    }
   ],
   "source": [
    "sol5 = ant_search(\"cities2.dat\", 50, 20)\n",
    "print(sol5)"
   ]
  },
  {
   "cell_type": "code",
   "execution_count": 45,
   "metadata": {},
   "outputs": [],
   "source": [
    "def nearest_neighbor(cityfile):\n",
    "    city = create_city(cityfile)\n",
    "    \n",
    "    nodes = list(city.keys())\n",
    "    path = [nodes[random.randint(0, len(nodes)-1)]]\n",
    "    #path = ['i'] #for testing consistency\n",
    "    \n",
    "    visited = []\n",
    "    current = path[-1]\n",
    "    \n",
    "    while(1):\n",
    "        \n",
    "        #create the rest of the options\n",
    "        rest = []\n",
    "        for node in nodes:\n",
    "            if not node in path:\n",
    "                rest.append(node)\n",
    "        \n",
    "        #exit condition\n",
    "        if len(rest) == 0:\n",
    "            return path, length_of_tour(path, city)\n",
    "        \n",
    "        #find the distance from current to rest\n",
    "        shortest = float('inf')\n",
    "        for i in range(0, len(rest)):\n",
    "            if distance(city[current], city[rest[i]]) < shortest:\n",
    "                best = rest[i]\n",
    "        \n",
    "        current = best[:] #copy the best as current\n",
    "        path.append(current) #add it to the path\n",
    "                "
   ]
  },
  {
   "cell_type": "code",
   "execution_count": 58,
   "metadata": {},
   "outputs": [
    {
     "name": "stdout",
     "output_type": "stream",
     "text": [
      "7.219972236830427\n"
     ]
    }
   ],
   "source": [
    "sum = 0.0\n",
    "for trial in range (0, 10):\n",
    "    sum+= nearest_neighbor(\"cities2.dat\")[1]\n",
    "print(sum/10)"
   ]
  },
  {
   "cell_type": "code",
   "execution_count": 77,
   "metadata": {},
   "outputs": [
    {
     "data": {
      "image/png": "[encoded data removed]",
      "text/plain": [
       "<Figure size 432x288 with 1 Axes>"
      ]
     },
     "metadata": {},
     "output_type": "display_data"
    }
   ],
   "source": [
    "import matplotlib.pyplot as plt\n",
    "import seaborn as sb\n",
    "\n",
    "sol = ant_search(\"cities.dat\", 10, 10)\n",
    "\n",
    "show_locations = sol[0]\n",
    "show_locations.append(show_locations[0])\n",
    "cities = create_city(\"cities.dat\")\n",
    "xes = []\n",
    "yes = []\n",
    "for locations in show_locations:\n",
    "    xes.append(cities[locations][0]) #x loc\n",
    "    yes.append(cities[locations][1]) #y loc\n",
    "\n",
    "with sb.axes_style(\"darkgrid\"):\n",
    "    \n",
    "    ax = sb.scatterplot(xes[:],yes[:])\n",
    "    plt.plot(xes[:],yes[:])\n",
    "    ax.title.set_text(\"AS Solution Path for cities.dat TSP: \"+str(sol[1]))\n",
    "    ax.set(xlabel = \"x-coordinate\", ylabel= \"y-coordinate\")"
   ]
  },
  {
   "cell_type": "code",
   "execution_count": 78,
   "metadata": {},
   "outputs": [
    {
     "name": "stdout",
     "output_type": "stream",
     "text": [
      "(['k', 'o', 'r', 'e', 'l', 'd', 'j', 'n', 'b', 'a', 'c', 'f', 'h', 'i', 'q', 'g', 'p', 'm', 'k'], 31.408517460099883)\n"
     ]
    }
   ],
   "source": [
    "print(sol)"
   ]
  },
  {
   "cell_type": "code",
   "execution_count": null,
   "metadata": {},
   "outputs": [],
   "source": []
  }
 ],
 "metadata": {
  "kernelspec": {
   "display_name": "Python 3",
   "language": "python",
   "name": "python3"
  },
  "language_info": {
   "codemirror_mode": {
    "name": "ipython",
    "version": 3
   },
   "file_extension": ".py",
   "mimetype": "text/x-python",
   "name": "python",
   "nbconvert_exporter": "python",
   "pygments_lexer": "ipython3",
   "version": "3.6.6"
  }
 },
 "nbformat": 4,
 "nbformat_minor": 2
}
