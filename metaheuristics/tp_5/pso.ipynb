{
 "cells": [
  {
   "cell_type": "code",
   "execution_count": 18,
   "metadata": {},
   "outputs": [],
   "source": [
    "#Ning\n",
    "#17 Nov\n",
    "#Metaheuristics TP5\n",
    "\n",
    "#import statements\n",
    "import numpy as np\n",
    "import pandas as pd\n",
    "import matplotlib.pyplot as plt\n",
    "import seaborn as sb\n",
    "import math\n",
    "import random"
   ]
  },
  {
   "cell_type": "code",
   "execution_count": 3,
   "metadata": {},
   "outputs": [],
   "source": [
    "#preliminary look at the X.dat file and Y.dat file\n",
    "#Note that 0 corresponds to 'two' and 1 corresponds to 'three'\n",
    "\n",
    "def transfer_file_to_arrays (filename):\n",
    "    \n",
    "    images = []\n",
    "    \n",
    "    with open(filename, \"r\") as fp:\n",
    "        for line in fp:\n",
    "            line = line.split(\",\") #split values on ,\n",
    "            for i in range(0, len(line)):\n",
    "                line[i] = float(line[i]) #turn into a float\n",
    "            line = np.array(line)\n",
    "            images.append(line) #append in np array format\n",
    "\n",
    "    return images\n",
    "\n",
    "def get_labels (filename):\n",
    "    labels = []\n",
    "    with open(filename, \"r\") as fp:\n",
    "        for line in fp:\n",
    "            labels.append(float(line))\n",
    "    return labels"
   ]
  },
  {
   "cell_type": "code",
   "execution_count": 4,
   "metadata": {},
   "outputs": [
    {
     "name": "stdout",
     "output_type": "stream",
     "text": [
      "200\n",
      "400\n",
      "200\n"
     ]
    }
   ],
   "source": [
    "images = transfer_file_to_arrays(\"X.dat\")\n",
    "print(len(images)) #confirm that we have 200 images stored\n",
    "print(images[0].shape[0]) #confirm the shape of the image\n",
    "labels = get_labels(\"Y.dat\")\n",
    "print(len(labels))"
   ]
  },
  {
   "cell_type": "code",
   "execution_count": 5,
   "metadata": {},
   "outputs": [
    {
     "data": {
      "text/plain": [
       "<matplotlib.image.AxesImage at 0x7f8d14799390>"
      ]
     },
     "execution_count": 5,
     "metadata": {},
     "output_type": "execute_result"
    },
    {
     "data": {
      "image/png": "[encoded data removed]",
      "text/plain": [
       "<Figure size 432x288 with 1 Axes>"
      ]
     },
     "metadata": {
      "needs_background": "light"
     },
     "output_type": "display_data"
    }
   ],
   "source": [
    "#show a sample of the image to see if we have one\n",
    "plt.imshow(np.reshape(images[2], (20,20), order=\"F\"), cmap=\"Greys\")"
   ]
  },
  {
   "cell_type": "code",
   "execution_count": 7,
   "metadata": {},
   "outputs": [],
   "source": [
    "def turn_two_to_one (theta1, theta2):\n",
    "    return np.concatenate((theta1.flatten(), theta2.flatten()), axis=None)\n",
    "\n",
    "def turn_one_to_two (big_theta):\n",
    "    \n",
    "    theta1 = np.reshape(big_theta[0:10025], (25,401)) #need to be careful here because of shape\n",
    "    theta2 = np.reshape(big_theta[10025:], (1,26))\n",
    "    \n",
    "    return theta1, theta2"
   ]
  },
  {
   "cell_type": "code",
   "execution_count": 8,
   "metadata": {},
   "outputs": [
    {
     "name": "stdout",
     "output_type": "stream",
     "text": [
      "[[ True  True  True ...  True  True  True]\n",
      " [ True  True  True ...  True  True  True]\n",
      " [ True  True  True ...  True  True  True]\n",
      " ...\n",
      " [ True  True  True ...  True  True  True]\n",
      " [ True  True  True ...  True  True  True]\n",
      " [ True  True  True ...  True  True  True]]\n",
      "[[ True  True  True  True  True  True  True  True  True  True  True  True\n",
      "   True  True  True  True  True  True  True  True  True  True  True  True\n",
      "   True  True]]\n"
     ]
    }
   ],
   "source": [
    "#testing\n",
    "a = 6*np.zeros((25,401))-3\n",
    "b = 6*np.full((1,26),1)-3\n",
    "\n",
    "ab = turn_two_to_one(a,b)\n",
    "c,d = turn_one_to_two(ab)\n",
    "\n",
    "print(a==c)\n",
    "print(b==d)"
   ]
  },
  {
   "cell_type": "code",
   "execution_count": 9,
   "metadata": {},
   "outputs": [],
   "source": [
    "def sigmoid (X):\n",
    "    return 1/(1+np.exp(-X))\n",
    "\n",
    "def first_layer (picture):\n",
    "    '''\n",
    "    first layer's role is to download the 400 pixels of the picture\n",
    "    and have one neuron that is the bias \n",
    "    '''\n",
    "    #add bias neuron\n",
    "    layer_n = picture.shape[0]\n",
    "    first_layer = np.insert(picture, 0, 1.0) #add 1 as the bias\n",
    "    \n",
    "    return first_layer\n",
    "\n",
    "def second_layer (layer, theta):\n",
    "    '''\n",
    "    second layer contains 25 neurons, plus 1 for the bias\n",
    "    job is to matmul the first layer's output with theta, apply sigmoid function, add bias\n",
    "    \n",
    "    theta is the matrix of size (25, 401)\n",
    "    '''\n",
    "    \n",
    "    res = np.matmul(theta, layer) #should be a matmul of sizes (25,401)(401,) -> (25,)\n",
    "    \n",
    "    #apply the sigmoid function\n",
    "    res = sigmoid(res)\n",
    "    \n",
    "    res_n = res.shape[0] #should be 25\n",
    "    \n",
    "    second_layer = np.insert(res, 0, 1.0) #add 1 as the bias\n",
    "    \n",
    "    return second_layer\n",
    "\n",
    "def third_layer (layer, theta):\n",
    "    '''\n",
    "    third layer contains 1 neuron\n",
    "    job is to matmul the second layer's output with theta, apply sigmoid function, and return\n",
    "    \n",
    "    theta is the matrix of size (1, 26)\n",
    "    '''\n",
    "    \n",
    "    res = np.matmul(theta, layer) #should be a matmul of sizes (1,26)(26,) -> (1,)\n",
    "    \n",
    "    #apply the sigmoid function\n",
    "    res = sigmoid(res)\n",
    "    \n",
    "    return res #should be a singular value answer, our prediction\n",
    "\n",
    "def nn_predict (image, big_theta):\n",
    "    '''\n",
    "    application of all three layers\n",
    "    '''\n",
    "    \n",
    "    #temporary values\n",
    "    theta1, theta2 = turn_one_to_two(big_theta)\n",
    "    \n",
    "    layer1 = first_layer(image)\n",
    "    layer2 = second_layer(layer1, theta1) #this theta value will take on PSO's output once complete\n",
    "    layer3 = third_layer(layer2, theta2)\n",
    "    \n",
    "    return layer3[0] #the prediction    "
   ]
  },
  {
   "cell_type": "code",
   "execution_count": 10,
   "metadata": {},
   "outputs": [
    {
     "name": "stdout",
     "output_type": "stream",
     "text": [
      "0.9525741268224334\n"
     ]
    }
   ],
   "source": [
    "#do some testing with values, we should be able to get a value\n",
    "test = images[2]\n",
    "print(nn_predict(test, ab))"
   ]
  },
  {
   "cell_type": "markdown",
   "metadata": {},
   "source": [
    "Well, that certainly looks like a value. Good job kense. Time to start PSO"
   ]
  },
  {
   "cell_type": "code",
   "execution_count": 11,
   "metadata": {},
   "outputs": [],
   "source": [
    "def calc_fitness(big_theta, images, labels):\n",
    "    fitness = 0.0\n",
    "    for k in range(0, len(labels)):\n",
    "        fitness+=(labels[k] - nn_predict(images[k], big_theta))**2\n",
    "    return fitness/len(labels)"
   ]
  },
  {
   "cell_type": "code",
   "execution_count": 12,
   "metadata": {},
   "outputs": [
    {
     "name": "stdout",
     "output_type": "stream",
     "text": [
      "0.4999992629919221\n"
     ]
    }
   ],
   "source": [
    "t1 = np.random.rand(25,401)\n",
    "t2 = np.random.rand(1,26)\n",
    "bt = turn_two_to_one(t1,t2)\n",
    "print(calc_fitness(bt, images, labels))"
   ]
  },
  {
   "cell_type": "code",
   "execution_count": 13,
   "metadata": {},
   "outputs": [],
   "source": [
    "def init_positions ():\n",
    "    return 2*np.random.rand(25,401)-1, 2*np.random.rand(1,26)-1\n",
    "\n",
    "def init_velocities ():\n",
    "    return np.zeros((25,401)), np.zeros((1,26))"
   ]
  },
  {
   "cell_type": "code",
   "execution_count": 14,
   "metadata": {},
   "outputs": [],
   "source": [
    "def PSO (n, tmax, images, labels):\n",
    "    \n",
    "    #variables\n",
    "    global_best = np.array([None,float('inf')]) #global_best is (position, fitness)\n",
    "    inertia_constant = 0.9\n",
    "    c1 = 1.99811 #defined by the assignment as close to 2\n",
    "    c2 = 1.99899\n",
    "    t = 0\n",
    "    vmax = 0.1\n",
    "    \n",
    "    #initialize particles -> (s, v, b)\n",
    "    particles = []\n",
    "    for i in range(n):\n",
    "        s0_a, s0_b = init_positions()\n",
    "        v0_a, v0_b = init_velocities()\n",
    "        \n",
    "        big_s0 = turn_two_to_one(s0_a, s0_b)\n",
    "        big_v0 = turn_two_to_one(v0_a, v0_b)\n",
    "        particle = np.array([big_s0, big_v0, big_s0]) #personal_best init is s0\n",
    "        particles.append(particle)\n",
    "   \n",
    "    \n",
    "    while(t < tmax):\n",
    "        \n",
    "        #for each particle\n",
    "        for i in range(n):\n",
    "            fit = calc_fitness(particles[i][0], images, labels) #positions are taken to calc fitness\n",
    "            pbest_fit = calc_fitness(particles[i][2], images, labels)\n",
    "            if fit <= pbest_fit: #if better than personal_best\n",
    "                particles[i][2] = particles[i][0][:] #copy as new best\n",
    "                \n",
    "        #set global_best\n",
    "        for i in range(n):\n",
    "            fit = calc_fitness(particles[i][2], images, labels)\n",
    "            if fit <= global_best[1]: #if personal_best better than global_best\n",
    "                global_best[1] = fit\n",
    "                global_best[0] = particles[i][2][:] #set new values for global\n",
    "        \n",
    "        #particle updates\n",
    "        for i in range(n):\n",
    "            r1 = random.random()\n",
    "            r2 = random.random()\n",
    "            \n",
    "            #update velocity\n",
    "            particles[i][1] = inertia_constant*particles[i][1] + c1*r1*(particles[i][2]-particles[i][0]) + c2*r2*(global_best[0]-particles[i][0])\n",
    "        \n",
    "            #velocity cutoff?\n",
    "            particles[i][1][particles[i][1] > vmax] = vmax\n",
    "            particles[i][1][particles[i][1] < -1*vmax] = -1*vmax\n",
    "        \n",
    "            #update positions\n",
    "            particles[i][0] = particles[i][0] + particles[i][1]\n",
    "            \n",
    "            #correct particles out of range\n",
    "            for x in range(len(particles[i][0])):\n",
    "                particles[i][0][x] -(2*(particles[i][0][x]-1))\n",
    "                particles[i][0][x] + (2*-1-particles[i][0][x])\n",
    "        \n",
    "        t = t + 1\n",
    "    \n",
    "    #get the stats of the global_best\n",
    "    theta1, theta2 = turn_one_to_two(global_best[0]) #separate global_best's particle into thetas\n",
    "    return theta1, theta2 #return"
   ]
  },
  {
   "cell_type": "code",
   "execution_count": 15,
   "metadata": {},
   "outputs": [
    {
     "name": "stdout",
     "output_type": "stream",
     "text": [
      "[[ 1.23052974 -0.25132168  0.09630181 ... -1.44251085  0.87655963\n",
      "  -0.39313912]\n",
      " [-1.69120693 -0.83304209  0.42884806 ... -0.90531218  1.37398591\n",
      "   1.83107494]\n",
      " [ 0.28786973 -0.45983586  0.31241736 ...  0.29435343 -0.90474082\n",
      "  -1.25938518]\n",
      " ...\n",
      " [ 0.76122938  1.05937381  0.74554106 ...  1.18759362  0.52487228\n",
      "  -1.35449155]\n",
      " [-0.14680765 -1.52604633 -1.24480789 ...  0.26474434 -1.46646198\n",
      "  -1.90987452]\n",
      " [ 0.32530122  0.86431663  0.11379993 ...  0.32532388 -1.08372556\n",
      "  -0.21969164]] [[-0.08933391  2.04324303 -1.17681853  2.57194634  0.22594376  0.56439394\n",
      "   1.36717082  0.14258934 -1.91050157 -2.75970557  0.17122993  0.07546156\n",
      "  -0.4574243   1.8245242   0.17613445 -0.32804758 -0.60562302 -0.62378694\n",
      "  -1.81731313 -3.16024992  1.64242484  0.635771    0.92647091 -1.03921011\n",
      "   0.38526205  0.27218909]]\n"
     ]
    }
   ],
   "source": [
    "#testing\n",
    "a,b = PSO(20, 200, images, labels)\n",
    "\n",
    "print(a,b)"
   ]
  },
  {
   "cell_type": "code",
   "execution_count": 21,
   "metadata": {},
   "outputs": [
    {
     "name": "stdout",
     "output_type": "stream",
     "text": [
      "1.0\n"
     ]
    }
   ],
   "source": [
    "#error testing\n",
    "correct = 0\n",
    "predictions = []\n",
    "for i in range(len(images)):\n",
    "    predict = nn_predict(images[i], turn_two_to_one(a,b))\n",
    "    predictions.append(predict)\n",
    "    truth = labels[i]\n",
    "    \n",
    "    if truth == int(predict+0.5):\n",
    "        correct += 1\n",
    "print(correct/len(labels))"
   ]
  },
  {
   "cell_type": "code",
   "execution_count": 23,
   "metadata": {},
   "outputs": [
    {
     "data": {
      "text/plain": [
       "[0.993190594165487,\n",
       " 0.7817106451996119,\n",
       " 0.8773166180293429,\n",
       " 0.8373565020365438,\n",
       " 0.9991872075343677,\n",
       " 0.9697698274204231,\n",
       " 0.9115314453899871,\n",
       " 0.9826441507823865,\n",
       " 0.9995058618446606,\n",
       " 0.9875972407689736,\n",
       " 0.9992813473483458,\n",
       " 0.992480480436782,\n",
       " 0.9998929371607637,\n",
       " 0.8871328679845287,\n",
       " 0.9972911424104663,\n",
       " 0.9561482948370634,\n",
       " 0.9996494180014334,\n",
       " 0.9692292265038309,\n",
       " 0.9698601458214076,\n",
       " 0.9257917552084677,\n",
       " 0.9751677186850238,\n",
       " 0.9996857558503742,\n",
       " 0.9992575361034871,\n",
       " 0.9164928683790776,\n",
       " 0.9985792993155753,\n",
       " 0.9430737446861421,\n",
       " 0.9025567093272756,\n",
       " 0.9995281411692349,\n",
       " 0.9736441710186516,\n",
       " 0.9688803456511332,\n",
       " 0.9437958137130646,\n",
       " 0.9940105240794369,\n",
       " 0.9963173531667447,\n",
       " 0.979936910102686,\n",
       " 0.9492541167598854,\n",
       " 0.9957881924423712,\n",
       " 0.9753922215559198,\n",
       " 0.9980674506804712,\n",
       " 0.9662556241457253,\n",
       " 0.8602766945952789,\n",
       " 0.9610137150537302,\n",
       " 0.9970981042619254,\n",
       " 0.9872567295131975,\n",
       " 0.9970837346853132,\n",
       " 0.9938218599027162,\n",
       " 0.9916696376438756,\n",
       " 0.9996431882246547,\n",
       " 0.9979993590335602,\n",
       " 0.9326632310346779,\n",
       " 0.943891254466502,\n",
       " 0.9996658792348836,\n",
       " 0.993956853258691,\n",
       " 0.9720106668867615,\n",
       " 0.9998492882468784,\n",
       " 0.9717869886372517,\n",
       " 0.9940983588982634,\n",
       " 0.8610749335377645,\n",
       " 0.9260669968165808,\n",
       " 0.99494053717158,\n",
       " 0.9536007152531434,\n",
       " 0.9407161863482583,\n",
       " 0.9691913739748008,\n",
       " 0.9672662699809227,\n",
       " 0.9560813894892695,\n",
       " 0.9973579197235533,\n",
       " 0.9931347003001323,\n",
       " 0.9965187025953627,\n",
       " 0.9988260741956695,\n",
       " 0.9996722379517573,\n",
       " 0.9966303440333526,\n",
       " 0.9308848065131192,\n",
       " 0.9989973014807787,\n",
       " 0.9912603510893854,\n",
       " 0.9862829457306853,\n",
       " 0.9904545220032712,\n",
       " 0.9998682164244724,\n",
       " 0.9831711296148754,\n",
       " 0.9985276854529525,\n",
       " 0.9514941530739093,\n",
       " 0.8331317990865902,\n",
       " 0.8826721908021394,\n",
       " 0.9748846251266094,\n",
       " 0.9915658757043899,\n",
       " 0.9964247997958937,\n",
       " 0.9950331046965778,\n",
       " 0.9975749107368409,\n",
       " 0.9631827501758109,\n",
       " 0.9277684528332982,\n",
       " 0.9976791095168454,\n",
       " 0.9670891290132113,\n",
       " 0.9861789573238349,\n",
       " 0.9318826750468635,\n",
       " 0.9928328374973217,\n",
       " 0.9878947860260461,\n",
       " 0.9984996661752564,\n",
       " 0.9419095127592509,\n",
       " 0.9824802877333909,\n",
       " 0.9922464218515138,\n",
       " 0.9938834910283388,\n",
       " 0.9995450679750122,\n",
       " 0.00041244568503284534,\n",
       " 0.0005239287001070523,\n",
       " 0.012241360078814205,\n",
       " 0.009785920819200362,\n",
       " 0.0007622900757587198,\n",
       " 0.11934103758615487,\n",
       " 0.07528179023940475,\n",
       " 0.004298299469282836,\n",
       " 0.010094896874270625,\n",
       " 0.0055696082553175486,\n",
       " 0.06776821554562347,\n",
       " 0.07342566267005458,\n",
       " 0.009979995432854199,\n",
       " 0.0017448748544811154,\n",
       " 0.0823307316302903,\n",
       " 0.00850643935564059,\n",
       " 0.002291203189308147,\n",
       " 0.034530712562193075,\n",
       " 0.0017747068633069902,\n",
       " 0.0008346154937404214,\n",
       " 0.007723530223401895,\n",
       " 0.003910137664363638,\n",
       " 0.18686843860816607,\n",
       " 0.0020998819853142213,\n",
       " 0.0002877006183391677,\n",
       " 0.0061551359047904266,\n",
       " 0.01666884045885089,\n",
       " 0.00327670030885182,\n",
       " 0.016502836599799054,\n",
       " 0.025890947312579897,\n",
       " 0.004987610420179224,\n",
       " 0.0017074829964439909,\n",
       " 0.0008482038473405095,\n",
       " 0.0004525818589993611,\n",
       " 0.026374389353297018,\n",
       " 0.004178508490779135,\n",
       " 0.002565426252300792,\n",
       " 0.0018791890912458228,\n",
       " 0.15756058214294838,\n",
       " 0.0035064027910050445,\n",
       " 0.057855103766682785,\n",
       " 0.006946181715654325,\n",
       " 0.031030572529945923,\n",
       " 0.0027798226149557707,\n",
       " 0.001634366278588402,\n",
       " 0.14379845435009625,\n",
       " 0.005467314826232567,\n",
       " 0.0040267336453955185,\n",
       " 0.0014426230300314746,\n",
       " 0.026102122647341422,\n",
       " 0.02115814861294912,\n",
       " 0.19840677580812943,\n",
       " 0.059268892343993414,\n",
       " 0.002967540576885984,\n",
       " 0.03726627417487555,\n",
       " 0.01771730921627991,\n",
       " 0.009107020764814476,\n",
       " 0.07395154544417078,\n",
       " 0.19664020150804332,\n",
       " 0.008215840444288235,\n",
       " 0.0074234643203372865,\n",
       " 0.001579174370515425,\n",
       " 0.04005592108889621,\n",
       " 0.01264688062159365,\n",
       " 0.00942565487247483,\n",
       " 0.0033481038409213255,\n",
       " 0.031283865713445165,\n",
       " 0.000980047657185387,\n",
       " 0.03358333502298653,\n",
       " 0.006705916356853382,\n",
       " 0.006350155446685453,\n",
       " 0.003500044049190898,\n",
       " 0.029817804579883395,\n",
       " 0.008180547440044239,\n",
       " 0.007398161632827849,\n",
       " 0.001911362638829047,\n",
       " 0.055558939217466664,\n",
       " 0.031515049040602455,\n",
       " 0.0045608859381968325,\n",
       " 0.0028565525173043656,\n",
       " 0.10445061360662067,\n",
       " 0.012167750402130785,\n",
       " 0.0005476577142101925,\n",
       " 0.0023185524594894298,\n",
       " 0.025979278958770717,\n",
       " 0.04814082887600313,\n",
       " 0.0074531721155365604,\n",
       " 0.0009760045026074432,\n",
       " 0.10079647012571112,\n",
       " 0.020736755613148708,\n",
       " 0.0015915961134076399,\n",
       " 0.0013309250958288238,\n",
       " 0.010274024135649134,\n",
       " 0.005805448364789412,\n",
       " 0.030696301936724457,\n",
       " 0.04494472358118661,\n",
       " 0.00909252962762749,\n",
       " 0.002725749280299663,\n",
       " 0.0008649378413432552,\n",
       " 0.0024764685145358296]"
      ]
     },
     "execution_count": 23,
     "metadata": {},
     "output_type": "execute_result"
    }
   ],
   "source": [
    "predictions"
   ]
  },
  {
   "cell_type": "code",
   "execution_count": 29,
   "metadata": {},
   "outputs": [],
   "source": [
    "def calc_error(a,b,images,labels):\n",
    "    #error testing\n",
    "    correct = 0\n",
    "    predictions = []\n",
    "    for i in range(len(images)):\n",
    "        predict = nn_predict(images[i], turn_two_to_one(a,b))\n",
    "        predictions.append(predict)\n",
    "        truth = labels[i]\n",
    "\n",
    "        if truth != int(predict+0.5):\n",
    "            correct += 1\n",
    "            \n",
    "    return correct/len(labels)"
   ]
  },
  {
   "cell_type": "code",
   "execution_count": 37,
   "metadata": {},
   "outputs": [],
   "source": [
    "with open(\"./results/run_{0}\".format(0), \"w\") as wp:\n",
    "    wp.write(str(calc_fitness(turn_two_to_one(a,b),images,labels)))"
   ]
  },
  {
   "cell_type": "code",
   "execution_count": null,
   "metadata": {},
   "outputs": [],
   "source": [
    "#plot fitness as a function of iteration number\n",
    "fitnesses = []\n",
    "for i in range(10, 110, 10): #we choose steps of 10\n",
    "    a,b = PSO(20, i, images, labels)\n",
    "    fitnesses.append(calc_fitness(turn_two_to_one(a,b),images,labels))\n",
    "\n",
    "x_axis = [10,20,30,40,50,60,70,80,90,100]\n",
    "fit_itr_data = pd.DataFrame({\"x\":x_axis, \"y\":fitnesses})"
   ]
  },
  {
   "cell_type": "code",
   "execution_count": 28,
   "metadata": {},
   "outputs": [
    {
     "data": {
      "image/png": "[encoded data removed]",
      "text/plain": [
       "<Figure size 432x288 with 1 Axes>"
      ]
     },
     "metadata": {
      "needs_background": "light"
     },
     "output_type": "display_data"
    }
   ],
   "source": [
    "f = plt.figure()\n",
    "with sb.axes_style(\"darkgrid\"):\n",
    "    ax = sb.lineplot(x=\"x\",y=\"y\",data=fit_itr_data)\n",
    "    ax.title.set_text(\"Fitness over Iterations\")\n",
    "    ax.set(xlabel=\"Iterations\", ylabel=\"Fitness\")"
   ]
  },
  {
   "cell_type": "code",
   "execution_count": null,
   "metadata": {},
   "outputs": [],
   "source": []
  }
 ],
 "metadata": {
  "kernelspec": {
   "display_name": "Python 3",
   "language": "python",
   "name": "python3"
  },
  "language_info": {
   "codemirror_mode": {
    "name": "ipython",
    "version": 3
   },
   "file_extension": ".py",
   "mimetype": "text/x-python",
   "name": "python",
   "nbconvert_exporter": "python",
   "pygments_lexer": "ipython3",
   "version": "3.6.8"
  }
 },
 "nbformat": 4,
 "nbformat_minor": 2
}
