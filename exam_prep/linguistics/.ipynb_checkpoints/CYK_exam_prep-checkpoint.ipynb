{
 "cells": [
  {
   "cell_type": "code",
   "execution_count": 1,
   "metadata": {},
   "outputs": [],
   "source": [
    "import numpy as np"
   ]
  },
  {
   "cell_type": "code",
   "execution_count": null,
   "metadata": {},
   "outputs": [],
   "source": [
    "#we need to define some grammar\n",
    "grammar = {}\n",
    "\n",
    "def parse(grammar, sentence):\n",
    "    '''\n",
    "    grammar is a dictionary of our CFG,\n",
    "    sentence is a list of words\n",
    "    '''\n",
    "    \n",
    "    #we set up some necessary containers\n",
    "    N = set(grammar['NTR'].keys()) | set(grammar['TR'].keys()) #these are the non-terminals\n",
    "    S = grammar['I'] #starting symbol\n",
    "    n = len(sentence) #the length of the sentence, number of words\n",
    "    trellis = {} #considering initialization to 0?\n",
    "    bp = {}\n",
    "    \n",
    "    #base case set up\n",
    "    for i in range(1,n): #spanning from 1 to n\n",
    "        found = False\n",
    "        \n",
    "        for X in N: #we do for every non-terminal\n",
    "            \n",
    "            if (X in grammar[\"TR\"]) and (sentence[i] in grammar[\"TR\"][X]): #if we're in the grammar\n",
    "                trellis[(i,i,X)] = grammar[\"TR\"][X][sentence[i]] #probability of the word\n",
    "                bp[(i,i,X)] = ((X, sentence[i]),0)\n",
    "                found = True\n",
    "        \n",
    "        if not found: #not in the grammar\n",
    "            for X in grammar[\"TR\"]:\n",
    "                if \"_UNK_\" in grammar[\"TR\"][X]:\n",
    "                    trellis[(i,i,X)] = grammar[\"TR\"][X][\"_UNK_\"]\n",
    "                    bp[(i,i,X)] = ((X, sentence[i]),0)\n",
    "    \n",
    "    #CYK proper\n",
    "    for l in range(1,n): #this set up arranges the procedure of checking\n",
    "        for i in range(1, n-l+1):\n",
    "            j = i + l\n",
    "            \n",
    "            for X in N: #for every non-terminal\n",
    "                maxProb = 0.0\n",
    "                maxRule = \"\"\n",
    "                maxS = \"\"\n",
    "                \n",
    "                if X in grammar[\"NTR\"]: #if we're in the lhs\n",
    "                    for rule in grammar[\"NTR\"][X]: #set the rhs\n",
    "                        Y,Z = rule\n",
    "                        for s in range(i,j):\n",
    "                            prob = grammar[\"NTR\"][X][rule] * trellis[(i,s,Y)] * trellis[(s+1,j,Z)]\n",
    "                            if prob > maxProb:\n",
    "                                maxProb = prob\n",
    "                                maxRule = (X,Y,Z) #for format X -> YZ\n",
    "                                maxS = s\n",
    "                                \n",
    "                if maxProb > 0.0: #if we have a consideration\n",
    "                    trellis[(i,j,X)] = maxProb\n",
    "                    bp[(i,j,X)] = (maxRule, maxS)\n",
    "    \n",
    "    #doing table printing, omitted\n",
    "    pass\n",
    "            "
   ]
  }
 ],
 "metadata": {
  "kernelspec": {
   "display_name": "Python 3",
   "language": "python",
   "name": "python3"
  },
  "language_info": {
   "codemirror_mode": {
    "name": "ipython",
    "version": 3
   },
   "file_extension": ".py",
   "mimetype": "text/x-python",
   "name": "python",
   "nbconvert_exporter": "python",
   "pygments_lexer": "ipython3",
   "version": "3.6.8"
  }
 },
 "nbformat": 4,
 "nbformat_minor": 2
}
