{
 "cells": [
  {
   "cell_type": "markdown",
   "metadata": {},
   "source": [
    "# TP1 Report - Computer Security\n",
    "Ning, Tien-Tso (Kense)\n",
    "1 October 2019"
   ]
  },
  {
   "cell_type": "code",
   "execution_count": 1,
   "metadata": {},
   "outputs": [],
   "source": [
    "import numpy as np\n",
    "import math"
   ]
  },
  {
   "cell_type": "markdown",
   "metadata": {},
   "source": [
    "# Exercise 1: Modular Arithmetic\n",
    "For n = 10, draw:\n",
    "\n",
    "The addition table of ($Z$<sub>n</sub>,+)"
   ]
  },
  {
   "cell_type": "code",
   "execution_count": 2,
   "metadata": {},
   "outputs": [
    {
     "name": "stdout",
     "output_type": "stream",
     "text": [
      "[[0. 1. 2. 3. 4. 5. 6. 7. 8. 9.]\n",
      " [1. 2. 3. 4. 5. 6. 7. 8. 9. 0.]\n",
      " [2. 3. 4. 5. 6. 7. 8. 9. 0. 1.]\n",
      " [3. 4. 5. 6. 7. 8. 9. 0. 1. 2.]\n",
      " [4. 5. 6. 7. 8. 9. 0. 1. 2. 3.]\n",
      " [5. 6. 7. 8. 9. 0. 1. 2. 3. 4.]\n",
      " [6. 7. 8. 9. 0. 1. 2. 3. 4. 5.]\n",
      " [7. 8. 9. 0. 1. 2. 3. 4. 5. 6.]\n",
      " [8. 9. 0. 1. 2. 3. 4. 5. 6. 7.]\n",
      " [9. 0. 1. 2. 3. 4. 5. 6. 7. 8.]]\n"
     ]
    }
   ],
   "source": [
    "n = 10\n",
    "a = np.zeros((10,10)) #ten-by-ten table\n",
    "for i in range (0, 10):\n",
    "    for j in range (0, 10):\n",
    "        a[i][j] = (i+j)%n\n",
    "print(a)"
   ]
  },
  {
   "cell_type": "markdown",
   "metadata": {},
   "source": [
    "--\n",
    "\n",
    "The multiplication table of ($Z$<sub>n</sub>, *)"
   ]
  },
  {
   "cell_type": "code",
   "execution_count": 3,
   "metadata": {},
   "outputs": [
    {
     "name": "stdout",
     "output_type": "stream",
     "text": [
      "[[0. 0. 0. 0. 0. 0. 0. 0. 0. 0.]\n",
      " [0. 1. 2. 3. 4. 5. 6. 7. 8. 9.]\n",
      " [0. 2. 4. 6. 8. 0. 2. 4. 6. 8.]\n",
      " [0. 3. 6. 9. 2. 5. 8. 1. 4. 7.]\n",
      " [0. 4. 8. 2. 6. 0. 4. 8. 2. 6.]\n",
      " [0. 5. 0. 5. 0. 5. 0. 5. 0. 5.]\n",
      " [0. 6. 2. 8. 4. 0. 6. 2. 8. 4.]\n",
      " [0. 7. 4. 1. 8. 5. 2. 9. 6. 3.]\n",
      " [0. 8. 6. 4. 2. 0. 8. 6. 4. 2.]\n",
      " [0. 9. 8. 7. 6. 5. 4. 3. 2. 1.]]\n"
     ]
    }
   ],
   "source": [
    "n = 10\n",
    "a = np.zeros((10,10)) #ten-by-ten table\n",
    "for i in range (0, 10):\n",
    "    for j in range (0, 10):\n",
    "        a[i][j] = (i*j)%n\n",
    "print(a)"
   ]
  },
  {
   "cell_type": "markdown",
   "metadata": {},
   "source": [
    "--\n",
    "\n",
    "The group of invertible elements ($Z$<sup>*</sup><sub>n</sub>)"
   ]
  },
  {
   "cell_type": "code",
   "execution_count": 4,
   "metadata": {},
   "outputs": [
    {
     "name": "stdout",
     "output_type": "stream",
     "text": [
      "[1, 3, 7, 9]\n"
     ]
    }
   ],
   "source": [
    "invertibles = []\n",
    "for i in range (1,n):\n",
    "    for j in range(1,n):\n",
    "        if (i*j)%n == 1:\n",
    "            invertibles.append(i)\n",
    "            invertibles.append(j)\n",
    "invertibles = set(invertibles)\n",
    "print(sorted(invertibles))"
   ]
  },
  {
   "cell_type": "markdown",
   "metadata": {},
   "source": [
    "--\n",
    "\n",
    "Euler's Totient function $\\phi$(n)"
   ]
  },
  {
   "cell_type": "code",
   "execution_count": 5,
   "metadata": {},
   "outputs": [
    {
     "name": "stdout",
     "output_type": "stream",
     "text": [
      "Euler's Totient function of n : 4\n",
      "Totatives:  [1, 3, 7, 9]\n"
     ]
    }
   ],
   "source": [
    "totatives = []\n",
    "tfun = 0\n",
    "for i in range (1,n):\n",
    "    if math.gcd(i,n)==1:\n",
    "        totatives.append(i)\n",
    "        tfun += 1\n",
    "totatives = set(totatives)\n",
    "print(\"Euler's Totient function of n :\", tfun)\n",
    "print(\"Totatives: \", sorted(totatives))"
   ]
  },
  {
   "cell_type": "markdown",
   "metadata": {},
   "source": [
    "--\n",
    "\n",
    "Compute: \n",
    "\n",
    "\\[4+5\\]<sub>7</sub> = \\[9\\]<sub>7</sub> = \\[2\\]<sub>7</sub> = 2\n",
    "\n",
    "\\[11\\]<sub>7</sub> - \\[17\\]<sub>7</sub> = \\[11-17\\]<sub>7</sub> = \\[-6\\]<sub>7</sub> = -6\n",
    "\n",
    "\\[11\\]<sub>7</sub> * \\[17\\]<sub>7</sub> = \\[11*17\\]<sub>7</sub> = \\[187\\]<sub>7</sub> = 5\n",
    "\n",
    "\\[21*27*41\\]<sub>8</sub> = \\[23247\\]<sub>8</sub> = \\[7\\]<sub>8</sub> = 7\n",
    "\n",
    "\\[-44\\]<sub>3</sub> = \\[-2\\]<sub>3</sub> = -2"
   ]
  },
  {
   "cell_type": "markdown",
   "metadata": {},
   "source": [
    "# Exercise 2: Caesar Cipher\n",
    "\n",
    "Code the message \"BONJOUR\" with a key of 4."
   ]
  },
  {
   "cell_type": "code",
   "execution_count": 6,
   "metadata": {},
   "outputs": [
    {
     "name": "stdout",
     "output_type": "stream",
     "text": [
      "Cipher Text is:  fsrnsyv\n",
      "Plain Text is:  bonjour\n"
     ]
    }
   ],
   "source": [
    "def caesar(message, k_ey):\n",
    "    \n",
    "    alphabet = \"a,b,c,d,e,f,g,h,i,j,k,l,m,n,o,p,q,r,s,t,u,v,w,x,y,z\".split(\",\")\n",
    "    ch2int = {key: value for (value, key) in enumerate(alphabet)}\n",
    "    int2ch = {key: value for (key, value) in enumerate(alphabet)}\n",
    "\n",
    "    plain_text = message\n",
    "    cipher_text = [0]*len(plain_text)\n",
    "\n",
    "    for i in range(0,len(plain_text)): #encrypt\n",
    "        cipher_text[i] = (ch2int[plain_text[i]]+k_ey)%26\n",
    "        cipher_text[i] = int2ch[cipher_text[i]]\n",
    "    \n",
    "    return \"\".join(cipher_text)\n",
    "\n",
    "def un_caesar(message, k_ey):\n",
    "    \n",
    "    alphabet = \"a,b,c,d,e,f,g,h,i,j,k,l,m,n,o,p,q,r,s,t,u,v,w,x,y,z\".split(\",\")\n",
    "    ch2int = {key: value for (value, key) in enumerate(alphabet)}\n",
    "    int2ch = {key: value for (key, value) in enumerate(alphabet)}\n",
    "\n",
    "    cipher_text = message\n",
    "    plain_text = [0]*len(cipher_text)\n",
    "\n",
    "    for i in range(0,len(cipher_text)): #decrypt\n",
    "        plain_text[i] = abs((ch2int[cipher_text[i]]-k_ey))%26\n",
    "        plain_text[i] = int2ch[plain_text[i]]\n",
    "    \n",
    "    return \"\".join(plain_text)\n",
    "\n",
    "print(\"Cipher Text is: \", caesar(\"bonjour\", 4))\n",
    "print(\"Plain Text is: \", un_caesar(caesar(\"bonjour\", 4), 4))"
   ]
  },
  {
   "cell_type": "markdown",
   "metadata": {},
   "source": [
    "Since you cannot do a $0$ shift, or $n$ shifts since that brings you back to the same value, for an alphabet of $X$ characters, you effectively have $X-1$ keys.\n",
    "\n",
    "An algorithm that can break the cipher would just shift the cipher text backwards consistently by an incrementing value K (key), assuming an alphabet of 26 characters, you would only need to do this 25 times.\n",
    "\n",
    "Functions <code>caesar</code> and <code>un_caesar</code> are both defined above, and the output of the cipher text and plain text above confirms that the functions work as intended. "
   ]
  },
  {
   "cell_type": "markdown",
   "metadata": {},
   "source": [
    "# Exercise 3: Monoalphabetic Substitution\n",
    "\n",
    "\n",
    "Give the complete key of <b>\"substitutionmonoalphabetique\"</b> and the original message for <b>\"BGYDKCNGSDMAIBHSJJAFRI\"</b>."
   ]
  },
  {
   "cell_type": "code",
   "execution_count": 17,
   "metadata": {},
   "outputs": [
    {
     "name": "stdout",
     "output_type": "stream",
     "text": [
      "Key is:  subtionmalpheqcdfgjkrvwxyz\n",
      "Encrypting 'gomennewatashi':  rfhmggmwidiale\n"
     ]
    }
   ],
   "source": [
    "def create_key (phrase):\n",
    "    phrase = phrase.lower() #lowercases your phrases\n",
    "    your_key = {}\n",
    "    roll_over = 97\n",
    "    alphabet = \"a b c d e f g h i j k l m n o p q r s t u v w x y z\".split()\n",
    "    for ch in phrase:\n",
    "        if ch in your_key:\n",
    "            pass\n",
    "        else:\n",
    "            your_key[ch] = str(chr(roll_over))\n",
    "            roll_over += 1\n",
    "    \n",
    "    for x in alphabet:\n",
    "        if x in your_key:\n",
    "            pass\n",
    "        else:\n",
    "            your_key[x] = str(chr(roll_over))\n",
    "            roll_over += 1\n",
    "    \n",
    "    return your_key\n",
    "\n",
    "def monoalphabetic_substitution(message, key):\n",
    "    output = []\n",
    "    for ch in message:\n",
    "        output.append(key[ch])\n",
    "    \n",
    "    return \"\".join(output)\n",
    "\n",
    "k_ey = create_key(\"substitutionmonoalphabetique\")\n",
    "print(\"Key is: \", \"\".join(k_ey.keys()))\n",
    "print(\"Encrypting 'gomennewatashi': \", monoalphabetic_substitution(\"gomennewatashi\", k_ey))"
   ]
  },
  {
   "cell_type": "markdown",
   "metadata": {},
   "source": [
    "Is it easy to break this code? Given that the plain-text characters and cipher-text characters are a deterministic exchange, breaking the code would just be a task of guessing the correct ciper-text exchange which can be done using frequency analysis.\n",
    "Frequency analysis helps because certain letters will appear more frequently than other characters, and certain characters will appear more likely if it follows a specific character (i.e: 'u' is very likely after the letter 'q' in the English language). Using this knowledge, you can guess which characters exchange with which characters in the cipher-text in order to obtain the plain-text."
   ]
  },
  {
   "cell_type": "markdown",
   "metadata": {},
   "source": [
    "# Exercise 4: Vigenere Algorithm\n",
    "\n",
    "Encode the message \"JESUISUNPOKEMON\" using the key \"ABRA\""
   ]
  },
  {
   "cell_type": "code",
   "execution_count": 28,
   "metadata": {},
   "outputs": [
    {
     "name": "stdout",
     "output_type": "stream",
     "text": [
      "Message before encryption:  [9, 4, 18, 20, 8, 18, 20, 13, 15, 14, 10, 4, 12, 14, 13]\n",
      "Message after encryption:  [9, 4, 19, 11, 8, 18, 21, 4, 15, 14, 11, 21, 12, 14, 14]\n",
      "Message in cipher-text form:  jetlisvepolvmoo\n"
     ]
    }
   ],
   "source": [
    "message = \"JESUISUNPOKEMON\".lower()\n",
    "int_representation = []\n",
    "alphabet = \"a,b,c,d,e,f,g,h,i,j,k,l,m,n,o,p,q,r,s,t,u,v,w,x,y,z\".split(\",\")\n",
    "ch2int = {key: value for (value, key) in enumerate(alphabet)}\n",
    "int2ch = {key: value for (key, value) in enumerate(alphabet)}\n",
    "for ch in message:\n",
    "    int_representation.append(ch2int[ch])\n",
    "print(\"Message before encryption: \", int_representation)\n",
    "k_ey = [ch2int['a'],ch2int['b'],ch2int['r'],ch2int['a']]\n",
    "for i in range(0, len(int_representation)):\n",
    "    int_representation[i] = (int_representation[i] + k_ey[i%len(k_ey)-1])%26\n",
    "print(\"Message after encryption: \", int_representation)\n",
    "print(\"Message in cipher-text form: \", \"\".join([int2ch[x] for x in int_representation]))"
   ]
  },
  {
   "cell_type": "code",
   "execution_count": 30,
   "metadata": {},
   "outputs": [
    {
     "name": "stdout",
     "output_type": "stream",
     "text": [
      "Message before decryption:  [9, 5, 9, 20, 8, 19, 11, 13, 3, 18, 21, 18, 18, 5, 11, 17]\n",
      "Message after decryption:  [9, 5, 8, 3, 8, 19, 10, 22, 3, 18, 20, 1, 18, 5, 10, 0]\n",
      "Message in plain-text form:  jfiditkwdsubsfka\n"
     ]
    }
   ],
   "source": [
    "cipher_message = \"JFJUITLNDSVSSFLR\".lower()\n",
    "decrypt_int = []\n",
    "alphabet = \"a,b,c,d,e,f,g,h,i,j,k,l,m,n,o,p,q,r,s,t,u,v,w,x,y,z\".split(\",\")\n",
    "ch2int = {key: value for (value, key) in enumerate(alphabet)}\n",
    "int2ch = {key: value for (key, value) in enumerate(alphabet)}\n",
    "for ch in cipher_message:\n",
    "    decrypt_int.append(ch2int[ch])\n",
    "print(\"Message before decryption: \", decrypt_int)\n",
    "k_ey = [ch2int['a'],ch2int['b'],ch2int['r'],ch2int['a']]\n",
    "for i in range(0, len(decrypt_int)):\n",
    "    decrypt_int[i] = (decrypt_int[i] - k_ey[i%len(k_ey)-1])%26\n",
    "print(\"Message after decryption: \", decrypt_int)\n",
    "print(\"Message in plain-text form: \", \"\".join([int2ch[x] for x in decrypt_int]))"
   ]
  },
  {
   "cell_type": "code",
   "execution_count": null,
   "metadata": {},
   "outputs": [],
   "source": []
  }
 ],
 "metadata": {
  "kernelspec": {
   "display_name": "Python 3",
   "language": "python",
   "name": "python3"
  },
  "language_info": {
   "codemirror_mode": {
    "name": "ipython",
    "version": 3
   },
   "file_extension": ".py",
   "mimetype": "text/x-python",
   "name": "python",
   "nbconvert_exporter": "python",
   "pygments_lexer": "ipython3",
   "version": "3.6.6"
  }
 },
 "nbformat": 4,
 "nbformat_minor": 2
}
