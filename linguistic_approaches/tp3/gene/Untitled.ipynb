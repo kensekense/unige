{
 "cells": [
  {
   "cell_type": "code",
   "execution_count": 1,
   "metadata": {},
   "outputs": [],
   "source": [
    "def read_file (filename):\n",
    "    '''\n",
    "    read the file and organize it's data into a list\n",
    "    '''\n",
    "    words = []\n",
    "    with open(filename, \"r\") as fp:\n",
    "        for line in fp:\n",
    "            if(len(line) > 1): #not an empty line\n",
    "                word,tag = line.split() #stores the word separately from tag\n",
    "                words.append(word)\n",
    "\n",
    "    return words"
   ]
  },
  {
   "cell_type": "code",
   "execution_count": 2,
   "metadata": {},
   "outputs": [],
   "source": [
    "wordlist = read_file(\"gene.train\")"
   ]
  },
  {
   "cell_type": "code",
   "execution_count": 3,
   "metadata": {},
   "outputs": [
    {
     "data": {
      "text/plain": [
       "386200"
      ]
     },
     "execution_count": 3,
     "metadata": {},
     "output_type": "execute_result"
    }
   ],
   "source": [
    "len(wordlist)"
   ]
  },
  {
   "cell_type": "code",
   "execution_count": 4,
   "metadata": {},
   "outputs": [],
   "source": [
    "def get_count (words):\n",
    "    '''\n",
    "    get a count of each word in the list of words\n",
    "    '''\n",
    "    counts = {}\n",
    "\n",
    "    for word in words:\n",
    "        if word in counts:\n",
    "                counts[word] += 1\n",
    "\n",
    "    return counts"
   ]
  },
  {
   "cell_type": "code",
   "execution_count": 7,
   "metadata": {},
   "outputs": [],
   "source": [
    "freqlist = get_count(wordlist)"
   ]
  },
  {
   "cell_type": "code",
   "execution_count": 9,
   "metadata": {},
   "outputs": [],
   "source": [
    "def replace_words (filename, outfile, freq):\n",
    "    '''\n",
    "    replace the word in the doc with _RARE_ if count is < 5\n",
    "    '''\n",
    "    output_ = []\n",
    "    with open(filename, \"r\") as fp:\n",
    "        for line in fp:\n",
    "            if(len(line)>1):\n",
    "                word,tag = line.split() #read the words separately\n",
    "                print(word)"
   ]
  },
  {
   "cell_type": "code",
   "execution_count": null,
   "metadata": {},
   "outputs": [],
   "source": []
  },
  {
   "cell_type": "code",
   "execution_count": 107,
   "metadata": {},
   "outputs": [],
   "source": [
    "def simple_gene_tagger(counts_file, dev_file):\n",
    "\n",
    "    emissions = {}\n",
    "    counts = {}\n",
    "\n",
    "    with open(counts_file, \"r\") as fp:\n",
    "        for line in fp:\n",
    "            segment = line.split()\n",
    "\n",
    "            if(segment[1]==\"WORDTAG\"): #doing WORDTAG section\n",
    "                if(segment[3] == \"GENE\"):\n",
    "                    emissions[segment[2]] = (segment[0],\"GENE\") #store word with emission count\n",
    "                elif(segment[3] == \"NOGENE\"): #_RARE_ is NOGENE in our case so we override\n",
    "                    emissions[segment[2]] = (segment[0],\"NOGENE\") #store word with emission count\n",
    "\n",
    "            elif(segment[1]==\"1-GRAM\"): #doing 1-GRAM section\n",
    "                if(segment[3] == \"GENE\"):\n",
    "                    counts[segment[2]] = (segment[0],\"GENE\")\n",
    "                    if segment[2] == \"_RARE_\": #exception\n",
    "                        counts[segment[2]+\" GENE\"] = (segment[0], \"GENE\")\n",
    "                elif(segment[3] == \"NOGENE\"):\n",
    "                    counts[segment[2]] = (segment[0], \"NOGENE\")\n",
    "                    if segment[2] == \"_RARE_\": #exception\n",
    "                        counts[segment[2]+\" NOGENE\"] = (segment[0], \"NOGENE\")\n",
    "\n",
    "            else: #we're not doing anything beyond 1-GRAM\n",
    "                #patch up _RARE_ counts\n",
    "                counts[\"_RARE_\"] = int(counts[\"_RARE_ NOGENE\"][0]) + int(counts[\"_RARE_ GENE\"][0])\n",
    "                break\n",
    "\n",
    "    #read dev file and tag\n",
    "    tags = []\n",
    "    reversi = {\"NOGENE\":\"GENE\", \"GENE\":\"NOGENE\"}\n",
    "    with open(dev_file, \"r\") as devfp:\n",
    "        \n",
    "        for line in devfp:\n",
    "            line = line.split(\"\\n\")\n",
    "            line = line[0]\n",
    "            if(line in emissions):\n",
    "                prob = int(emissions[line][0])/int(counts[line][0])\n",
    "                if(prob > 1-prob):#this means prob outweighs\n",
    "                    tags.append(line + \" \" + emissions[line][1]+\"\\n\") #proper tag\n",
    "                else: #means other outweighs\n",
    "                    tags.append(line + \" \" + reversi[emissions[line][1]]) #reverses the tag\n",
    "            else: #_RARE_ word (tm)\n",
    "                prob = int(emissions[\"_RARE_\"][0])/int(counts[\"_RARE_\"])\n",
    "                tags.append(line + \" \" + \"NOGENE\"+\"\\n\") #_RARE_ defaults NOGENE due to our numbers\n",
    "                \n",
    "    with open(\"gene.dev.p1.out\", \"w\") as devp1out:\n",
    "        devp1out.writelines(tags)"
   ]
  },
  {
   "cell_type": "code",
   "execution_count": 108,
   "metadata": {},
   "outputs": [],
   "source": [
    "simple_gene_tagger(\"gene_rare.counts\", \"gene.dev\")"
   ]
  },
  {
   "cell_type": "code",
   "execution_count": 85,
   "metadata": {},
   "outputs": [
    {
     "name": "stdout",
     "output_type": "stream",
     "text": [
      "test\n",
      "\n"
     ]
    }
   ],
   "source": [
    "line = \"test\\n\"\n",
    "line.split(\"\\n\")\n",
    "print(line)"
   ]
  },
  {
   "cell_type": "code",
   "execution_count": 63,
   "metadata": {},
   "outputs": [],
   "source": [
    "#Ning\n",
    "#14 October 2019\n",
    "#Linguistics TP3\n",
    "\n",
    "def simple_gene_tagger(counts_file, dev_file):\n",
    "\n",
    "    emissions_gene = {}\n",
    "    emissions_nogene = {}\n",
    "    counts = {}\n",
    "\n",
    "    with open(counts_file, \"r\") as fp:\n",
    "        for line in fp:\n",
    "            segment = line.split()\n",
    "\n",
    "            if(segment[1]==\"WORDTAG\"): #doing WORDTAG section\n",
    "                if(segment[3] == \"GENE\"):\n",
    "                    emissions_gene[segment[2]] = float(segment[0])\n",
    "                elif(segment[3] == \"NOGENE\"):\n",
    "                    emissions_nogene[segment[2]] = float(segment[0])\n",
    "\n",
    "            elif(segment[1]==\"1-GRAM\"): #doing 1-GRAM section\n",
    "                if segment[2] in counts:\n",
    "                    counts[segment[2]] += float(segment[0])\n",
    "                else:\n",
    "                    counts[segment[2]] = float(segment[0])\n",
    "\n",
    "            else: #we're not doing anything beyond 1-GRAM\n",
    "                break\n",
    "\n",
    "    #read dev file and tag\n",
    "    tags = []\n",
    "    with open(dev_file, \"r\") as devfp:\n",
    "\n",
    "        for line in devfp:\n",
    "            line = line.split(\"\\n\")\n",
    "            line = line[0]\n",
    "            if(len(line)>0):\n",
    "\n",
    "                if(line in emissions_gene and line in emissions_nogene):\n",
    "                    prob_gene = emissions_gene[line]/counts[line]\n",
    "                    prob_nogene = emissions_nogene[line]/counts[line]\n",
    "                    if(prob_gene > prob_nogene):\n",
    "                        tags.append(line + \" \" + \"GENE\"+\"\\n\") #proper tag\n",
    "                    else:\n",
    "                        tags.append(line + \" \" + \"NOGENE\"+\"\\n\") #reverses the tag\n",
    "\n",
    "                elif(line in emissions_gene):\n",
    "                    tags.append(line + \" \" + \"GENE\"+\"\\n\") #proper tag\n",
    "\n",
    "                elif(line in emissions_nogene):\n",
    "                    tags.append(line + \" \" + \"NOGENE\"+\"\\n\") #proper tag\n",
    "\n",
    "                else: #_RARE_ word (tm)\n",
    "                    #prob = float(emissions[\"_RARE_\"][0])/float(counts[\"_RARE_\"])\n",
    "                    #always output max and NOGENE > GENE\n",
    "                    tags.append(line + \" \" + \"NOGENE\"+\"\\n\")\n",
    "            else:\n",
    "                tags.append(\"\\n\")\n",
    "\n",
    "    with open(\"gene.dev.p1.out\", \"w\") as devp1out:\n",
    "        devp1out.writelines(tags)\n",
    "\n",
    "if __name__ == \"__main__\":\n",
    "    simple_gene_tagger(\"gene_rare.counts\", \"gene.dev\")\n"
   ]
  },
  {
   "cell_type": "code",
   "execution_count": 64,
   "metadata": {},
   "outputs": [],
   "source": [
    "simple_gene_tagger(\"gene_rare.counts\", \"gene.dev\")"
   ]
  },
  {
   "cell_type": "code",
   "execution_count": null,
   "metadata": {},
   "outputs": [],
   "source": []
  },
  {
   "cell_type": "code",
   "execution_count": null,
   "metadata": {},
   "outputs": [],
   "source": []
  },
  {
   "cell_type": "code",
   "execution_count": null,
   "metadata": {},
   "outputs": [],
   "source": []
  }
 ],
 "metadata": {
  "kernelspec": {
   "display_name": "Python 3",
   "language": "python",
   "name": "python3"
  },
  "language_info": {
   "codemirror_mode": {
    "name": "ipython",
    "version": 3
   },
   "file_extension": ".py",
   "mimetype": "text/x-python",
   "name": "python",
   "nbconvert_exporter": "python",
   "pygments_lexer": "ipython3",
   "version": "3.6.6"
  }
 },
 "nbformat": 4,
 "nbformat_minor": 2
}
