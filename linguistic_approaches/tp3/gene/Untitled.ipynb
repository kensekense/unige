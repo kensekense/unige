{
 "cells": [
  {
   "cell_type": "code",
   "execution_count": 1,
   "metadata": {},
   "outputs": [],
   "source": [
    "def read_file (filename):\n",
    "    '''\n",
    "    read the file and organize it's data into a list\n",
    "    '''\n",
    "    words = []\n",
    "    with open(filename, \"r\") as fp:\n",
    "        for line in fp:\n",
    "            if(len(line) > 1): #not an empty line\n",
    "                word,tag = line.split() #stores the word separately from tag\n",
    "                words.append(word)\n",
    "\n",
    "    return words"
   ]
  },
  {
   "cell_type": "code",
   "execution_count": 2,
   "metadata": {},
   "outputs": [],
   "source": [
    "wordlist = read_file(\"gene.train\")"
   ]
  },
  {
   "cell_type": "code",
   "execution_count": 3,
   "metadata": {},
   "outputs": [
    {
     "data": {
      "text/plain": [
       "386200"
      ]
     },
     "execution_count": 3,
     "metadata": {},
     "output_type": "execute_result"
    }
   ],
   "source": [
    "len(wordlist)"
   ]
  },
  {
   "cell_type": "code",
   "execution_count": 4,
   "metadata": {},
   "outputs": [],
   "source": [
    "def get_count (words):\n",
    "    '''\n",
    "    get a count of each word in the list of words\n",
    "    '''\n",
    "    counts = {}\n",
    "\n",
    "    for word in words:\n",
    "        if word in counts:\n",
    "                counts[word] += 1\n",
    "\n",
    "    return counts"
   ]
  },
  {
   "cell_type": "code",
   "execution_count": 7,
   "metadata": {},
   "outputs": [],
   "source": [
    "freqlist = get_count(wordlist)"
   ]
  },
  {
   "cell_type": "code",
   "execution_count": 9,
   "metadata": {},
   "outputs": [],
   "source": [
    "def replace_words (filename, outfile, freq):\n",
    "    '''\n",
    "    replace the word in the doc with _RARE_ if count is < 5\n",
    "    '''\n",
    "    output_ = []\n",
    "    with open(filename, \"r\") as fp:\n",
    "        for line in fp:\n",
    "            if(len(line)>1):\n",
    "                word,tag = line.split() #read the words separately\n",
    "                print(word)"
   ]
  },
  {
   "cell_type": "code",
   "execution_count": null,
   "metadata": {},
   "outputs": [],
   "source": []
  },
  {
   "cell_type": "code",
   "execution_count": null,
   "metadata": {},
   "outputs": [],
   "source": []
  }
 ],
 "metadata": {
  "kernelspec": {
   "display_name": "Python 3",
   "language": "python",
   "name": "python3"
  },
  "language_info": {
   "codemirror_mode": {
    "name": "ipython",
    "version": 3
   },
   "file_extension": ".py",
   "mimetype": "text/x-python",
   "name": "python",
   "nbconvert_exporter": "python",
   "pygments_lexer": "ipython3",
   "version": "3.6.6"
  }
 },
 "nbformat": 4,
 "nbformat_minor": 2
}
