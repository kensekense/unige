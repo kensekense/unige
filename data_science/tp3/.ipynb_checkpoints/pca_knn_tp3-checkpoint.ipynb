{
 "cells": [
  {
   "cell_type": "markdown",
   "metadata": {},
   "source": [
    "# Data Science TP3 - PCA and KNN\n",
    "Tien-Tso Ning"
   ]
  },
  {
   "cell_type": "code",
   "execution_count": 367,
   "metadata": {},
   "outputs": [],
   "source": [
    "#Ning\n",
    "import numpy as np\n",
    "import pandas as pd\n",
    "import tensorflow as tf\n",
    "from sklearn.decomposition import PCA\n",
    "from sklearn.neighbors import KNeighborsClassifier\n",
    "from sklearn.metrics import accuracy_score\n",
    "import matplotlib.pyplot as plt\n",
    "import seaborn as sb\n",
    "#uses np.linalg.norm\n",
    "#uses np.inner"
   ]
  },
  {
   "cell_type": "code",
   "execution_count": 2,
   "metadata": {},
   "outputs": [],
   "source": [
    "#load MNIST dataset\n",
    "(training_set, labels), (x_test,y_test) = tf.keras.datasets.mnist.load_data()"
   ]
  },
  {
   "cell_type": "code",
   "execution_count": 3,
   "metadata": {},
   "outputs": [
    {
     "name": "stdout",
     "output_type": "stream",
     "text": [
      "60000\n",
      "(60000, 784)\n"
     ]
    }
   ],
   "source": [
    "all_images = np.reshape(training_set, (60000,784))\n",
    "print(len(all_images))\n",
    "print(all_images.shape)"
   ]
  },
  {
   "cell_type": "code",
   "execution_count": 408,
   "metadata": {},
   "outputs": [
    {
     "name": "stdout",
     "output_type": "stream",
     "text": [
      "5958\n",
      "5000\n",
      "(784,)\n"
     ]
    }
   ],
   "source": [
    "#prime the set of two's images\n",
    "two_set = []\n",
    "for i in range(0,len(labels)):\n",
    "    if labels[i] == 2:\n",
    "        two_set.append(all_images[i])\n",
    "print(len(two_set))\n",
    "two_set = two_set[0:5000]\n",
    "print(len(two_set))\n",
    "X = two_set[:]\n",
    "print(X[0].shape)"
   ]
  },
  {
   "cell_type": "code",
   "execution_count": 219,
   "metadata": {},
   "outputs": [],
   "source": [
    "pca = PCA(n_components=784)\n",
    "pca_onX = pca.fit(X)"
   ]
  },
  {
   "cell_type": "code",
   "execution_count": 220,
   "metadata": {},
   "outputs": [
    {
     "name": "stdout",
     "output_type": "stream",
     "text": [
      "784\n",
      "(784, 784)\n"
     ]
    }
   ],
   "source": [
    "#get 784 PCA components, which are each len 784 vectors\n",
    "PC = pca_onX.components_\n",
    "print(len(PC))\n",
    "print(PC.shape)"
   ]
  },
  {
   "cell_type": "markdown",
   "metadata": {},
   "source": [
    "# 1. Principal Component Analysis\n",
    "The first thing to do is to calculate $\\hat{x}$, which is the average image."
   ]
  },
  {
   "cell_type": "code",
   "execution_count": 248,
   "metadata": {},
   "outputs": [],
   "source": [
    "#calculate x_bar with n = 5000\n",
    "x_bar = np.zeros((784,))\n",
    "for i in range(1,5000):\n",
    "    x_bar += X[i]\n",
    "x_bar = x_bar/5000"
   ]
  },
  {
   "cell_type": "code",
   "execution_count": 249,
   "metadata": {},
   "outputs": [
    {
     "data": {
      "text/plain": [
       "<matplotlib.image.AxesImage at 0x7f04faec37b8>"
      ]
     },
     "execution_count": 249,
     "metadata": {},
     "output_type": "execute_result"
    },
    {
     "data": {
      "image/png": "[encoded data removed]",
      "text/plain": [
       "<Figure size 432x288 with 1 Axes>"
      ]
     },
     "metadata": {
      "needs_background": "light"
     },
     "output_type": "display_data"
    }
   ],
   "source": [
    "x_bar_show = np.reshape(x_bar, (28,28))\n",
    "plt.imshow(x_bar_show, cmap='Greys')"
   ]
  },
  {
   "cell_type": "markdown",
   "metadata": {},
   "source": [
    "Here we can see that our average image is reasonable. it looks like a 2."
   ]
  },
  {
   "cell_type": "code",
   "execution_count": null,
   "metadata": {},
   "outputs": [],
   "source": [
    "def reconstruct(x_i, m, x_bar, PC):\n",
    "    '''\n",
    "    reconstruct x_i from X, where x_i is a len 784 vector image.\n",
    "    '''\n",
    "    recon = np.zeros((784,))\n",
    "    for j in range(1, m):\n",
    "        recon += np.inner((x_i-x_bar), PC[j])*PC[j]+x_bar\n",
    "    return recon"
   ]
  },
  {
   "cell_type": "markdown",
   "metadata": {},
   "source": [
    "Reconstruction is done by taking x<sub>i</sub>, the image we are reconstructing, subtracting the $\\hat{x}$, and then applying the innerproduct between the subtraction and the principal components. The principal components are then multiplied and the average image is added."
   ]
  },
  {
   "cell_type": "code",
   "execution_count": 399,
   "metadata": {},
   "outputs": [
    {
     "data": {
      "text/plain": [
       "array([ 1.86248412e-15,  7.88333707e-14, -8.05742215e-14, -7.62312615e-14,\n",
       "        1.45276123e-13,  6.40368109e-14,  3.08270765e-15,  1.74843586e-13,\n",
       "       -1.37452807e-14,  4.12298693e-14,  3.28313858e-14, -1.14075697e-13,\n",
       "        7.97721637e-03,  1.72307874e-01,  1.72307874e-01,  7.17949474e-03,\n",
       "        1.34826521e-14,  6.25164801e-14, -1.01001345e-13,  2.81997847e-14,\n",
       "        1.81303350e-14, -7.07331619e-19,  1.15581076e-14,  7.06422664e-15,\n",
       "        5.76834090e-15,  6.73481492e-15, -8.82356189e-16, -8.41733183e-16,\n",
       "        0.00000000e+00, -2.75680785e-17,  6.26052805e-18, -1.72288766e-18,\n",
       "       -3.24404846e-30, -1.02750633e-19,  1.23246146e-21,  3.98993695e-03,\n",
       "        1.94176931e-01,  3.45788770e-01,  6.61555315e-01,  7.72328631e-01,\n",
       "        5.41513154e-01,  5.87851398e-01,  9.58986083e-01,  1.30551715e+00,\n",
       "        2.39964104e+00,  6.59263688e-01,  2.14274821e-02, -4.67255781e-32,\n",
       "        1.40114646e-34,  0.00000000e+00, -9.78287687e-35,  5.97746733e-36,\n",
       "        3.42076773e-38,  4.66989635e-38, -1.33623739e-40,  2.22945652e-39,\n",
       "       -3.33165755e-39,  7.29671305e-40,  5.88353490e-40, -5.96704974e-40,\n",
       "        8.28574295e-41,  6.77443809e-02,  6.30508165e-01,  1.81712869e+00,\n",
       "        4.49455497e+00,  1.05544004e+01,  1.52300820e+01,  2.04515170e+01,\n",
       "        2.70452904e+01,  2.96021242e+01,  3.03225933e+01,  2.80943017e+01,\n",
       "        1.97151684e+01,  1.09661334e+01,  6.30812067e+00,  3.31657011e+00,\n",
       "        1.49333538e+00,  4.57983943e-01,  2.61814018e-02,  3.06861305e-01,\n",
       "        6.59844894e-01,  3.54252209e-01,  0.00000000e+00,  0.00000000e+00,\n",
       "        0.00000000e+00,  0.00000000e+00,  6.93153642e-03,  0.00000000e+00,\n",
       "        1.07354851e-01,  2.22358968e+00,  9.23834788e+00,  2.50120711e+01,\n",
       "        5.41099861e+01,  1.03416649e+02,  1.55150118e+02,  2.10272788e+02,\n",
       "        2.62707052e+02,  3.08375970e+02,  3.25615847e+02,  3.18860045e+02,\n",
       "        2.82342411e+02,  2.18226851e+02,  1.42619611e+02,  8.78897934e+01,\n",
       "        4.70531474e+01,  2.10195296e+01,  6.69553324e+00,  1.18982266e+00,\n",
       "        5.86413091e-01,  3.52105225e-01,  0.00000000e+00,  0.00000000e+00,\n",
       "        0.00000000e+00,  0.00000000e+00,  2.64658663e-02,  0.00000000e+00,\n",
       "        1.56420437e+00,  1.41475012e+01,  3.88665301e+01,  8.72918651e+01,\n",
       "        1.69092641e+02,  2.89360705e+02,  4.25791646e+02,  5.88130774e+02,\n",
       "        7.54209254e+02,  8.90070037e+02,  9.76312950e+02,  9.92296727e+02,\n",
       "        9.24400504e+02,  7.57619548e+02,  5.53435179e+02,  3.75844420e+02,\n",
       "        2.21042157e+02,  1.06118958e+02,  3.52731135e+01,  5.97445524e+00,\n",
       "        7.70274145e-01,  4.80922052e-01,  0.00000000e+00,  0.00000000e+00,\n",
       "        0.00000000e+00,  0.00000000e+00,  1.19371318e-01,  2.20570888e-01,\n",
       "        5.68924677e+00,  3.32851936e+01,  8.96219647e+01,  1.90127030e+02,\n",
       "        3.32845747e+02,  5.08805011e+02,  7.12839445e+02,  9.35866719e+02,\n",
       "        1.13510859e+03,  1.30781578e+03,  1.42219526e+03,  1.45736715e+03,\n",
       "        1.39227090e+03,  1.22946028e+03,  9.57269652e+02,  6.67820503e+02,\n",
       "        4.27969640e+02,  2.32071981e+02,  9.36666167e+01,  2.01892116e+01,\n",
       "        1.62198000e+00,  6.04553716e-01,  0.00000000e+00,  0.00000000e+00,\n",
       "        0.00000000e+00,  0.00000000e+00,  1.55429144e-01,  1.03515636e+00,\n",
       "        1.32396969e+01,  5.65396916e+01,  1.46097355e+02,  2.82875505e+02,\n",
       "        4.59937475e+02,  6.64957489e+02,  8.77301292e+02,  1.09351523e+03,\n",
       "        1.25665632e+03,  1.36738083e+03,  1.43063187e+03,  1.47284390e+03,\n",
       "        1.46053835e+03,  1.36368406e+03,  1.15606578e+03,  8.72571157e+02,\n",
       "        5.91364003e+02,  3.53308344e+02,  1.56586429e+02,  3.68370047e+01,\n",
       "        2.49677525e+00,  1.55519616e-01,  1.21368985e-01,  0.00000000e+00,\n",
       "        0.00000000e+00,  0.00000000e+00,  1.04327983e+00,  2.51536978e+00,\n",
       "        2.17331149e+01,  7.77925490e+01,  1.88947839e+02,  3.29564910e+02,\n",
       "        5.05846736e+02,  6.95788012e+02,  8.92947109e+02,  1.05948323e+03,\n",
       "        1.14295677e+03,  1.16454041e+03,  1.17855185e+03,  1.20128114e+03,\n",
       "        1.25203087e+03,  1.26961225e+03,  1.17339786e+03,  9.62459141e+02,\n",
       "        6.91007533e+02,  4.43739904e+02,  2.17774448e+02,  5.39111165e+01,\n",
       "        2.90698268e+00,  3.83421550e-01,  8.88899605e-02,  0.00000000e+00,\n",
       "        0.00000000e+00,  0.00000000e+00,  1.10502554e+00,  3.21929196e+00,\n",
       "        2.47706012e+01,  8.72679624e+01,  1.98948329e+02,  3.28163420e+02,\n",
       "        4.78771627e+02,  6.37431472e+02,  7.92935340e+02,  8.75191251e+02,\n",
       "        8.89983142e+02,  8.62987838e+02,  8.56506964e+02,  9.03751540e+02,\n",
       "        1.01537104e+03,  1.13636756e+03,  1.14886500e+03,  9.97850233e+02,\n",
       "        7.45652254e+02,  4.82391039e+02,  2.45929904e+02,  6.49942457e+01,\n",
       "        1.90401275e+00,  1.75954229e-01,  0.00000000e+00,  0.00000000e+00,\n",
       "        0.00000000e+00,  0.00000000e+00,  9.92239243e-01,  3.21273177e+00,\n",
       "        2.51727926e+01,  8.34206001e+01,  1.77753489e+02,  2.73664273e+02,\n",
       "        3.79502255e+02,  4.97180150e+02,  5.97480668e+02,  6.18571039e+02,\n",
       "        5.87196143e+02,  5.49552075e+02,  5.58725225e+02,  6.78342053e+02,\n",
       "        8.75761197e+02,  1.06284156e+03,  1.11466861e+03,  1.00439167e+03,\n",
       "        7.66492076e+02,  4.91318324e+02,  2.47037041e+02,  6.51335640e+01,\n",
       "        2.16456809e+00,  1.69643575e-01,  1.62331692e-01,  0.00000000e+00,\n",
       "        0.00000000e+00,  0.00000000e+00,  4.68631338e-01,  2.58515540e+00,\n",
       "        1.80837501e+01,  6.67694778e+01,  1.35367493e+02,  1.91909834e+02,\n",
       "        2.62064218e+02,  3.27754702e+02,  3.73727769e+02,  3.68181739e+02,\n",
       "        3.36768056e+02,  3.30693706e+02,  4.04476815e+02,  5.93530293e+02,\n",
       "        8.51732212e+02,  1.04597735e+03,  1.08865240e+03,  9.95755776e+02,\n",
       "        7.55060111e+02,  4.64983555e+02,  2.15276259e+02,  5.70133743e+01,\n",
       "        5.73656593e+00,  1.64666002e+00,  7.97241925e-01,  0.00000000e+00,\n",
       "        0.00000000e+00,  0.00000000e+00,  0.00000000e+00,  1.24691143e+00,\n",
       "        1.25335422e+01,  4.57685717e+01,  8.09086588e+01,  1.09630926e+02,\n",
       "        1.48336264e+02,  1.89266720e+02,  2.04882593e+02,  2.03194117e+02,\n",
       "        2.04898740e+02,  2.54191931e+02,  4.06356061e+02,  6.59518892e+02,\n",
       "        8.97988962e+02,  1.03680737e+03,  1.05581001e+03,  9.71931759e+02,\n",
       "        7.14338800e+02,  4.07753592e+02,  1.71104069e+02,  4.71389820e+01,\n",
       "        9.18561081e+00,  4.13591158e+00,  4.77764745e-01,  0.00000000e+00,\n",
       "        0.00000000e+00,  0.00000000e+00,  0.00000000e+00,  9.72863301e-01,\n",
       "        7.84334954e+00,  2.72273605e+01,  4.48354283e+01,  6.32186642e+01,\n",
       "        9.64063925e+01,  1.22548658e+02,  1.40002936e+02,  1.71466721e+02,\n",
       "        2.23631370e+02,  3.49009078e+02,  5.59930208e+02,  7.93014987e+02,\n",
       "        9.50350093e+02,  1.02637709e+03,  1.02879193e+03,  9.20769879e+02,\n",
       "        6.45486927e+02,  3.39052676e+02,  1.31623416e+02,  3.93535307e+01,\n",
       "        1.59866862e+01,  8.47583761e+00,  2.05216234e+00,  2.24141042e-01,\n",
       "        0.00000000e+00,  0.00000000e+00,  0.00000000e+00,  1.43319235e+00,\n",
       "        6.14381857e+00,  1.90097078e+01,  4.00493776e+01,  7.21701854e+01,\n",
       "        1.19105904e+02,  1.67598768e+02,  2.32186295e+02,  3.24217202e+02,\n",
       "        4.48352565e+02,  6.24710124e+02,  8.11345529e+02,  9.43428570e+02,\n",
       "        1.01687432e+03,  1.03790077e+03,  9.99669019e+02,  8.43213766e+02,\n",
       "        5.54214149e+02,  2.69318789e+02,  1.06969304e+02,  4.86258442e+01,\n",
       "        3.01841733e+01,  1.53820994e+01,  4.71010138e+00,  1.52205418e+00,\n",
       "        0.00000000e+00,  0.00000000e+00,  0.00000000e+00,  1.97242950e+00,\n",
       "        9.59216831e+00,  3.19575689e+01,  8.34915438e+01,  1.64644965e+02,\n",
       "        2.56665220e+02,  3.64557072e+02,  4.99695256e+02,  6.56099897e+02,\n",
       "        8.21039421e+02,  9.88375248e+02,  1.08939038e+03,  1.13109816e+03,\n",
       "        1.10926291e+03,  1.07584239e+03,  9.89137814e+02,  7.71852808e+02,\n",
       "        4.87435113e+02,  2.38355163e+02,  1.17089360e+02,  7.22117126e+01,\n",
       "        5.03244494e+01,  2.65218562e+01,  9.75367674e+00,  2.74629037e-01,\n",
       "        0.00000000e+00,  0.00000000e+00,  1.59107744e-01,  6.00302097e+00,\n",
       "        2.74549113e+01,  9.11443741e+01,  2.01218569e+02,  3.48383151e+02,\n",
       "        5.04182017e+02,  6.76305489e+02,  8.61468121e+02,  1.03735789e+03,\n",
       "        1.20302177e+03,  1.31510155e+03,  1.32967053e+03,  1.27520971e+03,\n",
       "        1.19739956e+03,  1.13230348e+03,  9.74302918e+02,  7.28916207e+02,\n",
       "        4.70372169e+02,  2.75273220e+02,  1.82637173e+02,  1.30134541e+02,\n",
       "        9.11957378e+01,  4.76049277e+01,  1.59006675e+01,  9.69660517e-01,\n",
       "        0.00000000e+00,  0.00000000e+00,  7.32745695e-01,  1.43819273e+01,\n",
       "        6.97290397e+01,  1.92863560e+02,  3.84505829e+02,  5.88201618e+02,\n",
       "        7.91683546e+02,  9.85920311e+02,  1.14806837e+03,  1.28504572e+03,\n",
       "        1.39825732e+03,  1.44149044e+03,  1.40903095e+03,  1.34045946e+03,\n",
       "        1.27152961e+03,  1.15645541e+03,  9.68844609e+02,  7.28712629e+02,\n",
       "        5.25554845e+02,  3.82231104e+02,  2.90209490e+02,  2.16641348e+02,\n",
       "        1.43820695e+02,  7.47520534e+01,  1.75401394e+01,  7.52029908e-01,\n",
       "        0.00000000e+00,  0.00000000e+00,  1.54006934e+00,  3.41931727e+01,\n",
       "        1.34982174e+02,  3.19894903e+02,  5.70140963e+02,  8.08217636e+02,\n",
       "        1.00619083e+03,  1.15440116e+03,  1.24696023e+03,  1.32489752e+03,\n",
       "        1.36499554e+03,  1.37785108e+03,  1.37045440e+03,  1.34655630e+03,\n",
       "        1.27151187e+03,  1.14107756e+03,  9.57609881e+02,  7.65258500e+02,\n",
       "        6.12489527e+02,  4.95994376e+02,  3.96560304e+02,  2.94699729e+02,\n",
       "        1.95270888e+02,  9.29375462e+01,  1.77451971e+01,  8.01547528e-01,\n",
       "        0.00000000e+00,  0.00000000e+00,  1.38969030e+00,  5.59675111e+01,\n",
       "        2.02101343e+02,  4.38753612e+02,  7.13854317e+02,  9.59538310e+02,\n",
       "        1.11824578e+03,  1.22301768e+03,  1.28575668e+03,  1.30633442e+03,\n",
       "        1.32639581e+03,  1.34976396e+03,  1.36554906e+03,  1.35224717e+03,\n",
       "        1.28582282e+03,  1.15252383e+03,  1.00015879e+03,  8.44193722e+02,\n",
       "        7.17186673e+02,  6.11990510e+02,  4.91798930e+02,  3.64352231e+02,\n",
       "        2.25433758e+02,  9.07394382e+01,  1.27643597e+01,  1.18584641e+00,\n",
       "        0.00000000e+00,  0.00000000e+00,  2.08937736e+00,  6.96399369e+01,\n",
       "        2.50188404e+02,  5.06784672e+02,  8.06075135e+02,  1.06500229e+03,\n",
       "        1.23651910e+03,  1.33352025e+03,  1.36839129e+03,  1.38964595e+03,\n",
       "        1.40258715e+03,  1.40664252e+03,  1.40195255e+03,  1.36580602e+03,\n",
       "        1.27626782e+03,  1.15523889e+03,  1.04017154e+03,  9.26139278e+02,\n",
       "        8.08758273e+02,  6.80817498e+02,  5.27111512e+02,  3.61186494e+02,\n",
       "        2.00759907e+02,  7.31002581e+01,  1.06303121e+01,  6.85115179e-01,\n",
       "        0.00000000e+00,  3.11083529e-02,  4.10691536e+00,  7.31682216e+01,\n",
       "        2.55765460e+02,  5.05040185e+02,  8.18793070e+02,  1.10397562e+03,\n",
       "        1.33398679e+03,  1.47495504e+03,  1.52220464e+03,  1.53039582e+03,\n",
       "        1.49611066e+03,  1.43665720e+03,  1.35544591e+03,  1.26054275e+03,\n",
       "        1.17503918e+03,  1.08662638e+03,  1.02102476e+03,  9.27420005e+02,\n",
       "        7.92594239e+02,  6.27294068e+02,  4.43637765e+02,  2.79319607e+02,\n",
       "        1.43603428e+02,  4.36729999e+01,  6.67580370e+00,  0.00000000e+00,\n",
       "        0.00000000e+00,  4.42695791e-01,  5.62419170e+00,  5.67009197e+01,\n",
       "        2.02304092e+02,  4.16196047e+02,  7.01450640e+02,  1.00120433e+03,\n",
       "        1.26644405e+03,  1.44469189e+03,  1.50006257e+03,  1.47486637e+03,\n",
       "        1.37877835e+03,  1.24131542e+03,  1.09793895e+03,  9.82518284e+02,\n",
       "        9.14750751e+02,  8.82737267e+02,  8.36033374e+02,  7.53478363e+02,\n",
       "        6.11313116e+02,  4.49294959e+02,  2.93024958e+02,  1.76662597e+02,\n",
       "        8.63080981e+01,  2.29784199e+01,  2.95855134e+00,  0.00000000e+00,\n",
       "        0.00000000e+00,  0.00000000e+00,  3.16432629e+00,  3.04851020e+01,\n",
       "        1.19317551e+02,  2.60877968e+02,  4.61489811e+02,  7.01331920e+02,\n",
       "        9.24091104e+02,  1.07194062e+03,  1.11850239e+03,  1.06604318e+03,\n",
       "        9.41964139e+02,  7.84693499e+02,  6.60121757e+02,  5.76496890e+02,\n",
       "        5.46411707e+02,  5.34618498e+02,  5.13292671e+02,  4.46406208e+02,\n",
       "        3.53171795e+02,  2.50789228e+02,  1.59191797e+02,  8.70486006e+01,\n",
       "        3.59134615e+01,  8.39543145e+00,  5.18028087e-01,  0.00000000e+00,\n",
       "        0.00000000e+00,  0.00000000e+00,  2.37058733e-01,  6.63858118e+00,\n",
       "        3.73051995e+01,  9.53935984e+01,  1.80843097e+02,  2.81569564e+02,\n",
       "        3.76266898e+02,  4.34941685e+02,  4.51443869e+02,  4.17643129e+02,\n",
       "        3.61643095e+02,  2.94337422e+02,  2.44898917e+02,  2.10595320e+02,\n",
       "        2.03745559e+02,  1.98243049e+02,  1.86731110e+02,  1.63342319e+02,\n",
       "        1.34121899e+02,  1.01630106e+02,  6.27148230e+01,  3.00946450e+01,\n",
       "        9.62922847e+00,  2.43925575e+00,  2.44217480e-01,  0.00000000e+00,\n",
       "        0.00000000e+00,  0.00000000e+00,  0.00000000e+00,  1.16513510e-01,\n",
       "        2.69036078e+00,  9.49854804e+00,  2.01214097e+01,  3.15735199e+01,\n",
       "        3.89039006e+01,  4.32492511e+01,  4.48262599e+01,  4.59898824e+01,\n",
       "        4.66132509e+01,  4.46662058e+01,  4.33360743e+01,  4.02776808e+01,\n",
       "        3.93837691e+01,  3.67685588e+01,  3.22671500e+01,  2.57480649e+01,\n",
       "        2.14333919e+01,  1.76086414e+01,  1.29008287e+01,  5.86950847e+00,\n",
       "        3.02342026e+00,  1.38383281e+00,  2.05793774e-01,  0.00000000e+00,\n",
       "        0.00000000e+00,  0.00000000e+00,  0.00000000e+00,  0.00000000e+00,\n",
       "        0.00000000e+00,  0.00000000e+00,  6.64173548e-01,  9.64373971e-01,\n",
       "        9.64373971e-01,  9.77165184e-01,  1.26758727e+00,  1.46276802e+00,\n",
       "        1.67604624e+00,  2.94084019e+00,  4.58050510e+00,  5.11507408e+00,\n",
       "        5.09240225e+00,  4.78193126e+00,  4.00904200e+00,  2.46370895e+00,\n",
       "        1.90502161e+00,  1.24641966e+00,  6.18003847e-01,  9.64000319e-02,\n",
       "        3.98987929e-02,  1.82694473e-01,  2.18393392e-01,  0.00000000e+00,\n",
       "        0.00000000e+00,  0.00000000e+00,  0.00000000e+00,  0.00000000e+00,\n",
       "        0.00000000e+00,  0.00000000e+00,  0.00000000e+00,  0.00000000e+00,\n",
       "        0.00000000e+00,  0.00000000e+00,  0.00000000e+00,  0.00000000e+00,\n",
       "        0.00000000e+00,  0.00000000e+00,  0.00000000e+00,  0.00000000e+00,\n",
       "        0.00000000e+00,  0.00000000e+00,  0.00000000e+00,  0.00000000e+00,\n",
       "        0.00000000e+00,  0.00000000e+00,  0.00000000e+00,  0.00000000e+00,\n",
       "        0.00000000e+00,  0.00000000e+00,  0.00000000e+00,  0.00000000e+00,\n",
       "        0.00000000e+00,  0.00000000e+00,  0.00000000e+00,  0.00000000e+00,\n",
       "        0.00000000e+00,  0.00000000e+00,  0.00000000e+00,  0.00000000e+00,\n",
       "        0.00000000e+00,  0.00000000e+00,  0.00000000e+00,  0.00000000e+00,\n",
       "        0.00000000e+00,  0.00000000e+00,  0.00000000e+00,  0.00000000e+00,\n",
       "        0.00000000e+00,  0.00000000e+00,  0.00000000e+00,  0.00000000e+00,\n",
       "        0.00000000e+00,  0.00000000e+00,  0.00000000e+00,  0.00000000e+00,\n",
       "        0.00000000e+00,  0.00000000e+00,  0.00000000e+00,  0.00000000e+00])"
      ]
     },
     "execution_count": 399,
     "metadata": {},
     "output_type": "execute_result"
    }
   ],
   "source": [
    "reconstruct(X[0], 10, x_bar, PC)"
   ]
  },
  {
   "cell_type": "code",
   "execution_count": 417,
   "metadata": {},
   "outputs": [
    {
     "data": {
      "text/plain": [
       "<matplotlib.image.AxesImage at 0x7f04f6939940>"
      ]
     },
     "execution_count": 417,
     "metadata": {},
     "output_type": "execute_result"
    },
    {
     "data": {
      "image/png": "[encoded data removed]",
      "text/plain": [
       "<Figure size 432x288 with 1 Axes>"
      ]
     },
     "metadata": {
      "needs_background": "light"
     },
     "output_type": "display_data"
    }
   ],
   "source": [
    "#try to see the reconstructed image\n",
    "recon_test = np.reshape(reconstruct(X[899], 10, x_bar, PC), (28,28))\n",
    "#x_bar_show = np.reshape(x_bar, (28,28))\n",
    "plt.imshow(recon_test, cmap=\"Greys\")"
   ]
  },
  {
   "cell_type": "markdown",
   "metadata": {},
   "source": [
    "Here, I am not exactly sure why our reconstruction is not improving when we utilize more of the principal components. The reconstruction also seems like it is just the average image. However, The error should be improving dramatically when we add the first few principal components, up until the error is around 50%, and then we should start seeing the error plateau even as we add more principal components, until adding all 784 principal components will just yield the original image."
   ]
  },
  {
   "cell_type": "code",
   "execution_count": 410,
   "metadata": {},
   "outputs": [
    {
     "data": {
      "image/png": "[encoded data removed]",
      "text/plain": [
       "<Figure size 1008x288 with 5 Axes>"
      ]
     },
     "metadata": {
      "needs_background": "light"
     },
     "output_type": "display_data"
    }
   ],
   "source": [
    "#graph reconstructions\n",
    "f = plt.figure(figsize=(14,4))\n",
    "with sb.axes_style(\"darkgrid\"):\n",
    "    ax = f.add_subplot(1,5,1)\n",
    "    plt.imshow(np.reshape(X[0], (28,28)), cmap=\"Greys\")\n",
    "    ax.title.set_text(\"original image\")\n",
    "    ax = f.add_subplot(1,5,2)\n",
    "    plt.imshow(np.reshape(X[1], (28,28)), cmap=\"Greys\")\n",
    "    ax = f.add_subplot(1,5,3)\n",
    "    plt.imshow(np.reshape(X[2], (28,28)), cmap=\"Greys\")\n",
    "    ax = f.add_subplot(1,5,4)\n",
    "    plt.imshow(np.reshape(X[3], (28,28)), cmap=\"Greys\")\n",
    "    ax = f.add_subplot(1,5,5)\n",
    "    plt.imshow(np.reshape(X[4], (28,28)), cmap=\"Greys\")"
   ]
  },
  {
   "cell_type": "code",
   "execution_count": 403,
   "metadata": {},
   "outputs": [],
   "source": [
    "images_x0 = []\n",
    "for m in range(1,11):\n",
    "    images_x0.append(reconstruct(X[0],m,x_bar,PC))\n",
    "images_x1 = []\n",
    "for m in range(1,11):\n",
    "    images_x1.append(reconstruct(X[1],m,x_bar,PC))\n",
    "images_x2 = []\n",
    "for m in range(1,11):\n",
    "    images_x2.append(reconstruct(X[2],m,x_bar,PC))\n",
    "images_x3 = []\n",
    "for m in range(1,11):\n",
    "    images_x3.append(reconstruct(X[3],m,x_bar,PC))\n",
    "images_x4 = []\n",
    "for m in range(1,11):\n",
    "    images_x4.append(reconstruct(X[4],m,x_bar,PC))"
   ]
  },
  {
   "cell_type": "code",
   "execution_count": 404,
   "metadata": {},
   "outputs": [
    {
     "data": {
      "image/png": "[encoded data removed]",
      "text/plain": [
       "<Figure size 576x288 with 10 Axes>"
      ]
     },
     "metadata": {
      "needs_background": "light"
     },
     "output_type": "display_data"
    }
   ],
   "source": [
    "f = plt.figure(figsize=(8,4))\n",
    "with sb.axes_style(\"darkgrid\"):\n",
    "    ax = f.add_subplot(1,10,1)\n",
    "    plt.imshow(np.reshape(images_x0[0], (28,28)), cmap=\"Greys\")\n",
    "    ax.title.set_text(\"original image\")\n",
    "    ax = f.add_subplot(1,10,2)\n",
    "    plt.imshow(np.reshape(images_x0[1], (28,28)), cmap=\"Greys\")\n",
    "    ax = f.add_subplot(1,10,3)\n",
    "    plt.imshow(np.reshape(images_x0[2], (28,28)), cmap=\"Greys\")\n",
    "    ax = f.add_subplot(1,10,4)\n",
    "    plt.imshow(np.reshape(images_x0[3], (28,28)), cmap=\"Greys\")\n",
    "    ax = f.add_subplot(1,10,5)\n",
    "    plt.imshow(np.reshape(images_x0[4], (28,28)), cmap=\"Greys\")\n",
    "    ax = f.add_subplot(1,10,6)\n",
    "    plt.imshow(np.reshape(images_x0[5], (28,28)), cmap=\"Greys\")\n",
    "    ax = f.add_subplot(1,10,7)\n",
    "    plt.imshow(np.reshape(images_x0[6], (28,28)), cmap=\"Greys\")\n",
    "    ax = f.add_subplot(1,10,8)\n",
    "    plt.imshow(np.reshape(images_x0[7], (28,28)), cmap=\"Greys\")\n",
    "    ax = f.add_subplot(1,10,9)\n",
    "    plt.imshow(np.reshape(images_x0[8], (28,28)), cmap=\"Greys\")\n",
    "    ax = f.add_subplot(1,10,10)\n",
    "    plt.imshow(np.reshape(images_x0[9], (28,28)), cmap=\"Greys\")"
   ]
  },
  {
   "cell_type": "code",
   "execution_count": 405,
   "metadata": {},
   "outputs": [
    {
     "data": {
      "image/png": "[encoded data removed]",
      "text/plain": [
       "<Figure size 576x288 with 10 Axes>"
      ]
     },
     "metadata": {
      "needs_background": "light"
     },
     "output_type": "display_data"
    }
   ],
   "source": [
    "f = plt.figure(figsize=(8,4))\n",
    "with sb.axes_style(\"darkgrid\"):\n",
    "    ax = f.add_subplot(1,10,1)\n",
    "    plt.imshow(np.reshape(images_x1[0], (28,28)), cmap=\"Greys\")\n",
    "    ax.title.set_text(\"original image\")\n",
    "    ax = f.add_subplot(1,10,2)\n",
    "    plt.imshow(np.reshape(images_x1[1], (28,28)), cmap=\"Greys\")\n",
    "    ax = f.add_subplot(1,10,3)\n",
    "    plt.imshow(np.reshape(images_x1[2], (28,28)), cmap=\"Greys\")\n",
    "    ax = f.add_subplot(1,10,4)\n",
    "    plt.imshow(np.reshape(images_x1[3], (28,28)), cmap=\"Greys\")\n",
    "    ax = f.add_subplot(1,10,5)\n",
    "    plt.imshow(np.reshape(images_x1[4], (28,28)), cmap=\"Greys\")\n",
    "    ax = f.add_subplot(1,10,6)\n",
    "    plt.imshow(np.reshape(images_x1[5], (28,28)), cmap=\"Greys\")\n",
    "    ax = f.add_subplot(1,10,7)\n",
    "    plt.imshow(np.reshape(images_x1[6], (28,28)), cmap=\"Greys\")\n",
    "    ax = f.add_subplot(1,10,8)\n",
    "    plt.imshow(np.reshape(images_x1[7], (28,28)), cmap=\"Greys\")\n",
    "    ax = f.add_subplot(1,10,9)\n",
    "    plt.imshow(np.reshape(images_x1[8], (28,28)), cmap=\"Greys\")\n",
    "    ax = f.add_subplot(1,10,10)\n",
    "    plt.imshow(np.reshape(images_x1[9], (28,28)), cmap=\"Greys\")"
   ]
  },
  {
   "cell_type": "code",
   "execution_count": 406,
   "metadata": {},
   "outputs": [
    {
     "data": {
      "image/png": "[encoded data removed]",
      "text/plain": [
       "<Figure size 576x288 with 10 Axes>"
      ]
     },
     "metadata": {
      "needs_background": "light"
     },
     "output_type": "display_data"
    }
   ],
   "source": [
    "f = plt.figure(figsize=(8,4))\n",
    "with sb.axes_style(\"darkgrid\"):\n",
    "    ax = f.add_subplot(1,10,1)\n",
    "    plt.imshow(np.reshape(images_x0[0], (28,28)), cmap=\"Greys\")\n",
    "    ax.title.set_text(\"original image\")\n",
    "    ax = f.add_subplot(1,10,2)\n",
    "    plt.imshow(np.reshape(images_x2[1], (28,28)), cmap=\"Greys\")\n",
    "    ax = f.add_subplot(1,10,3)\n",
    "    plt.imshow(np.reshape(images_x2[2], (28,28)), cmap=\"Greys\")\n",
    "    ax = f.add_subplot(1,10,4)\n",
    "    plt.imshow(np.reshape(images_x2[3], (28,28)), cmap=\"Greys\")\n",
    "    ax = f.add_subplot(1,10,5)\n",
    "    plt.imshow(np.reshape(images_x2[4], (28,28)), cmap=\"Greys\")\n",
    "    ax = f.add_subplot(1,10,6)\n",
    "    plt.imshow(np.reshape(images_x2[5], (28,28)), cmap=\"Greys\")\n",
    "    ax = f.add_subplot(1,10,7)\n",
    "    plt.imshow(np.reshape(images_x2[6], (28,28)), cmap=\"Greys\")\n",
    "    ax = f.add_subplot(1,10,8)\n",
    "    plt.imshow(np.reshape(images_x2[7], (28,28)), cmap=\"Greys\")\n",
    "    ax = f.add_subplot(1,10,9)\n",
    "    plt.imshow(np.reshape(images_x2[8], (28,28)), cmap=\"Greys\")\n",
    "    ax = f.add_subplot(1,10,10)\n",
    "    plt.imshow(np.reshape(images_x2[9], (28,28)), cmap=\"Greys\")"
   ]
  },
  {
   "cell_type": "code",
   "execution_count": 300,
   "metadata": {},
   "outputs": [
    {
     "data": {
      "image/png": "[encoded data removed]",
      "text/plain": [
       "<Figure size 576x288 with 10 Axes>"
      ]
     },
     "metadata": {
      "needs_background": "light"
     },
     "output_type": "display_data"
    }
   ],
   "source": [
    "f = plt.figure(figsize=(8,4))\n",
    "with sb.axes_style(\"darkgrid\"):\n",
    "    ax = f.add_subplot(1,10,1)\n",
    "    plt.imshow(np.reshape(images_x3[0], (28,28)), cmap=\"Greys\")\n",
    "    ax.title.set_text(\"original image\")\n",
    "    ax = f.add_subplot(1,10,2)\n",
    "    plt.imshow(np.reshape(images_x3[1], (28,28)), cmap=\"Greys\")\n",
    "    ax = f.add_subplot(1,10,3)\n",
    "    plt.imshow(np.reshape(images_x3[2], (28,28)), cmap=\"Greys\")\n",
    "    ax = f.add_subplot(1,10,4)\n",
    "    plt.imshow(np.reshape(images_x3[3], (28,28)), cmap=\"Greys\")\n",
    "    ax = f.add_subplot(1,10,5)\n",
    "    plt.imshow(np.reshape(images_x3[4], (28,28)), cmap=\"Greys\")\n",
    "    ax = f.add_subplot(1,10,6)\n",
    "    plt.imshow(np.reshape(images_x3[5], (28,28)), cmap=\"Greys\")\n",
    "    ax = f.add_subplot(1,10,7)\n",
    "    plt.imshow(np.reshape(images_x3[6], (28,28)), cmap=\"Greys\")\n",
    "    ax = f.add_subplot(1,10,8)\n",
    "    plt.imshow(np.reshape(images_x3[7], (28,28)), cmap=\"Greys\")\n",
    "    ax = f.add_subplot(1,10,9)\n",
    "    plt.imshow(np.reshape(images_x3[8], (28,28)), cmap=\"Greys\")\n",
    "    ax = f.add_subplot(1,10,10)\n",
    "    plt.imshow(np.reshape(images_x3[9], (28,28)), cmap=\"Greys\")"
   ]
  },
  {
   "cell_type": "code",
   "execution_count": 407,
   "metadata": {},
   "outputs": [
    {
     "data": {
      "image/png": "[encoded data removed]",
      "text/plain": [
       "<Figure size 576x288 with 10 Axes>"
      ]
     },
     "metadata": {
      "needs_background": "light"
     },
     "output_type": "display_data"
    }
   ],
   "source": [
    "f = plt.figure(figsize=(8,4))\n",
    "with sb.axes_style(\"darkgrid\"):\n",
    "    ax = f.add_subplot(1,10,1)\n",
    "    plt.imshow(np.reshape(images_x4[0], (28,28)), cmap=\"Greys\")\n",
    "    ax.title.set_text(\"original image\")\n",
    "    ax = f.add_subplot(1,10,2)\n",
    "    plt.imshow(np.reshape(images_x4[1], (28,28)), cmap=\"Greys\")\n",
    "    ax = f.add_subplot(1,10,3)\n",
    "    plt.imshow(np.reshape(images_x4[2], (28,28)), cmap=\"Greys\")\n",
    "    ax = f.add_subplot(1,10,4)\n",
    "    plt.imshow(np.reshape(images_x4[3], (28,28)), cmap=\"Greys\")\n",
    "    ax = f.add_subplot(1,10,5)\n",
    "    plt.imshow(np.reshape(images_x4[4], (28,28)), cmap=\"Greys\")\n",
    "    ax = f.add_subplot(1,10,6)\n",
    "    plt.imshow(np.reshape(images_x4[5], (28,28)), cmap=\"Greys\")\n",
    "    ax = f.add_subplot(1,10,7)\n",
    "    plt.imshow(np.reshape(images_x4[6], (28,28)), cmap=\"Greys\")\n",
    "    ax = f.add_subplot(1,10,8)\n",
    "    plt.imshow(np.reshape(images_x4[7], (28,28)), cmap=\"Greys\")\n",
    "    ax = f.add_subplot(1,10,9)\n",
    "    plt.imshow(np.reshape(images_x4[8], (28,28)), cmap=\"Greys\")\n",
    "    ax = f.add_subplot(1,10,10)\n",
    "    plt.imshow(np.reshape(images_x4[9], (28,28)), cmap=\"Greys\")"
   ]
  },
  {
   "cell_type": "markdown",
   "metadata": {},
   "source": [
    "# TODO: talk about the proper k (num of principal components) for reconstruction (also mention how it doesnt look right for some reason, but discuss the theory)"
   ]
  },
  {
   "cell_type": "code",
   "execution_count": 356,
   "metadata": {},
   "outputs": [
    {
     "name": "stdout",
     "output_type": "stream",
     "text": [
      "30596\n",
      "5000\n",
      "(784,)\n"
     ]
    }
   ],
   "source": [
    "#prime the set of 0,1,2,3,4's images\n",
    "image_samples = []\n",
    "image_labels = []\n",
    "correct_samples = np.isin(labels, [0,1,2,3,4])\n",
    "for i in range(0,len(labels)):\n",
    "    if(correct_samples[i]):\n",
    "        image_samples.append(all_images[i])\n",
    "        image_labels.append(labels[i])\n",
    "print(len(image_samples))\n",
    "image_samples = image_samples[0:5000]\n",
    "image_labels = image_labels[0:5000]\n",
    "print(len(image_samples))\n",
    "X = image_samples[:]\n",
    "y = image_labels[:]\n",
    "print(X[0].shape)"
   ]
  },
  {
   "cell_type": "code",
   "execution_count": 358,
   "metadata": {},
   "outputs": [],
   "source": [
    "knn = KNeighborsClassifier(n_neighbors=1)\n",
    "knn = knn.fit(X,y)"
   ]
  },
  {
   "cell_type": "code",
   "execution_count": 395,
   "metadata": {},
   "outputs": [
    {
     "name": "stdout",
     "output_type": "stream",
     "text": [
      "[4]\n"
     ]
    },
    {
     "data": {
      "image/png": "[encoded data removed]",
      "text/plain": [
       "<Figure size 432x288 with 1 Axes>"
      ]
     },
     "metadata": {
      "needs_background": "light"
     },
     "output_type": "display_data"
    }
   ],
   "source": [
    "#test prediction\n",
    "chosen = np.isin(y_test, [0,1,2,3,4])\n",
    "X_test = x_test[chosen]\n",
    "Y_test = y_test[chosen]\n",
    "X_test = X_test[0:5000]\n",
    "Y_test = Y_test[0:5000]\n",
    "X_test = np.reshape(X_test, (5000, 784))\n",
    "test_ = np.reshape(X_test[19], (28,28))\n",
    "plt.imshow(test_, cmap=\"Greys\")\n",
    "print(knn.predict([X_test[19]]))\n",
    "#congrats it did pretty good jorb"
   ]
  },
  {
   "cell_type": "code",
   "execution_count": 397,
   "metadata": {},
   "outputs": [
    {
     "name": "stdout",
     "output_type": "stream",
     "text": [
      "0.9824\n"
     ]
    }
   ],
   "source": [
    "#get the predictions\n",
    "preds = []\n",
    "for i in range(0, len(Y_test)):\n",
    "    preds.append(knn.predict([X_test[i]]))\n",
    "print(accuracy_score(Y_test, preds))"
   ]
  },
  {
   "cell_type": "markdown",
   "metadata": {},
   "source": [
    "# TODO: need to do reconstruction knn test, and then check accuracy, discuss how increasing m will mean the reconstruction is better and thus more accurate"
   ]
  },
  {
   "cell_type": "code",
   "execution_count": null,
   "metadata": {},
   "outputs": [],
   "source": []
  }
 ],
 "metadata": {
  "kernelspec": {
   "display_name": "Python 3",
   "language": "python",
   "name": "python3"
  },
  "language_info": {
   "codemirror_mode": {
    "name": "ipython",
    "version": 3
   },
   "file_extension": ".py",
   "mimetype": "text/x-python",
   "name": "python",
   "nbconvert_exporter": "python",
   "pygments_lexer": "ipython3",
   "version": "3.6.6"
  }
 },
 "nbformat": 4,
 "nbformat_minor": 2
}
