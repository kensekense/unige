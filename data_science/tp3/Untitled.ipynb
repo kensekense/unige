{
 "cells": [
  {
   "cell_type": "code",
   "execution_count": 5,
   "metadata": {},
   "outputs": [],
   "source": [
    "#Ning\n",
    "#16 October 2019\n",
    "#Data Science TP3\n",
    "\n",
    "from mnist import MNIST\n",
    "import random\n",
    "import numpy as np\n",
    "from sklearn.neighbors import NearestNeighbors\n",
    "from sklearn.decomposition import PCA\n",
    "\n",
    "def load_MNIST_data():\n",
    "    '''\n",
    "    loads the MNIST dataset downloaded from the official website in python using MNIST library.\n",
    "    '''\n",
    "\n",
    "    data = MNIST('mnistdata')\n",
    "\n",
    "    #images_train is a 60,000 sample list of 28x28 imgs\n",
    "    #labels_train is a 60,000 digit list of labels\n",
    "    images_train, labels_train = data.load_training()\n",
    "\n",
    "    #TODO: do some action here\n",
    "    return images_train, labels_train\n",
    "\n",
    "\n",
    "if __name__ == \"__main__\":\n",
    "\n",
    "    training_set, training_labels = load_MNIST_data() #we can segment and reserve training set\n"
   ]
  },
  {
   "cell_type": "code",
   "execution_count": null,
   "metadata": {},
   "outputs": [],
   "source": []
  },
  {
   "cell_type": "code",
   "execution_count": null,
   "metadata": {},
   "outputs": [],
   "source": []
  }
 ],
 "metadata": {
  "kernelspec": {
   "display_name": "Python 3",
   "language": "python",
   "name": "python3"
  },
  "language_info": {
   "codemirror_mode": {
    "name": "ipython",
    "version": 3
   },
   "file_extension": ".py",
   "mimetype": "text/x-python",
   "name": "python",
   "nbconvert_exporter": "python",
   "pygments_lexer": "ipython3",
   "version": "3.6.6"
  }
 },
 "nbformat": 4,
 "nbformat_minor": 2
}
