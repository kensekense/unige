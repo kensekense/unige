{
 "cells": [
  {
   "cell_type": "markdown",
   "metadata": {},
   "source": [
    "# Data Science TP6\n",
    "Tientso Ning\n",
    "01 December 2019"
   ]
  },
  {
   "cell_type": "code",
   "execution_count": 13,
   "metadata": {},
   "outputs": [],
   "source": [
    "import numpy as np\n",
    "from scipy.stats import norm\n",
    "import random\n",
    "import math"
   ]
  },
  {
   "cell_type": "markdown",
   "metadata": {},
   "source": [
    "Values taken from previous (some corrections made):\n",
    "\n",
    "H(U) = 0.625log(0.625) + 0.375log(0.375) = 0.9544\n",
    "\n",
    "H(U|V) = 0.9512\n",
    "\n",
    "H(W) = 1.0\n",
    "\n",
    "H(W|U) = 0.4512\n",
    "\n",
    "H(U|V,W) = 0.3443\n",
    "\n",
    "I(U;V) = H(U) - H(U|V) = 0.9544 - 0.9512 = 0.0032\n",
    "\n",
    "I(U;W) = H(W) - H(W|U) = 1.0 - 0.4512 = 0.5488\n",
    "\n",
    "I(U;V,W) = H(U) - H(U|V,W) = 0.9544 - 0.3443 = 0.6101"
   ]
  },
  {
   "cell_type": "markdown",
   "metadata": {},
   "source": [
    "# Binary Hypothesis Testing\n",
    "\n",
    "### 1. General Idea\n",
    "1. Set up as a Hypothesis Testing Setup\n",
    "\n",
    "2. Find the minimum required samples for the detector to have P<sub>m</sub> and P<sub>FA</sub> <= 0.001 (using the approximation of the Q-function)\n",
    "\n",
    "### Communications System\n",
    "1. Generate a random binary sequence (length k= 10,000)\n",
    "2. Use the N value calculated as the interval\n",
    "3. Total length should be kN\n",
    "4. Add a gaussian noise to create the output\n",
    "5. Estimate x[n] given generated y[n]\n",
    "6. Plot\n",
    "7. \n",
    "\n",
    "### Neyman-Pearson Approach\n",
    "1. formulate the problem in hypothesis testing setup\n",
    "2. plot a ROC curve\n",
    "\n",
    "# Multiple Hypothesis Testing\n"
   ]
  },
  {
   "cell_type": "code",
   "execution_count": 11,
   "metadata": {},
   "outputs": [
    {
     "name": "stdout",
     "output_type": "stream",
     "text": [
      "0.0013498980316300933\n",
      "3.167124183311986e-05\n"
     ]
    }
   ],
   "source": [
    "print(norm.sf(3))\n",
    "print(norm.sf(4))"
   ]
  },
  {
   "cell_type": "code",
   "execution_count": 24,
   "metadata": {},
   "outputs": [],
   "source": [
    "seq = np.random.randint(2, size=(10000,))\n",
    "N = 4\n"
   ]
  },
  {
   "cell_type": "code",
   "execution_count": null,
   "metadata": {},
   "outputs": [],
   "source": []
  }
 ],
 "metadata": {
  "kernelspec": {
   "display_name": "Python 3",
   "language": "python",
   "name": "python3"
  },
  "language_info": {
   "codemirror_mode": {
    "name": "ipython",
    "version": 3
   },
   "file_extension": ".py",
   "mimetype": "text/x-python",
   "name": "python",
   "nbconvert_exporter": "python",
   "pygments_lexer": "ipython3",
   "version": "3.6.8"
  }
 },
 "nbformat": 4,
 "nbformat_minor": 2
}
