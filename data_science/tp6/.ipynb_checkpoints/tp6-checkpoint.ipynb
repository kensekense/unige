{
 "cells": [
  {
   "cell_type": "markdown",
   "metadata": {},
   "source": [
    "# Data Science TP6\n",
    "Tientso Ning\n",
    "01 December 2019"
   ]
  },
  {
   "cell_type": "code",
   "execution_count": 1,
   "metadata": {},
   "outputs": [],
   "source": [
    "import numpy as np\n",
    "import random\n",
    "import math"
   ]
  },
  {
   "cell_type": "markdown",
   "metadata": {},
   "source": [
    "# TODO: List of concepts to conceptualize\n",
    "1. Hypothesis Testing\n",
    "2. Probability of miss and acceptance\n",
    "3. Null and Alternative hypothesis\n",
    "4. Detection Rule\n",
    "5. Bayesian Strategy\n",
    "6. Additive White Gaussian Noise\n",
    "7. Neyman-Pearson criteria\n",
    "8. ROC curve\n",
    "\n",
    "## For now, this will have to do."
   ]
  },
  {
   "cell_type": "code",
   "execution_count": null,
   "metadata": {},
   "outputs": [],
   "source": []
  }
 ],
 "metadata": {
  "kernelspec": {
   "display_name": "Python 3",
   "language": "python",
   "name": "python3"
  },
  "language_info": {
   "codemirror_mode": {
    "name": "ipython",
    "version": 3
   },
   "file_extension": ".py",
   "mimetype": "text/x-python",
   "name": "python",
   "nbconvert_exporter": "python",
   "pygments_lexer": "ipython3",
   "version": "3.6.8"
  }
 },
 "nbformat": 4,
 "nbformat_minor": 2
}
