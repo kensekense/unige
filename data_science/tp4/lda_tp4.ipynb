{
 "cells": [
  {
   "cell_type": "markdown",
   "metadata": {},
   "source": [
    "# Data Science TP4 - LDA \n",
    "Ning, Tien-Tso"
   ]
  },
  {
   "cell_type": "markdown",
   "metadata": {},
   "source": [
    "# Data set up"
   ]
  },
  {
   "cell_type": "code",
   "execution_count": 1,
   "metadata": {},
   "outputs": [],
   "source": [
    "#Ning\n",
    "import numpy as np\n",
    "import pandas as pd\n",
    "import tensorflow as tf\n",
    "from sklearn.discriminant_analysis import LinearDiscriminantAnalysis\n",
    "from sklearn.decomposition import PCA\n",
    "from sklearn.neighbors import KNeighborsClassifier\n",
    "from sklearn.metrics import confusion_matrix\n",
    "import matplotlib.pyplot as plt\n",
    "import seaborn as sb\n",
    "from sklearn.cluster import KMeans"
   ]
  },
  {
   "cell_type": "code",
   "execution_count": 2,
   "metadata": {},
   "outputs": [
    {
     "name": "stdout",
     "output_type": "stream",
     "text": [
      "60000\n",
      "(60000, 784)\n"
     ]
    }
   ],
   "source": [
    "#load MNIST dataset\n",
    "(training_set, labels), (x_test,y_test) = tf.keras.datasets.mnist.load_data()\n",
    "all_images = np.reshape(training_set, (60000,784))\n",
    "print(len(all_images))\n",
    "print(all_images.shape)"
   ]
  },
  {
   "cell_type": "code",
   "execution_count": 3,
   "metadata": {},
   "outputs": [
    {
     "name": "stdout",
     "output_type": "stream",
     "text": [
      "(784,)\n"
     ]
    }
   ],
   "source": [
    "our_images = []\n",
    "our_labels = []\n",
    "\n",
    "threes_sevens = np.isin(labels, [3,7])\n",
    "for i in range(0, len(labels)):\n",
    "    if(threes_sevens[i]):\n",
    "        our_images.append(all_images[i])\n",
    "        our_labels.append(labels[i])\n",
    "        \n",
    "our_images = our_images[0:2000]\n",
    "our_labels = our_labels[0:2000]\n",
    "\n",
    "X = our_images[:]\n",
    "y = our_labels[:]\n",
    "print(X[0].shape)"
   ]
  },
  {
   "cell_type": "code",
   "execution_count": 4,
   "metadata": {},
   "outputs": [
    {
     "name": "stdout",
     "output_type": "stream",
     "text": [
      "(50, 784)\n"
     ]
    }
   ],
   "source": [
    "pca = PCA(n_components=50)\n",
    "pca_onX = pca.fit(X)\n",
    "PC = pca_onX.components_\n",
    "print(PC.shape)\n",
    "x_bar = np.mean(X, axis=0)"
   ]
  },
  {
   "cell_type": "code",
   "execution_count": 5,
   "metadata": {},
   "outputs": [],
   "source": [
    "def reconstruct(x_i, m, x_bar, PC):\n",
    "    '''\n",
    "    reconstruct x_i from X, where x_i is a len 784 vector image.\n",
    "    '''\n",
    "    recon = np.zeros((784,))\n",
    "    for j in range(0, m):\n",
    "        recon += np.inner((x_i-x_bar), PC[j])*PC[j]\n",
    "    recon = recon + x_bar\n",
    "    return recon"
   ]
  },
  {
   "cell_type": "code",
   "execution_count": 6,
   "metadata": {},
   "outputs": [
    {
     "name": "stdout",
     "output_type": "stream",
     "text": [
      "2000\n"
     ]
    }
   ],
   "source": [
    "recon_X = []\n",
    "for i in range(0, len(X)):\n",
    "    recon_X.append(reconstruct(X[i], 50, x_bar, PC))\n",
    "\n",
    "print(len(recon_X))"
   ]
  },
  {
   "cell_type": "code",
   "execution_count": 7,
   "metadata": {},
   "outputs": [
    {
     "name": "stderr",
     "output_type": "stream",
     "text": [
      "/home/kense/.local/lib/python3.6/site-packages/sklearn/discriminant_analysis.py:388: UserWarning: Variables are collinear.\n",
      "  warnings.warn(\"Variables are collinear.\")\n"
     ]
    }
   ],
   "source": [
    "lda = LinearDiscriminantAnalysis()\n",
    "LDA = lda.fit(recon_X, y) #using reconstructed X"
   ]
  },
  {
   "cell_type": "code",
   "execution_count": 8,
   "metadata": {},
   "outputs": [
    {
     "name": "stdout",
     "output_type": "stream",
     "text": [
      "2000\n",
      "(784,)\n"
     ]
    }
   ],
   "source": [
    "threes_sevens = np.isin(y_test, [3,7])\n",
    "\n",
    "X_test = x_test[threes_sevens]\n",
    "Y_test = y_test[threes_sevens]\n",
    "X_test = X_test[0:2000]\n",
    "Y_test = Y_test[0:2000]\n",
    "X_test = np.reshape(X_test, (2000,784))\n",
    "\n",
    "\n",
    "print(len(X_test))\n",
    "print(X_test[0].shape)"
   ]
  },
  {
   "cell_type": "code",
   "execution_count": 9,
   "metadata": {},
   "outputs": [
    {
     "name": "stdout",
     "output_type": "stream",
     "text": [
      "2000\n"
     ]
    }
   ],
   "source": [
    "x_bar_test = np.mean(X_test, axis=0)\n",
    "recon_X_test = []\n",
    "for i in range(0, len(X_test)):\n",
    "    recon_X_test.append(reconstruct(X_test[i], 50, x_bar_test, PC))\n",
    "print(len(recon_X_test))"
   ]
  },
  {
   "cell_type": "code",
   "execution_count": 10,
   "metadata": {},
   "outputs": [
    {
     "name": "stdout",
     "output_type": "stream",
     "text": [
      "2000\n"
     ]
    }
   ],
   "source": [
    "pred = []\n",
    "for i in range(0, len(recon_X_test)):\n",
    "    pred.append(LDA.predict([recon_X_test[i]])[0])\n",
    "print(len(pred))"
   ]
  },
  {
   "cell_type": "markdown",
   "metadata": {},
   "source": [
    "# LDA applied classification - Confusion Matrix"
   ]
  },
  {
   "cell_type": "code",
   "execution_count": 11,
   "metadata": {},
   "outputs": [
    {
     "name": "stdout",
     "output_type": "stream",
     "text": [
      "[[971  23]\n",
      " [ 28 978]]\n"
     ]
    }
   ],
   "source": [
    "print(confusion_matrix(Y_test,pred))"
   ]
  },
  {
   "cell_type": "markdown",
   "metadata": {},
   "source": [
    "# k-NN classification - Confusion Matrix"
   ]
  },
  {
   "cell_type": "code",
   "execution_count": 12,
   "metadata": {},
   "outputs": [],
   "source": [
    "knn = KNeighborsClassifier(n_neighbors=1)\n",
    "KNN = knn.fit(X,y)"
   ]
  },
  {
   "cell_type": "code",
   "execution_count": 13,
   "metadata": {},
   "outputs": [
    {
     "name": "stdout",
     "output_type": "stream",
     "text": [
      "[[ 978   16]\n",
      " [   3 1003]]\n"
     ]
    }
   ],
   "source": [
    "knn_pred = []\n",
    "for i in range(0, len(recon_X_test)):\n",
    "    knn_pred.append(KNN.predict([recon_X_test[i]])[0])\n",
    "\n",
    "print(confusion_matrix(Y_test,knn_pred))"
   ]
  },
  {
   "cell_type": "code",
   "execution_count": 14,
   "metadata": {},
   "outputs": [
    {
     "name": "stdout",
     "output_type": "stream",
     "text": [
      "0.9745\n",
      "0.9905\n"
     ]
    }
   ],
   "source": [
    "from sklearn.metrics import accuracy_score\n",
    "print(accuracy_score(Y_test, pred))\n",
    "print(accuracy_score(Y_test, knn_pred))"
   ]
  },
  {
   "cell_type": "markdown",
   "metadata": {},
   "source": [
    "It would appear that the k-NN classification still provides a slightly better accuracy when applied to the images."
   ]
  },
  {
   "cell_type": "code",
   "execution_count": 15,
   "metadata": {},
   "outputs": [],
   "source": [
    "from sklearn.cluster import KMeans\n",
    "KMEANS2 = KMeans(n_clusters = 2).fit(recon_X_test)"
   ]
  },
  {
   "cell_type": "code",
   "execution_count": 28,
   "metadata": {},
   "outputs": [],
   "source": [
    "centers = []\n",
    "for k in range(2, 11):\n",
    "    KMEANS = KMeans(n_clusters = k).fit(recon_X_test)\n",
    "    centers.append(KMEANS.cluster_centers_)"
   ]
  },
  {
   "cell_type": "code",
   "execution_count": 107,
   "metadata": {},
   "outputs": [
    {
     "data": {
      "text/plain": [
       "1348994.1788250275"
      ]
     },
     "execution_count": 107,
     "metadata": {},
     "output_type": "execute_result"
    }
   ],
   "source": [
    "np.linalg.norm(recon_X_test[333]-centers[8][5])**2"
   ]
  },
  {
   "cell_type": "code",
   "execution_count": 109,
   "metadata": {},
   "outputs": [
    {
     "data": {
      "image/png": "[encoded data removed]",
      "text/plain": [
       "<Figure size 432x288 with 1 Axes>"
      ]
     },
     "metadata": {
      "needs_background": "light"
     },
     "output_type": "display_data"
    }
   ],
   "source": [
    "x = [2,3,4,5,6,7,8,9,10]\n",
    "y = [3186569.440764004, 3492874.8093029126, 1530246.109457306, 1766199.3291345693, 976182.5327687545, 986087.0737272679, 1944985.804599274, 1319632.520682386, 1348994.1788250275]\n",
    "data = pd.DataFrame({\"x\":x, \"y\":y})\n",
    "f = plt.figure()\n",
    "with sb.axes_style(\"darkgrid\"):\n",
    "    ax = sb.lineplot(x=\"x\", y=\"y\", data=data)\n",
    "    ax.title.set_text(\"J over k\")\n",
    "    ax.set(xlabel=\"k\", ylabel=\"J\")"
   ]
  },
  {
   "cell_type": "markdown",
   "metadata": {},
   "source": [
    "As the number of clusters k increases, we should see that the distance of points to their respective cluster center should decrease, since there are more defined areas or clusters to be a part of. Take the trivial case of two clusters of data, with k = 1. We can immediately tell that the k will be between the two clusters, and the distance will be the mean. However, if we increase k = 2, we can tell that the k values will eventually shift to be the centers of the two respective cluster's centers, and the distance J will be shorter."
   ]
  },
  {
   "cell_type": "code",
   "execution_count": 19,
   "metadata": {},
   "outputs": [],
   "source": [
    "Y_new = []\n",
    "for i in range(0, len(Y_test)):\n",
    "    if Y_test[i] == 3:\n",
    "        Y_new.append(0)\n",
    "    else:\n",
    "        Y_new.append(1)"
   ]
  },
  {
   "cell_type": "code",
   "execution_count": 20,
   "metadata": {},
   "outputs": [
    {
     "name": "stdout",
     "output_type": "stream",
     "text": [
      "[[945  49]\n",
      " [ 22 984]]\n"
     ]
    }
   ],
   "source": [
    "kmeans_pred = KMEANS2.labels_\n",
    "print(confusion_matrix(Y_new, kmeans_pred))"
   ]
  },
  {
   "cell_type": "code",
   "execution_count": 21,
   "metadata": {},
   "outputs": [
    {
     "name": "stdout",
     "output_type": "stream",
     "text": [
      "1902\n",
      "(784,)\n"
     ]
    }
   ],
   "source": [
    "threes_fives = np.isin(y_test, [3,5])\n",
    "\n",
    "X_35s = x_test[threes_fives]\n",
    "Y_35s = y_test[threes_fives]\n",
    "X_35s = np.reshape(X_35s, (1902,784))\n",
    "Y_35s = Y_35s[0:1902]\n",
    "\n",
    "print(len(X_35s))\n",
    "print(X_35s[0].shape)"
   ]
  },
  {
   "cell_type": "code",
   "execution_count": 22,
   "metadata": {},
   "outputs": [
    {
     "name": "stdout",
     "output_type": "stream",
     "text": [
      "1902\n"
     ]
    }
   ],
   "source": [
    "pca = PCA(n_components=50)\n",
    "pca_onX = pca.fit(X_35s)\n",
    "PC = pca_onX.components_\n",
    "x_bar = np.mean(X, axis=0)\n",
    "x_bar_35s = np.mean(X_35s, axis=0)\n",
    "recon_35s = []\n",
    "for i in range(0, len(X_35s)):\n",
    "    recon_35s.append(reconstruct(X_35s[i], 50, x_bar_35s, PC))\n",
    "print(len(recon_35s))"
   ]
  },
  {
   "cell_type": "code",
   "execution_count": 23,
   "metadata": {},
   "outputs": [],
   "source": [
    "KMEANS35 = KMeans(n_clusters = 2).fit(recon_35s)"
   ]
  },
  {
   "cell_type": "code",
   "execution_count": 24,
   "metadata": {},
   "outputs": [
    {
     "name": "stdout",
     "output_type": "stream",
     "text": [
      "[[547 345]\n",
      " [187 823]]\n"
     ]
    }
   ],
   "source": [
    "Y_new_35s = []\n",
    "for i in range(0, len(Y_35s)):\n",
    "    if Y_35s[i] == 3:\n",
    "        Y_new_35s.append(1)\n",
    "    elif Y_35s[i] == 5:\n",
    "        Y_new_35s.append(0)\n",
    "\n",
    "kmeans_pred_35s = KMEANS35.labels_\n",
    "print(confusion_matrix(Y_new_35s, kmeans_pred_35s))"
   ]
  },
  {
   "cell_type": "markdown",
   "metadata": {},
   "source": [
    "The 3-7s problem is a lot easier to classify than the 3-5s problem because from the images, we can tell that the images for 3s and 5s share closer features, and thus would be closer together and harder to separate between clusters. This means that overall the 3-5s problem, we see a lot more mis-classified points compared to the 3-7s problem."
   ]
  }
 ],
 "metadata": {
  "kernelspec": {
   "display_name": "Python 3",
   "language": "python",
   "name": "python3"
  },
  "language_info": {
   "codemirror_mode": {
    "name": "ipython",
    "version": 3
   },
   "file_extension": ".py",
   "mimetype": "text/x-python",
   "name": "python",
   "nbconvert_exporter": "python",
   "pygments_lexer": "ipython3",
   "version": "3.6.6"
  }
 },
 "nbformat": 4,
 "nbformat_minor": 2
}
